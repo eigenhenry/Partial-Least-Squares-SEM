{
 "cells": [
  {
   "cell_type": "markdown",
   "metadata": {},
   "source": [
    "# PartialLeastSquaresSEM\n",
    "\n",
    "# Henry Salgado\n",
    "\n",
    "This repo conducts a Structure Equation Modeling on the COACHE Data Set"
   ]
  },
  {
   "cell_type": "code",
   "execution_count": 2,
   "metadata": {
    "vscode": {
     "languageId": "r"
    }
   },
   "outputs": [
    {
     "name": "stdout",
     "output_type": "stream",
     "text": [
      "\n",
      "  There is a binary version available but the source version is later:\n",
      "       binary source needs_compilation\n",
      "seminr  2.3.2  2.3.4             FALSE\n",
      "\n"
     ]
    },
    {
     "name": "stderr",
     "output_type": "stream",
     "text": [
      "installing the source package 'seminr'\n",
      "\n",
      "\n"
     ]
    },
    {
     "name": "stdout",
     "output_type": "stream",
     "text": [
      "\n",
      "The downloaded binary packages are in\n",
      "\t/var/folders/gk/cvk0vx853198tmxc1bd6_x240000gn/T//RtmpnZFRh1/downloaded_packages\n",
      "\n",
      "  There is a binary version available but the source version is later:\n",
      "        binary source needs_compilation\n",
      "writexl  1.4.2  1.5.1              TRUE\n",
      "\n"
     ]
    },
    {
     "name": "stderr",
     "output_type": "stream",
     "text": [
      "installing the source package 'writexl'\n",
      "\n",
      "\n"
     ]
    },
    {
     "name": "stdout",
     "output_type": "stream",
     "text": [
      "\n",
      "  There is a binary version available but the source version is later:\n",
      "        binary source needs_compilation\n",
      "ggplot2  3.4.4  3.5.1             FALSE\n",
      "\n"
     ]
    },
    {
     "name": "stderr",
     "output_type": "stream",
     "text": [
      "installing the source package 'ggplot2'\n",
      "\n",
      "\n"
     ]
    }
   ],
   "source": [
    "install.packages(\"seminr\")     # For SEM modeling\n",
    "install.packages(\"readxl\")     # For reading Excel files\n",
    "install.packages(\"writexl\")    # For writing Excel files\n",
    "install.packages(\"ggplot2\") "
   ]
  },
  {
   "cell_type": "code",
   "execution_count": 3,
   "metadata": {
    "vscode": {
     "languageId": "r"
    }
   },
   "outputs": [
    {
     "ename": "ERROR",
     "evalue": "Error in parse(text = input): <text>:22:1: unexpected symbol\n21: # Structural Model\n22: structure\n    ^\n",
     "output_type": "error",
     "traceback": [
      "Error in parse(text = input): <text>:22:1: unexpected symbol\n21: # Structural Model\n22: structure\n    ^\nTraceback:\n"
     ]
    }
   ],
   "source": [
    "library(seminr)\n",
    "library(readxl)\n",
    "library(writexl)\n",
    "library(ggplot2)\n",
    "\n",
    "# Load data\n",
    "data <- read.csv('/Users/henrysalgado/Desktop/Coache Data Analysis/october24_forest_imputed_data.csv')\n",
    "\n",
    "# Measurement Model\n",
    "measurements <- constructs(\n",
    "  reflective(\"Chair_Support\", c(\"q185h\", \"q185i\", \"q185j\", \"q185k\", \"q215l\", \"q185l\")),\n",
    "  reflective(\"Department_feedback_and_Support\", c(\"q215a\", \"q215b\", \"q215d\", \"q215i\")),\n",
    "  reflective(\"Inst_support\", c( \"q90c\", \"q90d\", \"q90e\", \"q90f\", \"q90h\")),\n",
    "  reflective(\"Relatedness\", c(\"q195a\", \"q195b\", \"q195e\", \"q205a\", \"q205d\", \"q205c\", \"q210c\", \"q212a\")),\n",
    "  reflective(\"Competence\", c(\"q45a\", \"q45c\", \"q45e\")),\n",
    "  reflective(\"Volition_Autonomy\", c(\"q60c\", \"q60d\", \"q70c\", \"q70h\",\"q60a\",\"q70a\", \"q70b\", \"q70e\"),\n",
    "  reflective(\"Teaching_and_Service_Satisfaction\", c(\"q70a\", \"q70b\", \"q70e\")),\n",
    "  reflective(\"Global_Satisfaction\", c(\"q245d\", \"q250a\", \"q250b\"))\n",
    ")\n",
    "\n",
    "# Structural Model\n",
    "structure <- relationships(\n",
    "  paths(from = c(\"Chair_Support\", \"Department_feedback_and_Support\", \"Inst_support\"),\n",
    "        to = c(\"Relatedness\", \"Volition_Autonomy\")),\n",
    "  paths(from = c(\"Volition_Autonomy\", \"Relatedness\"),\n",
    "        to = c(\"Global_Satisfaction\"))\n",
    ")\n",
    "\n",
    "# Estimate the SEM model\n",
    "pls_model <- estimate_pls(data = data, measurement_model = measurements, structural_model = structure)\n",
    "\n",
    "summary <- summary(pls_model)\n",
    "\n"
   ]
  },
  {
   "cell_type": "markdown",
   "metadata": {},
   "source": [
    "This number should be lower than 300"
   ]
  },
  {
   "cell_type": "code",
   "execution_count": 24,
   "metadata": {
    "vscode": {
     "languageId": "r"
    }
   },
   "outputs": [
    {
     "data": {
      "text/html": [
       "5"
      ],
      "text/latex": [
       "5"
      ],
      "text/markdown": [
       "5"
      ],
      "text/plain": [
       "[1] 5"
      ]
     },
     "metadata": {},
     "output_type": "display_data"
    }
   ],
   "source": [
    "summary$iterations"
   ]
  },
  {
   "cell_type": "markdown",
   "metadata": {},
   "source": [
    "Indicator Reliability: Loadings above 0.70 are recommended, they indicaate 50 percent of indicators variance\n",
    "Indicators with very low loadings, that is below 0.40 should be removed "
   ]
  },
  {
   "cell_type": "code",
   "execution_count": 25,
   "metadata": {
    "vscode": {
     "languageId": "r"
    }
   },
   "outputs": [
    {
     "data": {
      "text/html": [
       "<table class=\"dataframe\">\n",
       "<caption>A matrix: 34 x 7 of type dbl</caption>\n",
       "<thead>\n",
       "\t<tr><th></th><th scope=col>Chair_Support</th><th scope=col>Department_feedback_and_Support</th><th scope=col>Inst_support</th><th scope=col>Volition_Autonomy</th><th scope=col>Relatedness</th><th scope=col>Global_Satisfaction</th><th scope=col>Teaching_and_Service_Satisfaction</th></tr>\n",
       "</thead>\n",
       "<tbody>\n",
       "\t<tr><th scope=row>q185h</th><td>0.7642516</td><td>0.0000000</td><td>0.0000000</td><td>0.0000000</td><td>0.0000000</td><td>0.0000000</td><td>0.0000000</td></tr>\n",
       "\t<tr><th scope=row>q185i</th><td>0.7696228</td><td>0.0000000</td><td>0.0000000</td><td>0.0000000</td><td>0.0000000</td><td>0.0000000</td><td>0.0000000</td></tr>\n",
       "\t<tr><th scope=row>q185j</th><td>0.7810835</td><td>0.0000000</td><td>0.0000000</td><td>0.0000000</td><td>0.0000000</td><td>0.0000000</td><td>0.0000000</td></tr>\n",
       "\t<tr><th scope=row>q185k</th><td>0.7353072</td><td>0.0000000</td><td>0.0000000</td><td>0.0000000</td><td>0.0000000</td><td>0.0000000</td><td>0.0000000</td></tr>\n",
       "\t<tr><th scope=row>q215l</th><td>0.8522786</td><td>0.0000000</td><td>0.0000000</td><td>0.0000000</td><td>0.0000000</td><td>0.0000000</td><td>0.0000000</td></tr>\n",
       "\t<tr><th scope=row>q185l</th><td>0.8928404</td><td>0.0000000</td><td>0.0000000</td><td>0.0000000</td><td>0.0000000</td><td>0.0000000</td><td>0.0000000</td></tr>\n",
       "\t<tr><th scope=row>q215a</th><td>0.0000000</td><td>0.6904033</td><td>0.0000000</td><td>0.0000000</td><td>0.0000000</td><td>0.0000000</td><td>0.0000000</td></tr>\n",
       "\t<tr><th scope=row>q215b</th><td>0.0000000</td><td>0.6136577</td><td>0.0000000</td><td>0.0000000</td><td>0.0000000</td><td>0.0000000</td><td>0.0000000</td></tr>\n",
       "\t<tr><th scope=row>q215d</th><td>0.0000000</td><td>0.6931631</td><td>0.0000000</td><td>0.0000000</td><td>0.0000000</td><td>0.0000000</td><td>0.0000000</td></tr>\n",
       "\t<tr><th scope=row>q215i</th><td>0.0000000</td><td>0.7046146</td><td>0.0000000</td><td>0.0000000</td><td>0.0000000</td><td>0.0000000</td><td>0.0000000</td></tr>\n",
       "\t<tr><th scope=row>q90c</th><td>0.0000000</td><td>0.0000000</td><td>0.6054205</td><td>0.0000000</td><td>0.0000000</td><td>0.0000000</td><td>0.0000000</td></tr>\n",
       "\t<tr><th scope=row>q90d</th><td>0.0000000</td><td>0.0000000</td><td>0.4468139</td><td>0.0000000</td><td>0.0000000</td><td>0.0000000</td><td>0.0000000</td></tr>\n",
       "\t<tr><th scope=row>q90e</th><td>0.0000000</td><td>0.0000000</td><td>0.4227975</td><td>0.0000000</td><td>0.0000000</td><td>0.0000000</td><td>0.0000000</td></tr>\n",
       "\t<tr><th scope=row>q90f</th><td>0.0000000</td><td>0.0000000</td><td>0.4320495</td><td>0.0000000</td><td>0.0000000</td><td>0.0000000</td><td>0.0000000</td></tr>\n",
       "\t<tr><th scope=row>q90h</th><td>0.0000000</td><td>0.0000000</td><td>0.4725903</td><td>0.0000000</td><td>0.0000000</td><td>0.0000000</td><td>0.0000000</td></tr>\n",
       "\t<tr><th scope=row>q195a</th><td>0.0000000</td><td>0.0000000</td><td>0.0000000</td><td>0.0000000</td><td>0.5986944</td><td>0.0000000</td><td>0.0000000</td></tr>\n",
       "\t<tr><th scope=row>q195b</th><td>0.0000000</td><td>0.0000000</td><td>0.0000000</td><td>0.0000000</td><td>0.4986879</td><td>0.0000000</td><td>0.0000000</td></tr>\n",
       "\t<tr><th scope=row>q195e</th><td>0.0000000</td><td>0.0000000</td><td>0.0000000</td><td>0.0000000</td><td>0.4837731</td><td>0.0000000</td><td>0.0000000</td></tr>\n",
       "\t<tr><th scope=row>q205a</th><td>0.0000000</td><td>0.0000000</td><td>0.0000000</td><td>0.0000000</td><td>0.4679557</td><td>0.0000000</td><td>0.0000000</td></tr>\n",
       "\t<tr><th scope=row>q205d</th><td>0.0000000</td><td>0.0000000</td><td>0.0000000</td><td>0.0000000</td><td>0.4967006</td><td>0.0000000</td><td>0.0000000</td></tr>\n",
       "\t<tr><th scope=row>q205c</th><td>0.0000000</td><td>0.0000000</td><td>0.0000000</td><td>0.0000000</td><td>0.6623875</td><td>0.0000000</td><td>0.0000000</td></tr>\n",
       "\t<tr><th scope=row>q210c</th><td>0.0000000</td><td>0.0000000</td><td>0.0000000</td><td>0.0000000</td><td>0.6050545</td><td>0.0000000</td><td>0.0000000</td></tr>\n",
       "\t<tr><th scope=row>q212a</th><td>0.0000000</td><td>0.0000000</td><td>0.0000000</td><td>0.0000000</td><td>0.5518320</td><td>0.0000000</td><td>0.0000000</td></tr>\n",
       "\t<tr><th scope=row>q60c</th><td>0.0000000</td><td>0.0000000</td><td>0.0000000</td><td>0.4608862</td><td>0.0000000</td><td>0.0000000</td><td>0.0000000</td></tr>\n",
       "\t<tr><th scope=row>q60d</th><td>0.0000000</td><td>0.0000000</td><td>0.0000000</td><td>0.4567754</td><td>0.0000000</td><td>0.0000000</td><td>0.0000000</td></tr>\n",
       "\t<tr><th scope=row>q70c</th><td>0.0000000</td><td>0.0000000</td><td>0.0000000</td><td>0.5046571</td><td>0.0000000</td><td>0.0000000</td><td>0.0000000</td></tr>\n",
       "\t<tr><th scope=row>q70h</th><td>0.0000000</td><td>0.0000000</td><td>0.0000000</td><td>0.4862996</td><td>0.0000000</td><td>0.0000000</td><td>0.0000000</td></tr>\n",
       "\t<tr><th scope=row>q60a</th><td>0.0000000</td><td>0.0000000</td><td>0.0000000</td><td>0.4288181</td><td>0.0000000</td><td>0.0000000</td><td>0.0000000</td></tr>\n",
       "\t<tr><th scope=row>q70a</th><td>0.0000000</td><td>0.0000000</td><td>0.0000000</td><td>0.0000000</td><td>0.0000000</td><td>0.0000000</td><td>0.5571177</td></tr>\n",
       "\t<tr><th scope=row>q70b</th><td>0.0000000</td><td>0.0000000</td><td>0.0000000</td><td>0.0000000</td><td>0.0000000</td><td>0.0000000</td><td>0.6464683</td></tr>\n",
       "\t<tr><th scope=row>q70e</th><td>0.0000000</td><td>0.0000000</td><td>0.0000000</td><td>0.0000000</td><td>0.0000000</td><td>0.0000000</td><td>0.3461766</td></tr>\n",
       "\t<tr><th scope=row>q245d</th><td>0.0000000</td><td>0.0000000</td><td>0.0000000</td><td>0.0000000</td><td>0.0000000</td><td>0.6554829</td><td>0.0000000</td></tr>\n",
       "\t<tr><th scope=row>q250a</th><td>0.0000000</td><td>0.0000000</td><td>0.0000000</td><td>0.0000000</td><td>0.0000000</td><td>0.8906585</td><td>0.0000000</td></tr>\n",
       "\t<tr><th scope=row>q250b</th><td>0.0000000</td><td>0.0000000</td><td>0.0000000</td><td>0.0000000</td><td>0.0000000</td><td>0.6441764</td><td>0.0000000</td></tr>\n",
       "</tbody>\n",
       "</table>\n"
      ],
      "text/latex": [
       "A matrix: 34 x 7 of type dbl\n",
       "\\begin{tabular}{r|lllllll}\n",
       "  & Chair\\_Support & Department\\_feedback\\_and\\_Support & Inst\\_support & Volition\\_Autonomy & Relatedness & Global\\_Satisfaction & Teaching\\_and\\_Service\\_Satisfaction\\\\\n",
       "\\hline\n",
       "\tq185h & 0.7642516 & 0.0000000 & 0.0000000 & 0.0000000 & 0.0000000 & 0.0000000 & 0.0000000\\\\\n",
       "\tq185i & 0.7696228 & 0.0000000 & 0.0000000 & 0.0000000 & 0.0000000 & 0.0000000 & 0.0000000\\\\\n",
       "\tq185j & 0.7810835 & 0.0000000 & 0.0000000 & 0.0000000 & 0.0000000 & 0.0000000 & 0.0000000\\\\\n",
       "\tq185k & 0.7353072 & 0.0000000 & 0.0000000 & 0.0000000 & 0.0000000 & 0.0000000 & 0.0000000\\\\\n",
       "\tq215l & 0.8522786 & 0.0000000 & 0.0000000 & 0.0000000 & 0.0000000 & 0.0000000 & 0.0000000\\\\\n",
       "\tq185l & 0.8928404 & 0.0000000 & 0.0000000 & 0.0000000 & 0.0000000 & 0.0000000 & 0.0000000\\\\\n",
       "\tq215a & 0.0000000 & 0.6904033 & 0.0000000 & 0.0000000 & 0.0000000 & 0.0000000 & 0.0000000\\\\\n",
       "\tq215b & 0.0000000 & 0.6136577 & 0.0000000 & 0.0000000 & 0.0000000 & 0.0000000 & 0.0000000\\\\\n",
       "\tq215d & 0.0000000 & 0.6931631 & 0.0000000 & 0.0000000 & 0.0000000 & 0.0000000 & 0.0000000\\\\\n",
       "\tq215i & 0.0000000 & 0.7046146 & 0.0000000 & 0.0000000 & 0.0000000 & 0.0000000 & 0.0000000\\\\\n",
       "\tq90c & 0.0000000 & 0.0000000 & 0.6054205 & 0.0000000 & 0.0000000 & 0.0000000 & 0.0000000\\\\\n",
       "\tq90d & 0.0000000 & 0.0000000 & 0.4468139 & 0.0000000 & 0.0000000 & 0.0000000 & 0.0000000\\\\\n",
       "\tq90e & 0.0000000 & 0.0000000 & 0.4227975 & 0.0000000 & 0.0000000 & 0.0000000 & 0.0000000\\\\\n",
       "\tq90f & 0.0000000 & 0.0000000 & 0.4320495 & 0.0000000 & 0.0000000 & 0.0000000 & 0.0000000\\\\\n",
       "\tq90h & 0.0000000 & 0.0000000 & 0.4725903 & 0.0000000 & 0.0000000 & 0.0000000 & 0.0000000\\\\\n",
       "\tq195a & 0.0000000 & 0.0000000 & 0.0000000 & 0.0000000 & 0.5986944 & 0.0000000 & 0.0000000\\\\\n",
       "\tq195b & 0.0000000 & 0.0000000 & 0.0000000 & 0.0000000 & 0.4986879 & 0.0000000 & 0.0000000\\\\\n",
       "\tq195e & 0.0000000 & 0.0000000 & 0.0000000 & 0.0000000 & 0.4837731 & 0.0000000 & 0.0000000\\\\\n",
       "\tq205a & 0.0000000 & 0.0000000 & 0.0000000 & 0.0000000 & 0.4679557 & 0.0000000 & 0.0000000\\\\\n",
       "\tq205d & 0.0000000 & 0.0000000 & 0.0000000 & 0.0000000 & 0.4967006 & 0.0000000 & 0.0000000\\\\\n",
       "\tq205c & 0.0000000 & 0.0000000 & 0.0000000 & 0.0000000 & 0.6623875 & 0.0000000 & 0.0000000\\\\\n",
       "\tq210c & 0.0000000 & 0.0000000 & 0.0000000 & 0.0000000 & 0.6050545 & 0.0000000 & 0.0000000\\\\\n",
       "\tq212a & 0.0000000 & 0.0000000 & 0.0000000 & 0.0000000 & 0.5518320 & 0.0000000 & 0.0000000\\\\\n",
       "\tq60c & 0.0000000 & 0.0000000 & 0.0000000 & 0.4608862 & 0.0000000 & 0.0000000 & 0.0000000\\\\\n",
       "\tq60d & 0.0000000 & 0.0000000 & 0.0000000 & 0.4567754 & 0.0000000 & 0.0000000 & 0.0000000\\\\\n",
       "\tq70c & 0.0000000 & 0.0000000 & 0.0000000 & 0.5046571 & 0.0000000 & 0.0000000 & 0.0000000\\\\\n",
       "\tq70h & 0.0000000 & 0.0000000 & 0.0000000 & 0.4862996 & 0.0000000 & 0.0000000 & 0.0000000\\\\\n",
       "\tq60a & 0.0000000 & 0.0000000 & 0.0000000 & 0.4288181 & 0.0000000 & 0.0000000 & 0.0000000\\\\\n",
       "\tq70a & 0.0000000 & 0.0000000 & 0.0000000 & 0.0000000 & 0.0000000 & 0.0000000 & 0.5571177\\\\\n",
       "\tq70b & 0.0000000 & 0.0000000 & 0.0000000 & 0.0000000 & 0.0000000 & 0.0000000 & 0.6464683\\\\\n",
       "\tq70e & 0.0000000 & 0.0000000 & 0.0000000 & 0.0000000 & 0.0000000 & 0.0000000 & 0.3461766\\\\\n",
       "\tq245d & 0.0000000 & 0.0000000 & 0.0000000 & 0.0000000 & 0.0000000 & 0.6554829 & 0.0000000\\\\\n",
       "\tq250a & 0.0000000 & 0.0000000 & 0.0000000 & 0.0000000 & 0.0000000 & 0.8906585 & 0.0000000\\\\\n",
       "\tq250b & 0.0000000 & 0.0000000 & 0.0000000 & 0.0000000 & 0.0000000 & 0.6441764 & 0.0000000\\\\\n",
       "\\end{tabular}\n"
      ],
      "text/markdown": [
       "\n",
       "A matrix: 34 x 7 of type dbl\n",
       "\n",
       "| <!--/--> | Chair_Support | Department_feedback_and_Support | Inst_support | Volition_Autonomy | Relatedness | Global_Satisfaction | Teaching_and_Service_Satisfaction |\n",
       "|---|---|---|---|---|---|---|---|\n",
       "| q185h | 0.7642516 | 0.0000000 | 0.0000000 | 0.0000000 | 0.0000000 | 0.0000000 | 0.0000000 |\n",
       "| q185i | 0.7696228 | 0.0000000 | 0.0000000 | 0.0000000 | 0.0000000 | 0.0000000 | 0.0000000 |\n",
       "| q185j | 0.7810835 | 0.0000000 | 0.0000000 | 0.0000000 | 0.0000000 | 0.0000000 | 0.0000000 |\n",
       "| q185k | 0.7353072 | 0.0000000 | 0.0000000 | 0.0000000 | 0.0000000 | 0.0000000 | 0.0000000 |\n",
       "| q215l | 0.8522786 | 0.0000000 | 0.0000000 | 0.0000000 | 0.0000000 | 0.0000000 | 0.0000000 |\n",
       "| q185l | 0.8928404 | 0.0000000 | 0.0000000 | 0.0000000 | 0.0000000 | 0.0000000 | 0.0000000 |\n",
       "| q215a | 0.0000000 | 0.6904033 | 0.0000000 | 0.0000000 | 0.0000000 | 0.0000000 | 0.0000000 |\n",
       "| q215b | 0.0000000 | 0.6136577 | 0.0000000 | 0.0000000 | 0.0000000 | 0.0000000 | 0.0000000 |\n",
       "| q215d | 0.0000000 | 0.6931631 | 0.0000000 | 0.0000000 | 0.0000000 | 0.0000000 | 0.0000000 |\n",
       "| q215i | 0.0000000 | 0.7046146 | 0.0000000 | 0.0000000 | 0.0000000 | 0.0000000 | 0.0000000 |\n",
       "| q90c | 0.0000000 | 0.0000000 | 0.6054205 | 0.0000000 | 0.0000000 | 0.0000000 | 0.0000000 |\n",
       "| q90d | 0.0000000 | 0.0000000 | 0.4468139 | 0.0000000 | 0.0000000 | 0.0000000 | 0.0000000 |\n",
       "| q90e | 0.0000000 | 0.0000000 | 0.4227975 | 0.0000000 | 0.0000000 | 0.0000000 | 0.0000000 |\n",
       "| q90f | 0.0000000 | 0.0000000 | 0.4320495 | 0.0000000 | 0.0000000 | 0.0000000 | 0.0000000 |\n",
       "| q90h | 0.0000000 | 0.0000000 | 0.4725903 | 0.0000000 | 0.0000000 | 0.0000000 | 0.0000000 |\n",
       "| q195a | 0.0000000 | 0.0000000 | 0.0000000 | 0.0000000 | 0.5986944 | 0.0000000 | 0.0000000 |\n",
       "| q195b | 0.0000000 | 0.0000000 | 0.0000000 | 0.0000000 | 0.4986879 | 0.0000000 | 0.0000000 |\n",
       "| q195e | 0.0000000 | 0.0000000 | 0.0000000 | 0.0000000 | 0.4837731 | 0.0000000 | 0.0000000 |\n",
       "| q205a | 0.0000000 | 0.0000000 | 0.0000000 | 0.0000000 | 0.4679557 | 0.0000000 | 0.0000000 |\n",
       "| q205d | 0.0000000 | 0.0000000 | 0.0000000 | 0.0000000 | 0.4967006 | 0.0000000 | 0.0000000 |\n",
       "| q205c | 0.0000000 | 0.0000000 | 0.0000000 | 0.0000000 | 0.6623875 | 0.0000000 | 0.0000000 |\n",
       "| q210c | 0.0000000 | 0.0000000 | 0.0000000 | 0.0000000 | 0.6050545 | 0.0000000 | 0.0000000 |\n",
       "| q212a | 0.0000000 | 0.0000000 | 0.0000000 | 0.0000000 | 0.5518320 | 0.0000000 | 0.0000000 |\n",
       "| q60c | 0.0000000 | 0.0000000 | 0.0000000 | 0.4608862 | 0.0000000 | 0.0000000 | 0.0000000 |\n",
       "| q60d | 0.0000000 | 0.0000000 | 0.0000000 | 0.4567754 | 0.0000000 | 0.0000000 | 0.0000000 |\n",
       "| q70c | 0.0000000 | 0.0000000 | 0.0000000 | 0.5046571 | 0.0000000 | 0.0000000 | 0.0000000 |\n",
       "| q70h | 0.0000000 | 0.0000000 | 0.0000000 | 0.4862996 | 0.0000000 | 0.0000000 | 0.0000000 |\n",
       "| q60a | 0.0000000 | 0.0000000 | 0.0000000 | 0.4288181 | 0.0000000 | 0.0000000 | 0.0000000 |\n",
       "| q70a | 0.0000000 | 0.0000000 | 0.0000000 | 0.0000000 | 0.0000000 | 0.0000000 | 0.5571177 |\n",
       "| q70b | 0.0000000 | 0.0000000 | 0.0000000 | 0.0000000 | 0.0000000 | 0.0000000 | 0.6464683 |\n",
       "| q70e | 0.0000000 | 0.0000000 | 0.0000000 | 0.0000000 | 0.0000000 | 0.0000000 | 0.3461766 |\n",
       "| q245d | 0.0000000 | 0.0000000 | 0.0000000 | 0.0000000 | 0.0000000 | 0.6554829 | 0.0000000 |\n",
       "| q250a | 0.0000000 | 0.0000000 | 0.0000000 | 0.0000000 | 0.0000000 | 0.8906585 | 0.0000000 |\n",
       "| q250b | 0.0000000 | 0.0000000 | 0.0000000 | 0.0000000 | 0.0000000 | 0.6441764 | 0.0000000 |\n",
       "\n"
      ],
      "text/plain": [
       "      Chair_Support Department_feedback_and_Support Inst_support\n",
       "q185h 0.7642516     0.0000000                       0.0000000   \n",
       "q185i 0.7696228     0.0000000                       0.0000000   \n",
       "q185j 0.7810835     0.0000000                       0.0000000   \n",
       "q185k 0.7353072     0.0000000                       0.0000000   \n",
       "q215l 0.8522786     0.0000000                       0.0000000   \n",
       "q185l 0.8928404     0.0000000                       0.0000000   \n",
       "q215a 0.0000000     0.6904033                       0.0000000   \n",
       "q215b 0.0000000     0.6136577                       0.0000000   \n",
       "q215d 0.0000000     0.6931631                       0.0000000   \n",
       "q215i 0.0000000     0.7046146                       0.0000000   \n",
       "q90c  0.0000000     0.0000000                       0.6054205   \n",
       "q90d  0.0000000     0.0000000                       0.4468139   \n",
       "q90e  0.0000000     0.0000000                       0.4227975   \n",
       "q90f  0.0000000     0.0000000                       0.4320495   \n",
       "q90h  0.0000000     0.0000000                       0.4725903   \n",
       "q195a 0.0000000     0.0000000                       0.0000000   \n",
       "q195b 0.0000000     0.0000000                       0.0000000   \n",
       "q195e 0.0000000     0.0000000                       0.0000000   \n",
       "q205a 0.0000000     0.0000000                       0.0000000   \n",
       "q205d 0.0000000     0.0000000                       0.0000000   \n",
       "q205c 0.0000000     0.0000000                       0.0000000   \n",
       "q210c 0.0000000     0.0000000                       0.0000000   \n",
       "q212a 0.0000000     0.0000000                       0.0000000   \n",
       "q60c  0.0000000     0.0000000                       0.0000000   \n",
       "q60d  0.0000000     0.0000000                       0.0000000   \n",
       "q70c  0.0000000     0.0000000                       0.0000000   \n",
       "q70h  0.0000000     0.0000000                       0.0000000   \n",
       "q60a  0.0000000     0.0000000                       0.0000000   \n",
       "q70a  0.0000000     0.0000000                       0.0000000   \n",
       "q70b  0.0000000     0.0000000                       0.0000000   \n",
       "q70e  0.0000000     0.0000000                       0.0000000   \n",
       "q245d 0.0000000     0.0000000                       0.0000000   \n",
       "q250a 0.0000000     0.0000000                       0.0000000   \n",
       "q250b 0.0000000     0.0000000                       0.0000000   \n",
       "      Volition_Autonomy Relatedness Global_Satisfaction\n",
       "q185h 0.0000000         0.0000000   0.0000000          \n",
       "q185i 0.0000000         0.0000000   0.0000000          \n",
       "q185j 0.0000000         0.0000000   0.0000000          \n",
       "q185k 0.0000000         0.0000000   0.0000000          \n",
       "q215l 0.0000000         0.0000000   0.0000000          \n",
       "q185l 0.0000000         0.0000000   0.0000000          \n",
       "q215a 0.0000000         0.0000000   0.0000000          \n",
       "q215b 0.0000000         0.0000000   0.0000000          \n",
       "q215d 0.0000000         0.0000000   0.0000000          \n",
       "q215i 0.0000000         0.0000000   0.0000000          \n",
       "q90c  0.0000000         0.0000000   0.0000000          \n",
       "q90d  0.0000000         0.0000000   0.0000000          \n",
       "q90e  0.0000000         0.0000000   0.0000000          \n",
       "q90f  0.0000000         0.0000000   0.0000000          \n",
       "q90h  0.0000000         0.0000000   0.0000000          \n",
       "q195a 0.0000000         0.5986944   0.0000000          \n",
       "q195b 0.0000000         0.4986879   0.0000000          \n",
       "q195e 0.0000000         0.4837731   0.0000000          \n",
       "q205a 0.0000000         0.4679557   0.0000000          \n",
       "q205d 0.0000000         0.4967006   0.0000000          \n",
       "q205c 0.0000000         0.6623875   0.0000000          \n",
       "q210c 0.0000000         0.6050545   0.0000000          \n",
       "q212a 0.0000000         0.5518320   0.0000000          \n",
       "q60c  0.4608862         0.0000000   0.0000000          \n",
       "q60d  0.4567754         0.0000000   0.0000000          \n",
       "q70c  0.5046571         0.0000000   0.0000000          \n",
       "q70h  0.4862996         0.0000000   0.0000000          \n",
       "q60a  0.4288181         0.0000000   0.0000000          \n",
       "q70a  0.0000000         0.0000000   0.0000000          \n",
       "q70b  0.0000000         0.0000000   0.0000000          \n",
       "q70e  0.0000000         0.0000000   0.0000000          \n",
       "q245d 0.0000000         0.0000000   0.6554829          \n",
       "q250a 0.0000000         0.0000000   0.8906585          \n",
       "q250b 0.0000000         0.0000000   0.6441764          \n",
       "      Teaching_and_Service_Satisfaction\n",
       "q185h 0.0000000                        \n",
       "q185i 0.0000000                        \n",
       "q185j 0.0000000                        \n",
       "q185k 0.0000000                        \n",
       "q215l 0.0000000                        \n",
       "q185l 0.0000000                        \n",
       "q215a 0.0000000                        \n",
       "q215b 0.0000000                        \n",
       "q215d 0.0000000                        \n",
       "q215i 0.0000000                        \n",
       "q90c  0.0000000                        \n",
       "q90d  0.0000000                        \n",
       "q90e  0.0000000                        \n",
       "q90f  0.0000000                        \n",
       "q90h  0.0000000                        \n",
       "q195a 0.0000000                        \n",
       "q195b 0.0000000                        \n",
       "q195e 0.0000000                        \n",
       "q205a 0.0000000                        \n",
       "q205d 0.0000000                        \n",
       "q205c 0.0000000                        \n",
       "q210c 0.0000000                        \n",
       "q212a 0.0000000                        \n",
       "q60c  0.0000000                        \n",
       "q60d  0.0000000                        \n",
       "q70c  0.0000000                        \n",
       "q70h  0.0000000                        \n",
       "q60a  0.0000000                        \n",
       "q70a  0.5571177                        \n",
       "q70b  0.6464683                        \n",
       "q70e  0.3461766                        \n",
       "q245d 0.0000000                        \n",
       "q250a 0.0000000                        \n",
       "q250b 0.0000000                        "
      ]
     },
     "metadata": {},
     "output_type": "display_data"
    }
   ],
   "source": [
    "summary$loadings^2"
   ]
  },
  {
   "cell_type": "markdown",
   "metadata": {},
   "source": [
    "# Internal Consitency Reliability - \n",
    "Alpha and Reliability Coeffiecient Rho: > 0.70 | Recommended 0.80 to 0.90\n",
    "AVE : >= 0.50\n",
    "\n",
    "#Convergent Validity \n",
    "\n",
    "The extend to which the construct converges in order to explaing the variance of its indicators. AVE is the communality of a construct and should be above 0.50\n",
    "\n",
    "\n"
   ]
  },
  {
   "cell_type": "code",
   "execution_count": 26,
   "metadata": {
    "vscode": {
     "languageId": "r"
    }
   },
   "outputs": [
    {
     "data": {
      "text/html": [
       "<table class=\"dataframe\">\n",
       "<caption>A matrix: 7 x 4 of type dbl</caption>\n",
       "<thead>\n",
       "\t<tr><th></th><th scope=col>alpha</th><th scope=col>rhoC</th><th scope=col>AVE</th><th scope=col>rhoA</th></tr>\n",
       "</thead>\n",
       "<tbody>\n",
       "\t<tr><th scope=row>Chair_Support</th><td>0.9601612</td><td>0.9597705</td><td>0.7992307</td><td>0.9605406</td></tr>\n",
       "\t<tr><th scope=row>Department_feedback_and_Support</th><td>0.8934683</td><td>0.8926924</td><td>0.6754597</td><td>0.8933316</td></tr>\n",
       "\t<tr><th scope=row>Inst_support</th><td>0.8174050</td><td>0.8188423</td><td>0.4759343</td><td>0.8221826</td></tr>\n",
       "\t<tr><th scope=row>Volition_Autonomy</th><td>0.8155862</td><td>0.8143347</td><td>0.4674873</td><td>0.8148639</td></tr>\n",
       "\t<tr><th scope=row>Relatedness</th><td>0.9058087</td><td>0.9054192</td><td>0.5456357</td><td>0.9072095</td></tr>\n",
       "\t<tr><th scope=row>Global_Satisfaction</th><td>0.8900326</td><td>0.8897293</td><td>0.7301059</td><td>0.8967415</td></tr>\n",
       "\t<tr><th scope=row>Teaching_and_Service_Satisfaction</th><td>0.7562563</td><td>0.7592854</td><td>0.5165875</td><td>0.7739170</td></tr>\n",
       "</tbody>\n",
       "</table>\n"
      ],
      "text/latex": [
       "A matrix: 7 x 4 of type dbl\n",
       "\\begin{tabular}{r|llll}\n",
       "  & alpha & rhoC & AVE & rhoA\\\\\n",
       "\\hline\n",
       "\tChair\\_Support & 0.9601612 & 0.9597705 & 0.7992307 & 0.9605406\\\\\n",
       "\tDepartment\\_feedback\\_and\\_Support & 0.8934683 & 0.8926924 & 0.6754597 & 0.8933316\\\\\n",
       "\tInst\\_support & 0.8174050 & 0.8188423 & 0.4759343 & 0.8221826\\\\\n",
       "\tVolition\\_Autonomy & 0.8155862 & 0.8143347 & 0.4674873 & 0.8148639\\\\\n",
       "\tRelatedness & 0.9058087 & 0.9054192 & 0.5456357 & 0.9072095\\\\\n",
       "\tGlobal\\_Satisfaction & 0.8900326 & 0.8897293 & 0.7301059 & 0.8967415\\\\\n",
       "\tTeaching\\_and\\_Service\\_Satisfaction & 0.7562563 & 0.7592854 & 0.5165875 & 0.7739170\\\\\n",
       "\\end{tabular}\n"
      ],
      "text/markdown": [
       "\n",
       "A matrix: 7 x 4 of type dbl\n",
       "\n",
       "| <!--/--> | alpha | rhoC | AVE | rhoA |\n",
       "|---|---|---|---|---|\n",
       "| Chair_Support | 0.9601612 | 0.9597705 | 0.7992307 | 0.9605406 |\n",
       "| Department_feedback_and_Support | 0.8934683 | 0.8926924 | 0.6754597 | 0.8933316 |\n",
       "| Inst_support | 0.8174050 | 0.8188423 | 0.4759343 | 0.8221826 |\n",
       "| Volition_Autonomy | 0.8155862 | 0.8143347 | 0.4674873 | 0.8148639 |\n",
       "| Relatedness | 0.9058087 | 0.9054192 | 0.5456357 | 0.9072095 |\n",
       "| Global_Satisfaction | 0.8900326 | 0.8897293 | 0.7301059 | 0.8967415 |\n",
       "| Teaching_and_Service_Satisfaction | 0.7562563 | 0.7592854 | 0.5165875 | 0.7739170 |\n",
       "\n"
      ],
      "text/plain": [
       "                                  alpha     rhoC      AVE       rhoA     \n",
       "Chair_Support                     0.9601612 0.9597705 0.7992307 0.9605406\n",
       "Department_feedback_and_Support   0.8934683 0.8926924 0.6754597 0.8933316\n",
       "Inst_support                      0.8174050 0.8188423 0.4759343 0.8221826\n",
       "Volition_Autonomy                 0.8155862 0.8143347 0.4674873 0.8148639\n",
       "Relatedness                       0.9058087 0.9054192 0.5456357 0.9072095\n",
       "Global_Satisfaction               0.8900326 0.8897293 0.7301059 0.8967415\n",
       "Teaching_and_Service_Satisfaction 0.7562563 0.7592854 0.5165875 0.7739170"
      ]
     },
     "metadata": {},
     "output_type": "display_data"
    }
   ],
   "source": [
    "summary$reliability"
   ]
  },
  {
   "cell_type": "markdown",
   "metadata": {},
   "source": [
    "#Discriminant Validity \n",
    "\n",
    "Metric measures the extent to which a construct is different from other constructs. Values should be below 0.90 fot structural models with similar constructs. Values should be blow 0.85 (Henseler et al. 2015)"
   ]
  },
  {
   "cell_type": "code",
   "execution_count": 27,
   "metadata": {
    "vscode": {
     "languageId": "r"
    }
   },
   "outputs": [
    {
     "data": {
      "text/html": [
       "<table class=\"dataframe\">\n",
       "<caption>A matrix: 7 x 7 of type dbl</caption>\n",
       "<thead>\n",
       "\t<tr><th></th><th scope=col>Chair_Support</th><th scope=col>Department_feedback_and_Support</th><th scope=col>Inst_support</th><th scope=col>Volition_Autonomy</th><th scope=col>Relatedness</th><th scope=col>Global_Satisfaction</th><th scope=col>Teaching_and_Service_Satisfaction</th></tr>\n",
       "</thead>\n",
       "<tbody>\n",
       "\t<tr><th scope=row>Chair_Support</th><td>       NA</td><td>       NA</td><td>       NA</td><td>       NA</td><td>       NA</td><td>       NA</td><td>NA</td></tr>\n",
       "\t<tr><th scope=row>Department_feedback_and_Support</th><td>0.6667276</td><td>       NA</td><td>       NA</td><td>       NA</td><td>       NA</td><td>       NA</td><td>NA</td></tr>\n",
       "\t<tr><th scope=row>Inst_support</th><td>0.4407293</td><td>0.5723584</td><td>       NA</td><td>       NA</td><td>       NA</td><td>       NA</td><td>NA</td></tr>\n",
       "\t<tr><th scope=row>Volition_Autonomy</th><td>0.6718151</td><td>0.7373136</td><td>0.6786843</td><td>       NA</td><td>       NA</td><td>       NA</td><td>NA</td></tr>\n",
       "\t<tr><th scope=row>Relatedness</th><td>0.6854236</td><td>0.8018905</td><td>0.5762488</td><td>0.7544997</td><td>       NA</td><td>       NA</td><td>NA</td></tr>\n",
       "\t<tr><th scope=row>Global_Satisfaction</th><td>0.6564227</td><td>0.8005053</td><td>0.6595763</td><td>0.7503061</td><td>0.8405824</td><td>       NA</td><td>NA</td></tr>\n",
       "\t<tr><th scope=row>Teaching_and_Service_Satisfaction</th><td>0.3744156</td><td>0.5424097</td><td>0.7223116</td><td>0.7393514</td><td>0.5765182</td><td>0.6546605</td><td>NA</td></tr>\n",
       "</tbody>\n",
       "</table>\n"
      ],
      "text/latex": [
       "A matrix: 7 x 7 of type dbl\n",
       "\\begin{tabular}{r|lllllll}\n",
       "  & Chair\\_Support & Department\\_feedback\\_and\\_Support & Inst\\_support & Volition\\_Autonomy & Relatedness & Global\\_Satisfaction & Teaching\\_and\\_Service\\_Satisfaction\\\\\n",
       "\\hline\n",
       "\tChair\\_Support &        NA &        NA &        NA &        NA &        NA &        NA & NA\\\\\n",
       "\tDepartment\\_feedback\\_and\\_Support & 0.6667276 &        NA &        NA &        NA &        NA &        NA & NA\\\\\n",
       "\tInst\\_support & 0.4407293 & 0.5723584 &        NA &        NA &        NA &        NA & NA\\\\\n",
       "\tVolition\\_Autonomy & 0.6718151 & 0.7373136 & 0.6786843 &        NA &        NA &        NA & NA\\\\\n",
       "\tRelatedness & 0.6854236 & 0.8018905 & 0.5762488 & 0.7544997 &        NA &        NA & NA\\\\\n",
       "\tGlobal\\_Satisfaction & 0.6564227 & 0.8005053 & 0.6595763 & 0.7503061 & 0.8405824 &        NA & NA\\\\\n",
       "\tTeaching\\_and\\_Service\\_Satisfaction & 0.3744156 & 0.5424097 & 0.7223116 & 0.7393514 & 0.5765182 & 0.6546605 & NA\\\\\n",
       "\\end{tabular}\n"
      ],
      "text/markdown": [
       "\n",
       "A matrix: 7 x 7 of type dbl\n",
       "\n",
       "| <!--/--> | Chair_Support | Department_feedback_and_Support | Inst_support | Volition_Autonomy | Relatedness | Global_Satisfaction | Teaching_and_Service_Satisfaction |\n",
       "|---|---|---|---|---|---|---|---|\n",
       "| Chair_Support |        NA |        NA |        NA |        NA |        NA |        NA | NA |\n",
       "| Department_feedback_and_Support | 0.6667276 |        NA |        NA |        NA |        NA |        NA | NA |\n",
       "| Inst_support | 0.4407293 | 0.5723584 |        NA |        NA |        NA |        NA | NA |\n",
       "| Volition_Autonomy | 0.6718151 | 0.7373136 | 0.6786843 |        NA |        NA |        NA | NA |\n",
       "| Relatedness | 0.6854236 | 0.8018905 | 0.5762488 | 0.7544997 |        NA |        NA | NA |\n",
       "| Global_Satisfaction | 0.6564227 | 0.8005053 | 0.6595763 | 0.7503061 | 0.8405824 |        NA | NA |\n",
       "| Teaching_and_Service_Satisfaction | 0.3744156 | 0.5424097 | 0.7223116 | 0.7393514 | 0.5765182 | 0.6546605 | NA |\n",
       "\n"
      ],
      "text/plain": [
       "                                  Chair_Support Department_feedback_and_Support\n",
       "Chair_Support                            NA            NA                      \n",
       "Department_feedback_and_Support   0.6667276            NA                      \n",
       "Inst_support                      0.4407293     0.5723584                      \n",
       "Volition_Autonomy                 0.6718151     0.7373136                      \n",
       "Relatedness                       0.6854236     0.8018905                      \n",
       "Global_Satisfaction               0.6564227     0.8005053                      \n",
       "Teaching_and_Service_Satisfaction 0.3744156     0.5424097                      \n",
       "                                  Inst_support Volition_Autonomy Relatedness\n",
       "Chair_Support                            NA           NA                NA  \n",
       "Department_feedback_and_Support          NA           NA                NA  \n",
       "Inst_support                             NA           NA                NA  \n",
       "Volition_Autonomy                 0.6786843           NA                NA  \n",
       "Relatedness                       0.5762488    0.7544997                NA  \n",
       "Global_Satisfaction               0.6595763    0.7503061         0.8405824  \n",
       "Teaching_and_Service_Satisfaction 0.7223116    0.7393514         0.5765182  \n",
       "                                  Global_Satisfaction\n",
       "Chair_Support                            NA          \n",
       "Department_feedback_and_Support          NA          \n",
       "Inst_support                             NA          \n",
       "Volition_Autonomy                        NA          \n",
       "Relatedness                              NA          \n",
       "Global_Satisfaction                      NA          \n",
       "Teaching_and_Service_Satisfaction 0.6546605          \n",
       "                                  Teaching_and_Service_Satisfaction\n",
       "Chair_Support                     NA                               \n",
       "Department_feedback_and_Support   NA                               \n",
       "Inst_support                      NA                               \n",
       "Volition_Autonomy                 NA                               \n",
       "Relatedness                       NA                               \n",
       "Global_Satisfaction               NA                               \n",
       "Teaching_and_Service_Satisfaction NA                               "
      ]
     },
     "metadata": {},
     "output_type": "display_data"
    }
   ],
   "source": [
    "summary$validity$htmt\n"
   ]
  },
  {
   "cell_type": "markdown",
   "metadata": {},
   "source": [
    "Thresholds must be lower than 0.90"
   ]
  },
  {
   "cell_type": "code",
   "execution_count": 28,
   "metadata": {
    "vscode": {
     "languageId": "r"
    }
   },
   "outputs": [
    {
     "name": "stderr",
     "output_type": "stream",
     "text": [
      "Bootstrapping model using seminr...\n",
      "\n",
      "SEMinR Model successfully bootstrapped\n",
      "\n"
     ]
    }
   ],
   "source": [
    "boot_model <- bootstrap_model(seminr_model = pls_model, nboot = 1000)\n",
    "sum_boot <- summary(boot_model, alpha = 0.10)"
   ]
  },
  {
   "cell_type": "code",
   "execution_count": 29,
   "metadata": {
    "vscode": {
     "languageId": "r"
    }
   },
   "outputs": [
    {
     "data": {
      "text/html": [
       "<table class=\"dataframe\">\n",
       "<caption>A matrix: 21 x 6 of type dbl</caption>\n",
       "<thead>\n",
       "\t<tr><th></th><th scope=col>Original Est.</th><th scope=col>Bootstrap Mean</th><th scope=col>Bootstrap SD</th><th scope=col>T Stat.</th><th scope=col>5% CI</th><th scope=col>95% CI</th></tr>\n",
       "</thead>\n",
       "<tbody>\n",
       "\t<tr><th scope=row><span style=white-space:pre-wrap>Chair_Support  -&gt;  Department_feedback_and_Support</span></th><td>0.6667276</td><td>0.6676682</td><td>0.02343262</td><td>28.45297</td><td>0.6282229</td><td>0.7050908</td></tr>\n",
       "\t<tr><th scope=row><span style=white-space:pre-wrap>Chair_Support  -&gt;  Inst_support</span></th><td>0.4407293</td><td>0.4426162</td><td>0.03343357</td><td>13.18224</td><td>0.3864468</td><td>0.5006349</td></tr>\n",
       "\t<tr><th scope=row><span style=white-space:pre-wrap>Chair_Support  -&gt;  Volition_Autonomy</span></th><td>0.6718151</td><td>0.6714424</td><td>0.02505049</td><td>26.81845</td><td>0.6280267</td><td>0.7091814</td></tr>\n",
       "\t<tr><th scope=row><span style=white-space:pre-wrap>Chair_Support  -&gt;  Relatedness</span></th><td>0.6854236</td><td>0.6865436</td><td>0.02390229</td><td>28.67606</td><td>0.6463291</td><td>0.7261787</td></tr>\n",
       "\t<tr><th scope=row><span style=white-space:pre-wrap>Chair_Support  -&gt;  Global_Satisfaction</span></th><td>0.6564227</td><td>0.6567066</td><td>0.02719651</td><td>24.13628</td><td>0.6105054</td><td>0.7006001</td></tr>\n",
       "\t<tr><th scope=row><span style=white-space:pre-wrap>Chair_Support  -&gt;  Teaching_and_Service_Satisfaction</span></th><td>0.3744156</td><td>0.3758347</td><td>0.03692334</td><td>10.14035</td><td>0.3139168</td><td>0.4365938</td></tr>\n",
       "\t<tr><th scope=row><span style=white-space:pre-wrap>Department_feedback_and_Support  -&gt;  Inst_support</span></th><td>0.5723584</td><td>0.5735023</td><td>0.03059783</td><td>18.70585</td><td>0.5206513</td><td>0.6215571</td></tr>\n",
       "\t<tr><th scope=row><span style=white-space:pre-wrap>Department_feedback_and_Support  -&gt;  Volition_Autonomy</span></th><td>0.7373136</td><td>0.7377404</td><td>0.02206010</td><td>33.42295</td><td>0.7003758</td><td>0.7738137</td></tr>\n",
       "\t<tr><th scope=row><span style=white-space:pre-wrap>Department_feedback_and_Support  -&gt;  Relatedness</span></th><td>0.8018905</td><td>0.8017767</td><td>0.01763307</td><td>45.47650</td><td>0.7712108</td><td>0.8296545</td></tr>\n",
       "\t<tr><th scope=row><span style=white-space:pre-wrap>Department_feedback_and_Support  -&gt;  Global_Satisfaction</span></th><td>0.8005053</td><td>0.8011722</td><td>0.01846060</td><td>43.36290</td><td>0.7695029</td><td>0.8308536</td></tr>\n",
       "\t<tr><th scope=row><span style=white-space:pre-wrap>Department_feedback_and_Support  -&gt;  Teaching_and_Service_Satisfaction</span></th><td>0.5424097</td><td>0.5426875</td><td>0.03488066</td><td>15.55044</td><td>0.4853621</td><td>0.6009102</td></tr>\n",
       "\t<tr><th scope=row><span style=white-space:pre-wrap>Inst_support  -&gt;  Volition_Autonomy</span></th><td>0.6786843</td><td>0.6797032</td><td>0.02843442</td><td>23.86841</td><td>0.6305258</td><td>0.7239530</td></tr>\n",
       "\t<tr><th scope=row><span style=white-space:pre-wrap>Inst_support  -&gt;  Relatedness</span></th><td>0.5762488</td><td>0.5783457</td><td>0.03448665</td><td>16.70933</td><td>0.5187418</td><td>0.6335207</td></tr>\n",
       "\t<tr><th scope=row><span style=white-space:pre-wrap>Inst_support  -&gt;  Global_Satisfaction</span></th><td>0.6595763</td><td>0.6613739</td><td>0.02944730</td><td>22.39854</td><td>0.6107377</td><td>0.7093170</td></tr>\n",
       "\t<tr><th scope=row><span style=white-space:pre-wrap>Inst_support  -&gt;  Teaching_and_Service_Satisfaction</span></th><td>0.7223116</td><td>0.7251353</td><td>0.02879513</td><td>25.08450</td><td>0.6765732</td><td>0.7718183</td></tr>\n",
       "\t<tr><th scope=row><span style=white-space:pre-wrap>Volition_Autonomy  -&gt;  Relatedness</span></th><td>0.7544997</td><td>0.7537893</td><td>0.02312933</td><td>32.62090</td><td>0.7149096</td><td>0.7905809</td></tr>\n",
       "\t<tr><th scope=row><span style=white-space:pre-wrap>Volition_Autonomy  -&gt;  Global_Satisfaction</span></th><td>0.7503061</td><td>0.7496845</td><td>0.02240018</td><td>33.49554</td><td>0.7117736</td><td>0.7835786</td></tr>\n",
       "\t<tr><th scope=row><span style=white-space:pre-wrap>Volition_Autonomy  -&gt;  Teaching_and_Service_Satisfaction</span></th><td>0.7393514</td><td>0.7394575</td><td>0.02914082</td><td>25.37167</td><td>0.6902746</td><td>0.7872852</td></tr>\n",
       "\t<tr><th scope=row><span style=white-space:pre-wrap>Relatedness  -&gt;  Global_Satisfaction</span></th><td>0.8405824</td><td>0.8405826</td><td>0.01648220</td><td>50.99941</td><td>0.8134179</td><td>0.8663723</td></tr>\n",
       "\t<tr><th scope=row><span style=white-space:pre-wrap>Relatedness  -&gt;  Teaching_and_Service_Satisfaction</span></th><td>0.5765182</td><td>0.5770689</td><td>0.03532490</td><td>16.32045</td><td>0.5187699</td><td>0.6370974</td></tr>\n",
       "\t<tr><th scope=row><span style=white-space:pre-wrap>Global_Satisfaction  -&gt;  Teaching_and_Service_Satisfaction</span></th><td>0.6546605</td><td>0.6555425</td><td>0.02974495</td><td>22.00913</td><td>0.6078695</td><td>0.7048046</td></tr>\n",
       "</tbody>\n",
       "</table>\n"
      ],
      "text/latex": [
       "A matrix: 21 x 6 of type dbl\n",
       "\\begin{tabular}{r|llllll}\n",
       "  & Original Est. & Bootstrap Mean & Bootstrap SD & T Stat. & 5\\% CI & 95\\% CI\\\\\n",
       "\\hline\n",
       "\tChair\\_Support  ->  Department\\_feedback\\_and\\_Support & 0.6667276 & 0.6676682 & 0.02343262 & 28.45297 & 0.6282229 & 0.7050908\\\\\n",
       "\tChair\\_Support  ->  Inst\\_support & 0.4407293 & 0.4426162 & 0.03343357 & 13.18224 & 0.3864468 & 0.5006349\\\\\n",
       "\tChair\\_Support  ->  Volition\\_Autonomy & 0.6718151 & 0.6714424 & 0.02505049 & 26.81845 & 0.6280267 & 0.7091814\\\\\n",
       "\tChair\\_Support  ->  Relatedness & 0.6854236 & 0.6865436 & 0.02390229 & 28.67606 & 0.6463291 & 0.7261787\\\\\n",
       "\tChair\\_Support  ->  Global\\_Satisfaction & 0.6564227 & 0.6567066 & 0.02719651 & 24.13628 & 0.6105054 & 0.7006001\\\\\n",
       "\tChair\\_Support  ->  Teaching\\_and\\_Service\\_Satisfaction & 0.3744156 & 0.3758347 & 0.03692334 & 10.14035 & 0.3139168 & 0.4365938\\\\\n",
       "\tDepartment\\_feedback\\_and\\_Support  ->  Inst\\_support & 0.5723584 & 0.5735023 & 0.03059783 & 18.70585 & 0.5206513 & 0.6215571\\\\\n",
       "\tDepartment\\_feedback\\_and\\_Support  ->  Volition\\_Autonomy & 0.7373136 & 0.7377404 & 0.02206010 & 33.42295 & 0.7003758 & 0.7738137\\\\\n",
       "\tDepartment\\_feedback\\_and\\_Support  ->  Relatedness & 0.8018905 & 0.8017767 & 0.01763307 & 45.47650 & 0.7712108 & 0.8296545\\\\\n",
       "\tDepartment\\_feedback\\_and\\_Support  ->  Global\\_Satisfaction & 0.8005053 & 0.8011722 & 0.01846060 & 43.36290 & 0.7695029 & 0.8308536\\\\\n",
       "\tDepartment\\_feedback\\_and\\_Support  ->  Teaching\\_and\\_Service\\_Satisfaction & 0.5424097 & 0.5426875 & 0.03488066 & 15.55044 & 0.4853621 & 0.6009102\\\\\n",
       "\tInst\\_support  ->  Volition\\_Autonomy & 0.6786843 & 0.6797032 & 0.02843442 & 23.86841 & 0.6305258 & 0.7239530\\\\\n",
       "\tInst\\_support  ->  Relatedness & 0.5762488 & 0.5783457 & 0.03448665 & 16.70933 & 0.5187418 & 0.6335207\\\\\n",
       "\tInst\\_support  ->  Global\\_Satisfaction & 0.6595763 & 0.6613739 & 0.02944730 & 22.39854 & 0.6107377 & 0.7093170\\\\\n",
       "\tInst\\_support  ->  Teaching\\_and\\_Service\\_Satisfaction & 0.7223116 & 0.7251353 & 0.02879513 & 25.08450 & 0.6765732 & 0.7718183\\\\\n",
       "\tVolition\\_Autonomy  ->  Relatedness & 0.7544997 & 0.7537893 & 0.02312933 & 32.62090 & 0.7149096 & 0.7905809\\\\\n",
       "\tVolition\\_Autonomy  ->  Global\\_Satisfaction & 0.7503061 & 0.7496845 & 0.02240018 & 33.49554 & 0.7117736 & 0.7835786\\\\\n",
       "\tVolition\\_Autonomy  ->  Teaching\\_and\\_Service\\_Satisfaction & 0.7393514 & 0.7394575 & 0.02914082 & 25.37167 & 0.6902746 & 0.7872852\\\\\n",
       "\tRelatedness  ->  Global\\_Satisfaction & 0.8405824 & 0.8405826 & 0.01648220 & 50.99941 & 0.8134179 & 0.8663723\\\\\n",
       "\tRelatedness  ->  Teaching\\_and\\_Service\\_Satisfaction & 0.5765182 & 0.5770689 & 0.03532490 & 16.32045 & 0.5187699 & 0.6370974\\\\\n",
       "\tGlobal\\_Satisfaction  ->  Teaching\\_and\\_Service\\_Satisfaction & 0.6546605 & 0.6555425 & 0.02974495 & 22.00913 & 0.6078695 & 0.7048046\\\\\n",
       "\\end{tabular}\n"
      ],
      "text/markdown": [
       "\n",
       "A matrix: 21 x 6 of type dbl\n",
       "\n",
       "| <!--/--> | Original Est. | Bootstrap Mean | Bootstrap SD | T Stat. | 5% CI | 95% CI |\n",
       "|---|---|---|---|---|---|---|\n",
       "| Chair_Support  -&gt;  Department_feedback_and_Support | 0.6667276 | 0.6676682 | 0.02343262 | 28.45297 | 0.6282229 | 0.7050908 |\n",
       "| Chair_Support  -&gt;  Inst_support | 0.4407293 | 0.4426162 | 0.03343357 | 13.18224 | 0.3864468 | 0.5006349 |\n",
       "| Chair_Support  -&gt;  Volition_Autonomy | 0.6718151 | 0.6714424 | 0.02505049 | 26.81845 | 0.6280267 | 0.7091814 |\n",
       "| Chair_Support  -&gt;  Relatedness | 0.6854236 | 0.6865436 | 0.02390229 | 28.67606 | 0.6463291 | 0.7261787 |\n",
       "| Chair_Support  -&gt;  Global_Satisfaction | 0.6564227 | 0.6567066 | 0.02719651 | 24.13628 | 0.6105054 | 0.7006001 |\n",
       "| Chair_Support  -&gt;  Teaching_and_Service_Satisfaction | 0.3744156 | 0.3758347 | 0.03692334 | 10.14035 | 0.3139168 | 0.4365938 |\n",
       "| Department_feedback_and_Support  -&gt;  Inst_support | 0.5723584 | 0.5735023 | 0.03059783 | 18.70585 | 0.5206513 | 0.6215571 |\n",
       "| Department_feedback_and_Support  -&gt;  Volition_Autonomy | 0.7373136 | 0.7377404 | 0.02206010 | 33.42295 | 0.7003758 | 0.7738137 |\n",
       "| Department_feedback_and_Support  -&gt;  Relatedness | 0.8018905 | 0.8017767 | 0.01763307 | 45.47650 | 0.7712108 | 0.8296545 |\n",
       "| Department_feedback_and_Support  -&gt;  Global_Satisfaction | 0.8005053 | 0.8011722 | 0.01846060 | 43.36290 | 0.7695029 | 0.8308536 |\n",
       "| Department_feedback_and_Support  -&gt;  Teaching_and_Service_Satisfaction | 0.5424097 | 0.5426875 | 0.03488066 | 15.55044 | 0.4853621 | 0.6009102 |\n",
       "| Inst_support  -&gt;  Volition_Autonomy | 0.6786843 | 0.6797032 | 0.02843442 | 23.86841 | 0.6305258 | 0.7239530 |\n",
       "| Inst_support  -&gt;  Relatedness | 0.5762488 | 0.5783457 | 0.03448665 | 16.70933 | 0.5187418 | 0.6335207 |\n",
       "| Inst_support  -&gt;  Global_Satisfaction | 0.6595763 | 0.6613739 | 0.02944730 | 22.39854 | 0.6107377 | 0.7093170 |\n",
       "| Inst_support  -&gt;  Teaching_and_Service_Satisfaction | 0.7223116 | 0.7251353 | 0.02879513 | 25.08450 | 0.6765732 | 0.7718183 |\n",
       "| Volition_Autonomy  -&gt;  Relatedness | 0.7544997 | 0.7537893 | 0.02312933 | 32.62090 | 0.7149096 | 0.7905809 |\n",
       "| Volition_Autonomy  -&gt;  Global_Satisfaction | 0.7503061 | 0.7496845 | 0.02240018 | 33.49554 | 0.7117736 | 0.7835786 |\n",
       "| Volition_Autonomy  -&gt;  Teaching_and_Service_Satisfaction | 0.7393514 | 0.7394575 | 0.02914082 | 25.37167 | 0.6902746 | 0.7872852 |\n",
       "| Relatedness  -&gt;  Global_Satisfaction | 0.8405824 | 0.8405826 | 0.01648220 | 50.99941 | 0.8134179 | 0.8663723 |\n",
       "| Relatedness  -&gt;  Teaching_and_Service_Satisfaction | 0.5765182 | 0.5770689 | 0.03532490 | 16.32045 | 0.5187699 | 0.6370974 |\n",
       "| Global_Satisfaction  -&gt;  Teaching_and_Service_Satisfaction | 0.6546605 | 0.6555425 | 0.02974495 | 22.00913 | 0.6078695 | 0.7048046 |\n",
       "\n"
      ],
      "text/plain": [
       "                                                                       Original Est.\n",
       "Chair_Support  ->  Department_feedback_and_Support                     0.6667276    \n",
       "Chair_Support  ->  Inst_support                                        0.4407293    \n",
       "Chair_Support  ->  Volition_Autonomy                                   0.6718151    \n",
       "Chair_Support  ->  Relatedness                                         0.6854236    \n",
       "Chair_Support  ->  Global_Satisfaction                                 0.6564227    \n",
       "Chair_Support  ->  Teaching_and_Service_Satisfaction                   0.3744156    \n",
       "Department_feedback_and_Support  ->  Inst_support                      0.5723584    \n",
       "Department_feedback_and_Support  ->  Volition_Autonomy                 0.7373136    \n",
       "Department_feedback_and_Support  ->  Relatedness                       0.8018905    \n",
       "Department_feedback_and_Support  ->  Global_Satisfaction               0.8005053    \n",
       "Department_feedback_and_Support  ->  Teaching_and_Service_Satisfaction 0.5424097    \n",
       "Inst_support  ->  Volition_Autonomy                                    0.6786843    \n",
       "Inst_support  ->  Relatedness                                          0.5762488    \n",
       "Inst_support  ->  Global_Satisfaction                                  0.6595763    \n",
       "Inst_support  ->  Teaching_and_Service_Satisfaction                    0.7223116    \n",
       "Volition_Autonomy  ->  Relatedness                                     0.7544997    \n",
       "Volition_Autonomy  ->  Global_Satisfaction                             0.7503061    \n",
       "Volition_Autonomy  ->  Teaching_and_Service_Satisfaction               0.7393514    \n",
       "Relatedness  ->  Global_Satisfaction                                   0.8405824    \n",
       "Relatedness  ->  Teaching_and_Service_Satisfaction                     0.5765182    \n",
       "Global_Satisfaction  ->  Teaching_and_Service_Satisfaction             0.6546605    \n",
       "                                                                       Bootstrap Mean\n",
       "Chair_Support  ->  Department_feedback_and_Support                     0.6676682     \n",
       "Chair_Support  ->  Inst_support                                        0.4426162     \n",
       "Chair_Support  ->  Volition_Autonomy                                   0.6714424     \n",
       "Chair_Support  ->  Relatedness                                         0.6865436     \n",
       "Chair_Support  ->  Global_Satisfaction                                 0.6567066     \n",
       "Chair_Support  ->  Teaching_and_Service_Satisfaction                   0.3758347     \n",
       "Department_feedback_and_Support  ->  Inst_support                      0.5735023     \n",
       "Department_feedback_and_Support  ->  Volition_Autonomy                 0.7377404     \n",
       "Department_feedback_and_Support  ->  Relatedness                       0.8017767     \n",
       "Department_feedback_and_Support  ->  Global_Satisfaction               0.8011722     \n",
       "Department_feedback_and_Support  ->  Teaching_and_Service_Satisfaction 0.5426875     \n",
       "Inst_support  ->  Volition_Autonomy                                    0.6797032     \n",
       "Inst_support  ->  Relatedness                                          0.5783457     \n",
       "Inst_support  ->  Global_Satisfaction                                  0.6613739     \n",
       "Inst_support  ->  Teaching_and_Service_Satisfaction                    0.7251353     \n",
       "Volition_Autonomy  ->  Relatedness                                     0.7537893     \n",
       "Volition_Autonomy  ->  Global_Satisfaction                             0.7496845     \n",
       "Volition_Autonomy  ->  Teaching_and_Service_Satisfaction               0.7394575     \n",
       "Relatedness  ->  Global_Satisfaction                                   0.8405826     \n",
       "Relatedness  ->  Teaching_and_Service_Satisfaction                     0.5770689     \n",
       "Global_Satisfaction  ->  Teaching_and_Service_Satisfaction             0.6555425     \n",
       "                                                                       Bootstrap SD\n",
       "Chair_Support  ->  Department_feedback_and_Support                     0.02343262  \n",
       "Chair_Support  ->  Inst_support                                        0.03343357  \n",
       "Chair_Support  ->  Volition_Autonomy                                   0.02505049  \n",
       "Chair_Support  ->  Relatedness                                         0.02390229  \n",
       "Chair_Support  ->  Global_Satisfaction                                 0.02719651  \n",
       "Chair_Support  ->  Teaching_and_Service_Satisfaction                   0.03692334  \n",
       "Department_feedback_and_Support  ->  Inst_support                      0.03059783  \n",
       "Department_feedback_and_Support  ->  Volition_Autonomy                 0.02206010  \n",
       "Department_feedback_and_Support  ->  Relatedness                       0.01763307  \n",
       "Department_feedback_and_Support  ->  Global_Satisfaction               0.01846060  \n",
       "Department_feedback_and_Support  ->  Teaching_and_Service_Satisfaction 0.03488066  \n",
       "Inst_support  ->  Volition_Autonomy                                    0.02843442  \n",
       "Inst_support  ->  Relatedness                                          0.03448665  \n",
       "Inst_support  ->  Global_Satisfaction                                  0.02944730  \n",
       "Inst_support  ->  Teaching_and_Service_Satisfaction                    0.02879513  \n",
       "Volition_Autonomy  ->  Relatedness                                     0.02312933  \n",
       "Volition_Autonomy  ->  Global_Satisfaction                             0.02240018  \n",
       "Volition_Autonomy  ->  Teaching_and_Service_Satisfaction               0.02914082  \n",
       "Relatedness  ->  Global_Satisfaction                                   0.01648220  \n",
       "Relatedness  ->  Teaching_and_Service_Satisfaction                     0.03532490  \n",
       "Global_Satisfaction  ->  Teaching_and_Service_Satisfaction             0.02974495  \n",
       "                                                                       T Stat. \n",
       "Chair_Support  ->  Department_feedback_and_Support                     28.45297\n",
       "Chair_Support  ->  Inst_support                                        13.18224\n",
       "Chair_Support  ->  Volition_Autonomy                                   26.81845\n",
       "Chair_Support  ->  Relatedness                                         28.67606\n",
       "Chair_Support  ->  Global_Satisfaction                                 24.13628\n",
       "Chair_Support  ->  Teaching_and_Service_Satisfaction                   10.14035\n",
       "Department_feedback_and_Support  ->  Inst_support                      18.70585\n",
       "Department_feedback_and_Support  ->  Volition_Autonomy                 33.42295\n",
       "Department_feedback_and_Support  ->  Relatedness                       45.47650\n",
       "Department_feedback_and_Support  ->  Global_Satisfaction               43.36290\n",
       "Department_feedback_and_Support  ->  Teaching_and_Service_Satisfaction 15.55044\n",
       "Inst_support  ->  Volition_Autonomy                                    23.86841\n",
       "Inst_support  ->  Relatedness                                          16.70933\n",
       "Inst_support  ->  Global_Satisfaction                                  22.39854\n",
       "Inst_support  ->  Teaching_and_Service_Satisfaction                    25.08450\n",
       "Volition_Autonomy  ->  Relatedness                                     32.62090\n",
       "Volition_Autonomy  ->  Global_Satisfaction                             33.49554\n",
       "Volition_Autonomy  ->  Teaching_and_Service_Satisfaction               25.37167\n",
       "Relatedness  ->  Global_Satisfaction                                   50.99941\n",
       "Relatedness  ->  Teaching_and_Service_Satisfaction                     16.32045\n",
       "Global_Satisfaction  ->  Teaching_and_Service_Satisfaction             22.00913\n",
       "                                                                       5% CI    \n",
       "Chair_Support  ->  Department_feedback_and_Support                     0.6282229\n",
       "Chair_Support  ->  Inst_support                                        0.3864468\n",
       "Chair_Support  ->  Volition_Autonomy                                   0.6280267\n",
       "Chair_Support  ->  Relatedness                                         0.6463291\n",
       "Chair_Support  ->  Global_Satisfaction                                 0.6105054\n",
       "Chair_Support  ->  Teaching_and_Service_Satisfaction                   0.3139168\n",
       "Department_feedback_and_Support  ->  Inst_support                      0.5206513\n",
       "Department_feedback_and_Support  ->  Volition_Autonomy                 0.7003758\n",
       "Department_feedback_and_Support  ->  Relatedness                       0.7712108\n",
       "Department_feedback_and_Support  ->  Global_Satisfaction               0.7695029\n",
       "Department_feedback_and_Support  ->  Teaching_and_Service_Satisfaction 0.4853621\n",
       "Inst_support  ->  Volition_Autonomy                                    0.6305258\n",
       "Inst_support  ->  Relatedness                                          0.5187418\n",
       "Inst_support  ->  Global_Satisfaction                                  0.6107377\n",
       "Inst_support  ->  Teaching_and_Service_Satisfaction                    0.6765732\n",
       "Volition_Autonomy  ->  Relatedness                                     0.7149096\n",
       "Volition_Autonomy  ->  Global_Satisfaction                             0.7117736\n",
       "Volition_Autonomy  ->  Teaching_and_Service_Satisfaction               0.6902746\n",
       "Relatedness  ->  Global_Satisfaction                                   0.8134179\n",
       "Relatedness  ->  Teaching_and_Service_Satisfaction                     0.5187699\n",
       "Global_Satisfaction  ->  Teaching_and_Service_Satisfaction             0.6078695\n",
       "                                                                       95% CI   \n",
       "Chair_Support  ->  Department_feedback_and_Support                     0.7050908\n",
       "Chair_Support  ->  Inst_support                                        0.5006349\n",
       "Chair_Support  ->  Volition_Autonomy                                   0.7091814\n",
       "Chair_Support  ->  Relatedness                                         0.7261787\n",
       "Chair_Support  ->  Global_Satisfaction                                 0.7006001\n",
       "Chair_Support  ->  Teaching_and_Service_Satisfaction                   0.4365938\n",
       "Department_feedback_and_Support  ->  Inst_support                      0.6215571\n",
       "Department_feedback_and_Support  ->  Volition_Autonomy                 0.7738137\n",
       "Department_feedback_and_Support  ->  Relatedness                       0.8296545\n",
       "Department_feedback_and_Support  ->  Global_Satisfaction               0.8308536\n",
       "Department_feedback_and_Support  ->  Teaching_and_Service_Satisfaction 0.6009102\n",
       "Inst_support  ->  Volition_Autonomy                                    0.7239530\n",
       "Inst_support  ->  Relatedness                                          0.6335207\n",
       "Inst_support  ->  Global_Satisfaction                                  0.7093170\n",
       "Inst_support  ->  Teaching_and_Service_Satisfaction                    0.7718183\n",
       "Volition_Autonomy  ->  Relatedness                                     0.7905809\n",
       "Volition_Autonomy  ->  Global_Satisfaction                             0.7835786\n",
       "Volition_Autonomy  ->  Teaching_and_Service_Satisfaction               0.7872852\n",
       "Relatedness  ->  Global_Satisfaction                                   0.8663723\n",
       "Relatedness  ->  Teaching_and_Service_Satisfaction                     0.6370974\n",
       "Global_Satisfaction  ->  Teaching_and_Service_Satisfaction             0.7048046"
      ]
     },
     "metadata": {},
     "output_type": "display_data"
    }
   ],
   "source": [
    "sum_boot$bootstrapped_HTMT"
   ]
  }
 ],
 "metadata": {
  "kernelspec": {
   "display_name": "R",
   "language": "R",
   "name": "ir"
  },
  "language_info": {
   "codemirror_mode": "r",
   "file_extension": ".r",
   "mimetype": "text/x-r-source",
   "name": "R",
   "pygments_lexer": "r",
   "version": "4.2.2"
  }
 },
 "nbformat": 4,
 "nbformat_minor": 2
}
