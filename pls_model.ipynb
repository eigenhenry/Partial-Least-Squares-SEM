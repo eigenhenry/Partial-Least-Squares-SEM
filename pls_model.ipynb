{
 "cells": [
  {
   "cell_type": "markdown",
   "metadata": {},
   "source": [
    "# PartialLeastSquaresSEM\n",
    "\n",
    "# Henry Salgado\n",
    "\n",
    "This repo conducts a Structure Equation Modeling on the COACHE Data Set"
   ]
  },
  {
   "cell_type": "code",
   "execution_count": 1,
   "metadata": {
    "vscode": {
     "languageId": "r"
    }
   },
   "outputs": [
    {
     "name": "stdout",
     "output_type": "stream",
     "text": [
      "\n",
      "  There is a binary version available but the source version is later:\n",
      "       binary source needs_compilation\n",
      "seminr  2.3.2  2.3.4             FALSE\n",
      "\n"
     ]
    },
    {
     "name": "stderr",
     "output_type": "stream",
     "text": [
      "installing the source package 'seminr'\n",
      "\n",
      "\n"
     ]
    },
    {
     "name": "stdout",
     "output_type": "stream",
     "text": [
      "\n",
      "The downloaded binary packages are in\n",
      "\t/var/folders/gk/cvk0vx853198tmxc1bd6_x240000gn/T//RtmpqQijWe/downloaded_packages\n",
      "\n",
      "  There is a binary version available but the source version is later:\n",
      "        binary source needs_compilation\n",
      "writexl  1.4.2  1.5.1              TRUE\n",
      "\n"
     ]
    },
    {
     "name": "stderr",
     "output_type": "stream",
     "text": [
      "installing the source package 'writexl'\n",
      "\n",
      "\n"
     ]
    },
    {
     "name": "stdout",
     "output_type": "stream",
     "text": [
      "\n",
      "  There is a binary version available but the source version is later:\n",
      "        binary source needs_compilation\n",
      "ggplot2  3.4.4  3.5.1             FALSE\n",
      "\n"
     ]
    },
    {
     "name": "stderr",
     "output_type": "stream",
     "text": [
      "installing the source package 'ggplot2'\n",
      "\n",
      "\n"
     ]
    }
   ],
   "source": [
    "install.packages(\"seminr\")     # For SEM modeling\n",
    "install.packages(\"readxl\")     # For reading Excel files\n",
    "install.packages(\"writexl\")    # For writing Excel files\n",
    "install.packages(\"ggplot2\") "
   ]
  },
  {
   "cell_type": "code",
   "execution_count": 2,
   "metadata": {
    "vscode": {
     "languageId": "r"
    }
   },
   "outputs": [
    {
     "name": "stderr",
     "output_type": "stream",
     "text": [
      "Generating the seminr model\n",
      "\n",
      "All 971 observations are valid.\n",
      "\n"
     ]
    }
   ],
   "source": [
    "library(seminr)\n",
    "library(readxl)\n",
    "library(writexl)\n",
    "library(ggplot2)\n",
    "\n",
    "# Load data\n",
    "data <- read.csv('/Users/henrysalgado/Desktop/Coache Data Analysis/october24_forest_imputed_data.csv')\n",
    "\n",
    "# Measurement Model\n",
    "measurements <- constructs(\n",
    "  reflective(\"Chair_Support\", c(\"q185h\", \"q185i\", \"q185j\", \"q185k\", \"q215l\", \"q185l\")),\n",
    "  reflective(\"Department_feedback_and_Support\", c(\"q215a\", \"q215b\", \"q215d\", \"q215i\")),\n",
    "  reflective(\"Inst_support\", c( \"q90c\", \"q90d\", \"q90e\", \"q90f\", \"q90h\")),\n",
    "  reflective(\"Relatedness\", c(\"q195a\", \"q195b\", \"q195e\", \"q205a\", \"q205d\", \"q205c\", \"q210c\", \"q212a\")),\n",
    "  reflective(\"Competence\", c(\"q45a\", \"q45c\", \"q45e\")),\n",
    "  reflective(\"Volition_Autonomy\", c(\"q60c\", \"q60d\", \"q70c\", \"q70h\",\"q60a\")),\n",
    "  reflective(\"Teaching_and_Service_Satisfaction\", c(\"q70a\", \"q70b\", \"q70e\")),\n",
    "  reflective(\"Global_Satisfaction\", c(\"q245d\", \"q250a\", \"q250b\"))\n",
    ")\n",
    "\n",
    "# Structural Model\n",
    "structure <- relationships(\n",
    "  paths(from = c(\"Chair_Support\", \"Department_feedback_and_Support\", \"Inst_support\"),\n",
    "        to = c(\"Relatedness\", \"Volition_Autonomy\")),\n",
    "  paths(from = c(\"Volition_Autonomy\", \"Relatedness\"),\n",
    "        to = c(\"Global_Satisfaction\"))\n",
    ")\n",
    "\n",
    "# Estimate the SEM model\n",
    "pls_model <- estimate_pls(data = data, measurement_model = measurements, structural_model = structure)\n",
    "\n",
    "summary <- summary(pls_model)\n",
    "\n"
   ]
  },
  {
   "cell_type": "markdown",
   "metadata": {},
   "source": [
    "This number should be lower than 300"
   ]
  },
  {
   "cell_type": "code",
   "execution_count": 3,
   "metadata": {
    "vscode": {
     "languageId": "r"
    }
   },
   "outputs": [
    {
     "data": {
      "text/html": [
       "5"
      ],
      "text/latex": [
       "5"
      ],
      "text/markdown": [
       "5"
      ],
      "text/plain": [
       "[1] 5"
      ]
     },
     "metadata": {},
     "output_type": "display_data"
    }
   ],
   "source": [
    "summary$iterations"
   ]
  },
  {
   "cell_type": "markdown",
   "metadata": {},
   "source": [
    "Indicator Reliability: Loadings above 0.70 are recommended, they indicaate 50 percent of indicators variance\n",
    "Indicators with very low loadings, that is below 0.40 should be removed "
   ]
  },
  {
   "cell_type": "code",
   "execution_count": 4,
   "metadata": {
    "vscode": {
     "languageId": "r"
    }
   },
   "outputs": [
    {
     "data": {
      "text/html": [
       "<table class=\"dataframe\">\n",
       "<caption>A matrix: 31 x 6 of type dbl</caption>\n",
       "<thead>\n",
       "\t<tr><th></th><th scope=col>Chair_Support</th><th scope=col>Department_feedback_and_Support</th><th scope=col>Inst_support</th><th scope=col>Volition_Autonomy</th><th scope=col>Relatedness</th><th scope=col>Global_Satisfaction</th></tr>\n",
       "</thead>\n",
       "<tbody>\n",
       "\t<tr><th scope=row>q185h</th><td>0.7641152</td><td>0.0000000</td><td>0.0000000</td><td>0.0000000</td><td>0.0000000</td><td>0.0000000</td></tr>\n",
       "\t<tr><th scope=row>q185i</th><td>0.7696661</td><td>0.0000000</td><td>0.0000000</td><td>0.0000000</td><td>0.0000000</td><td>0.0000000</td></tr>\n",
       "\t<tr><th scope=row>q185j</th><td>0.7819256</td><td>0.0000000</td><td>0.0000000</td><td>0.0000000</td><td>0.0000000</td><td>0.0000000</td></tr>\n",
       "\t<tr><th scope=row>q185k</th><td>0.7349087</td><td>0.0000000</td><td>0.0000000</td><td>0.0000000</td><td>0.0000000</td><td>0.0000000</td></tr>\n",
       "\t<tr><th scope=row>q215l</th><td>0.8530318</td><td>0.0000000</td><td>0.0000000</td><td>0.0000000</td><td>0.0000000</td><td>0.0000000</td></tr>\n",
       "\t<tr><th scope=row>q185l</th><td>0.8917101</td><td>0.0000000</td><td>0.0000000</td><td>0.0000000</td><td>0.0000000</td><td>0.0000000</td></tr>\n",
       "\t<tr><th scope=row>q215a</th><td>0.0000000</td><td>0.6885658</td><td>0.0000000</td><td>0.0000000</td><td>0.0000000</td><td>0.0000000</td></tr>\n",
       "\t<tr><th scope=row>q215b</th><td>0.0000000</td><td>0.6136953</td><td>0.0000000</td><td>0.0000000</td><td>0.0000000</td><td>0.0000000</td></tr>\n",
       "\t<tr><th scope=row>q215d</th><td>0.0000000</td><td>0.6930704</td><td>0.0000000</td><td>0.0000000</td><td>0.0000000</td><td>0.0000000</td></tr>\n",
       "\t<tr><th scope=row>q215i</th><td>0.0000000</td><td>0.7061553</td><td>0.0000000</td><td>0.0000000</td><td>0.0000000</td><td>0.0000000</td></tr>\n",
       "\t<tr><th scope=row>q90c</th><td>0.0000000</td><td>0.0000000</td><td>0.6047313</td><td>0.0000000</td><td>0.0000000</td><td>0.0000000</td></tr>\n",
       "\t<tr><th scope=row>q90d</th><td>0.0000000</td><td>0.0000000</td><td>0.4484624</td><td>0.0000000</td><td>0.0000000</td><td>0.0000000</td></tr>\n",
       "\t<tr><th scope=row>q90e</th><td>0.0000000</td><td>0.0000000</td><td>0.4213134</td><td>0.0000000</td><td>0.0000000</td><td>0.0000000</td></tr>\n",
       "\t<tr><th scope=row>q90f</th><td>0.0000000</td><td>0.0000000</td><td>0.4320578</td><td>0.0000000</td><td>0.0000000</td><td>0.0000000</td></tr>\n",
       "\t<tr><th scope=row>q90h</th><td>0.0000000</td><td>0.0000000</td><td>0.4730746</td><td>0.0000000</td><td>0.0000000</td><td>0.0000000</td></tr>\n",
       "\t<tr><th scope=row>q195a</th><td>0.0000000</td><td>0.0000000</td><td>0.0000000</td><td>0.0000000</td><td>0.5566558</td><td>0.0000000</td></tr>\n",
       "\t<tr><th scope=row>q195b</th><td>0.0000000</td><td>0.0000000</td><td>0.0000000</td><td>0.0000000</td><td>0.4584476</td><td>0.0000000</td></tr>\n",
       "\t<tr><th scope=row>q195e</th><td>0.0000000</td><td>0.0000000</td><td>0.0000000</td><td>0.0000000</td><td>0.4131355</td><td>0.0000000</td></tr>\n",
       "\t<tr><th scope=row>q205a</th><td>0.0000000</td><td>0.0000000</td><td>0.0000000</td><td>0.0000000</td><td>0.4770322</td><td>0.0000000</td></tr>\n",
       "\t<tr><th scope=row>q205d</th><td>0.0000000</td><td>0.0000000</td><td>0.0000000</td><td>0.0000000</td><td>0.5137183</td><td>0.0000000</td></tr>\n",
       "\t<tr><th scope=row>q205c</th><td>0.0000000</td><td>0.0000000</td><td>0.0000000</td><td>0.0000000</td><td>0.7010269</td><td>0.0000000</td></tr>\n",
       "\t<tr><th scope=row>q210c</th><td>0.0000000</td><td>0.0000000</td><td>0.0000000</td><td>0.0000000</td><td>0.6496470</td><td>0.0000000</td></tr>\n",
       "\t<tr><th scope=row>q212a</th><td>0.0000000</td><td>0.0000000</td><td>0.0000000</td><td>0.0000000</td><td>0.5949416</td><td>0.0000000</td></tr>\n",
       "\t<tr><th scope=row>q60c</th><td>0.0000000</td><td>0.0000000</td><td>0.0000000</td><td>0.4816124</td><td>0.0000000</td><td>0.0000000</td></tr>\n",
       "\t<tr><th scope=row>q60d</th><td>0.0000000</td><td>0.0000000</td><td>0.0000000</td><td>0.5030658</td><td>0.0000000</td><td>0.0000000</td></tr>\n",
       "\t<tr><th scope=row>q70c</th><td>0.0000000</td><td>0.0000000</td><td>0.0000000</td><td>0.4519435</td><td>0.0000000</td><td>0.0000000</td></tr>\n",
       "\t<tr><th scope=row>q70h</th><td>0.0000000</td><td>0.0000000</td><td>0.0000000</td><td>0.4884712</td><td>0.0000000</td><td>0.0000000</td></tr>\n",
       "\t<tr><th scope=row>q60a</th><td>0.0000000</td><td>0.0000000</td><td>0.0000000</td><td>0.4269666</td><td>0.0000000</td><td>0.0000000</td></tr>\n",
       "\t<tr><th scope=row>q245d</th><td>0.0000000</td><td>0.0000000</td><td>0.0000000</td><td>0.0000000</td><td>0.0000000</td><td>0.6548047</td></tr>\n",
       "\t<tr><th scope=row>q250a</th><td>0.0000000</td><td>0.0000000</td><td>0.0000000</td><td>0.0000000</td><td>0.0000000</td><td>0.8936689</td></tr>\n",
       "\t<tr><th scope=row>q250b</th><td>0.0000000</td><td>0.0000000</td><td>0.0000000</td><td>0.0000000</td><td>0.0000000</td><td>0.6420219</td></tr>\n",
       "</tbody>\n",
       "</table>\n"
      ],
      "text/latex": [
       "A matrix: 31 x 6 of type dbl\n",
       "\\begin{tabular}{r|llllll}\n",
       "  & Chair\\_Support & Department\\_feedback\\_and\\_Support & Inst\\_support & Volition\\_Autonomy & Relatedness & Global\\_Satisfaction\\\\\n",
       "\\hline\n",
       "\tq185h & 0.7641152 & 0.0000000 & 0.0000000 & 0.0000000 & 0.0000000 & 0.0000000\\\\\n",
       "\tq185i & 0.7696661 & 0.0000000 & 0.0000000 & 0.0000000 & 0.0000000 & 0.0000000\\\\\n",
       "\tq185j & 0.7819256 & 0.0000000 & 0.0000000 & 0.0000000 & 0.0000000 & 0.0000000\\\\\n",
       "\tq185k & 0.7349087 & 0.0000000 & 0.0000000 & 0.0000000 & 0.0000000 & 0.0000000\\\\\n",
       "\tq215l & 0.8530318 & 0.0000000 & 0.0000000 & 0.0000000 & 0.0000000 & 0.0000000\\\\\n",
       "\tq185l & 0.8917101 & 0.0000000 & 0.0000000 & 0.0000000 & 0.0000000 & 0.0000000\\\\\n",
       "\tq215a & 0.0000000 & 0.6885658 & 0.0000000 & 0.0000000 & 0.0000000 & 0.0000000\\\\\n",
       "\tq215b & 0.0000000 & 0.6136953 & 0.0000000 & 0.0000000 & 0.0000000 & 0.0000000\\\\\n",
       "\tq215d & 0.0000000 & 0.6930704 & 0.0000000 & 0.0000000 & 0.0000000 & 0.0000000\\\\\n",
       "\tq215i & 0.0000000 & 0.7061553 & 0.0000000 & 0.0000000 & 0.0000000 & 0.0000000\\\\\n",
       "\tq90c & 0.0000000 & 0.0000000 & 0.6047313 & 0.0000000 & 0.0000000 & 0.0000000\\\\\n",
       "\tq90d & 0.0000000 & 0.0000000 & 0.4484624 & 0.0000000 & 0.0000000 & 0.0000000\\\\\n",
       "\tq90e & 0.0000000 & 0.0000000 & 0.4213134 & 0.0000000 & 0.0000000 & 0.0000000\\\\\n",
       "\tq90f & 0.0000000 & 0.0000000 & 0.4320578 & 0.0000000 & 0.0000000 & 0.0000000\\\\\n",
       "\tq90h & 0.0000000 & 0.0000000 & 0.4730746 & 0.0000000 & 0.0000000 & 0.0000000\\\\\n",
       "\tq195a & 0.0000000 & 0.0000000 & 0.0000000 & 0.0000000 & 0.5566558 & 0.0000000\\\\\n",
       "\tq195b & 0.0000000 & 0.0000000 & 0.0000000 & 0.0000000 & 0.4584476 & 0.0000000\\\\\n",
       "\tq195e & 0.0000000 & 0.0000000 & 0.0000000 & 0.0000000 & 0.4131355 & 0.0000000\\\\\n",
       "\tq205a & 0.0000000 & 0.0000000 & 0.0000000 & 0.0000000 & 0.4770322 & 0.0000000\\\\\n",
       "\tq205d & 0.0000000 & 0.0000000 & 0.0000000 & 0.0000000 & 0.5137183 & 0.0000000\\\\\n",
       "\tq205c & 0.0000000 & 0.0000000 & 0.0000000 & 0.0000000 & 0.7010269 & 0.0000000\\\\\n",
       "\tq210c & 0.0000000 & 0.0000000 & 0.0000000 & 0.0000000 & 0.6496470 & 0.0000000\\\\\n",
       "\tq212a & 0.0000000 & 0.0000000 & 0.0000000 & 0.0000000 & 0.5949416 & 0.0000000\\\\\n",
       "\tq60c & 0.0000000 & 0.0000000 & 0.0000000 & 0.4816124 & 0.0000000 & 0.0000000\\\\\n",
       "\tq60d & 0.0000000 & 0.0000000 & 0.0000000 & 0.5030658 & 0.0000000 & 0.0000000\\\\\n",
       "\tq70c & 0.0000000 & 0.0000000 & 0.0000000 & 0.4519435 & 0.0000000 & 0.0000000\\\\\n",
       "\tq70h & 0.0000000 & 0.0000000 & 0.0000000 & 0.4884712 & 0.0000000 & 0.0000000\\\\\n",
       "\tq60a & 0.0000000 & 0.0000000 & 0.0000000 & 0.4269666 & 0.0000000 & 0.0000000\\\\\n",
       "\tq245d & 0.0000000 & 0.0000000 & 0.0000000 & 0.0000000 & 0.0000000 & 0.6548047\\\\\n",
       "\tq250a & 0.0000000 & 0.0000000 & 0.0000000 & 0.0000000 & 0.0000000 & 0.8936689\\\\\n",
       "\tq250b & 0.0000000 & 0.0000000 & 0.0000000 & 0.0000000 & 0.0000000 & 0.6420219\\\\\n",
       "\\end{tabular}\n"
      ],
      "text/markdown": [
       "\n",
       "A matrix: 31 x 6 of type dbl\n",
       "\n",
       "| <!--/--> | Chair_Support | Department_feedback_and_Support | Inst_support | Volition_Autonomy | Relatedness | Global_Satisfaction |\n",
       "|---|---|---|---|---|---|---|\n",
       "| q185h | 0.7641152 | 0.0000000 | 0.0000000 | 0.0000000 | 0.0000000 | 0.0000000 |\n",
       "| q185i | 0.7696661 | 0.0000000 | 0.0000000 | 0.0000000 | 0.0000000 | 0.0000000 |\n",
       "| q185j | 0.7819256 | 0.0000000 | 0.0000000 | 0.0000000 | 0.0000000 | 0.0000000 |\n",
       "| q185k | 0.7349087 | 0.0000000 | 0.0000000 | 0.0000000 | 0.0000000 | 0.0000000 |\n",
       "| q215l | 0.8530318 | 0.0000000 | 0.0000000 | 0.0000000 | 0.0000000 | 0.0000000 |\n",
       "| q185l | 0.8917101 | 0.0000000 | 0.0000000 | 0.0000000 | 0.0000000 | 0.0000000 |\n",
       "| q215a | 0.0000000 | 0.6885658 | 0.0000000 | 0.0000000 | 0.0000000 | 0.0000000 |\n",
       "| q215b | 0.0000000 | 0.6136953 | 0.0000000 | 0.0000000 | 0.0000000 | 0.0000000 |\n",
       "| q215d | 0.0000000 | 0.6930704 | 0.0000000 | 0.0000000 | 0.0000000 | 0.0000000 |\n",
       "| q215i | 0.0000000 | 0.7061553 | 0.0000000 | 0.0000000 | 0.0000000 | 0.0000000 |\n",
       "| q90c | 0.0000000 | 0.0000000 | 0.6047313 | 0.0000000 | 0.0000000 | 0.0000000 |\n",
       "| q90d | 0.0000000 | 0.0000000 | 0.4484624 | 0.0000000 | 0.0000000 | 0.0000000 |\n",
       "| q90e | 0.0000000 | 0.0000000 | 0.4213134 | 0.0000000 | 0.0000000 | 0.0000000 |\n",
       "| q90f | 0.0000000 | 0.0000000 | 0.4320578 | 0.0000000 | 0.0000000 | 0.0000000 |\n",
       "| q90h | 0.0000000 | 0.0000000 | 0.4730746 | 0.0000000 | 0.0000000 | 0.0000000 |\n",
       "| q195a | 0.0000000 | 0.0000000 | 0.0000000 | 0.0000000 | 0.5566558 | 0.0000000 |\n",
       "| q195b | 0.0000000 | 0.0000000 | 0.0000000 | 0.0000000 | 0.4584476 | 0.0000000 |\n",
       "| q195e | 0.0000000 | 0.0000000 | 0.0000000 | 0.0000000 | 0.4131355 | 0.0000000 |\n",
       "| q205a | 0.0000000 | 0.0000000 | 0.0000000 | 0.0000000 | 0.4770322 | 0.0000000 |\n",
       "| q205d | 0.0000000 | 0.0000000 | 0.0000000 | 0.0000000 | 0.5137183 | 0.0000000 |\n",
       "| q205c | 0.0000000 | 0.0000000 | 0.0000000 | 0.0000000 | 0.7010269 | 0.0000000 |\n",
       "| q210c | 0.0000000 | 0.0000000 | 0.0000000 | 0.0000000 | 0.6496470 | 0.0000000 |\n",
       "| q212a | 0.0000000 | 0.0000000 | 0.0000000 | 0.0000000 | 0.5949416 | 0.0000000 |\n",
       "| q60c | 0.0000000 | 0.0000000 | 0.0000000 | 0.4816124 | 0.0000000 | 0.0000000 |\n",
       "| q60d | 0.0000000 | 0.0000000 | 0.0000000 | 0.5030658 | 0.0000000 | 0.0000000 |\n",
       "| q70c | 0.0000000 | 0.0000000 | 0.0000000 | 0.4519435 | 0.0000000 | 0.0000000 |\n",
       "| q70h | 0.0000000 | 0.0000000 | 0.0000000 | 0.4884712 | 0.0000000 | 0.0000000 |\n",
       "| q60a | 0.0000000 | 0.0000000 | 0.0000000 | 0.4269666 | 0.0000000 | 0.0000000 |\n",
       "| q245d | 0.0000000 | 0.0000000 | 0.0000000 | 0.0000000 | 0.0000000 | 0.6548047 |\n",
       "| q250a | 0.0000000 | 0.0000000 | 0.0000000 | 0.0000000 | 0.0000000 | 0.8936689 |\n",
       "| q250b | 0.0000000 | 0.0000000 | 0.0000000 | 0.0000000 | 0.0000000 | 0.6420219 |\n",
       "\n"
      ],
      "text/plain": [
       "      Chair_Support Department_feedback_and_Support Inst_support\n",
       "q185h 0.7641152     0.0000000                       0.0000000   \n",
       "q185i 0.7696661     0.0000000                       0.0000000   \n",
       "q185j 0.7819256     0.0000000                       0.0000000   \n",
       "q185k 0.7349087     0.0000000                       0.0000000   \n",
       "q215l 0.8530318     0.0000000                       0.0000000   \n",
       "q185l 0.8917101     0.0000000                       0.0000000   \n",
       "q215a 0.0000000     0.6885658                       0.0000000   \n",
       "q215b 0.0000000     0.6136953                       0.0000000   \n",
       "q215d 0.0000000     0.6930704                       0.0000000   \n",
       "q215i 0.0000000     0.7061553                       0.0000000   \n",
       "q90c  0.0000000     0.0000000                       0.6047313   \n",
       "q90d  0.0000000     0.0000000                       0.4484624   \n",
       "q90e  0.0000000     0.0000000                       0.4213134   \n",
       "q90f  0.0000000     0.0000000                       0.4320578   \n",
       "q90h  0.0000000     0.0000000                       0.4730746   \n",
       "q195a 0.0000000     0.0000000                       0.0000000   \n",
       "q195b 0.0000000     0.0000000                       0.0000000   \n",
       "q195e 0.0000000     0.0000000                       0.0000000   \n",
       "q205a 0.0000000     0.0000000                       0.0000000   \n",
       "q205d 0.0000000     0.0000000                       0.0000000   \n",
       "q205c 0.0000000     0.0000000                       0.0000000   \n",
       "q210c 0.0000000     0.0000000                       0.0000000   \n",
       "q212a 0.0000000     0.0000000                       0.0000000   \n",
       "q60c  0.0000000     0.0000000                       0.0000000   \n",
       "q60d  0.0000000     0.0000000                       0.0000000   \n",
       "q70c  0.0000000     0.0000000                       0.0000000   \n",
       "q70h  0.0000000     0.0000000                       0.0000000   \n",
       "q60a  0.0000000     0.0000000                       0.0000000   \n",
       "q245d 0.0000000     0.0000000                       0.0000000   \n",
       "q250a 0.0000000     0.0000000                       0.0000000   \n",
       "q250b 0.0000000     0.0000000                       0.0000000   \n",
       "      Volition_Autonomy Relatedness Global_Satisfaction\n",
       "q185h 0.0000000         0.0000000   0.0000000          \n",
       "q185i 0.0000000         0.0000000   0.0000000          \n",
       "q185j 0.0000000         0.0000000   0.0000000          \n",
       "q185k 0.0000000         0.0000000   0.0000000          \n",
       "q215l 0.0000000         0.0000000   0.0000000          \n",
       "q185l 0.0000000         0.0000000   0.0000000          \n",
       "q215a 0.0000000         0.0000000   0.0000000          \n",
       "q215b 0.0000000         0.0000000   0.0000000          \n",
       "q215d 0.0000000         0.0000000   0.0000000          \n",
       "q215i 0.0000000         0.0000000   0.0000000          \n",
       "q90c  0.0000000         0.0000000   0.0000000          \n",
       "q90d  0.0000000         0.0000000   0.0000000          \n",
       "q90e  0.0000000         0.0000000   0.0000000          \n",
       "q90f  0.0000000         0.0000000   0.0000000          \n",
       "q90h  0.0000000         0.0000000   0.0000000          \n",
       "q195a 0.0000000         0.5566558   0.0000000          \n",
       "q195b 0.0000000         0.4584476   0.0000000          \n",
       "q195e 0.0000000         0.4131355   0.0000000          \n",
       "q205a 0.0000000         0.4770322   0.0000000          \n",
       "q205d 0.0000000         0.5137183   0.0000000          \n",
       "q205c 0.0000000         0.7010269   0.0000000          \n",
       "q210c 0.0000000         0.6496470   0.0000000          \n",
       "q212a 0.0000000         0.5949416   0.0000000          \n",
       "q60c  0.4816124         0.0000000   0.0000000          \n",
       "q60d  0.5030658         0.0000000   0.0000000          \n",
       "q70c  0.4519435         0.0000000   0.0000000          \n",
       "q70h  0.4884712         0.0000000   0.0000000          \n",
       "q60a  0.4269666         0.0000000   0.0000000          \n",
       "q245d 0.0000000         0.0000000   0.6548047          \n",
       "q250a 0.0000000         0.0000000   0.8936689          \n",
       "q250b 0.0000000         0.0000000   0.6420219          "
      ]
     },
     "metadata": {},
     "output_type": "display_data"
    }
   ],
   "source": [
    "summary$loadings^2"
   ]
  },
  {
   "cell_type": "markdown",
   "metadata": {},
   "source": [
    "# Internal Consitency Reliability - \n",
    "Alpha and Reliability Coeffiecient Rho: > 0.70 | Recommended 0.80 to 0.90\n",
    "AVE : >= 0.50\n",
    "\n",
    "#Convergent Validity \n",
    "\n",
    "The extend to which the construct converges in order to explaing the variance of its indicators. AVE is the communality of a construct and should be above 0.50\n",
    "\n",
    "\n"
   ]
  },
  {
   "cell_type": "code",
   "execution_count": 5,
   "metadata": {
    "vscode": {
     "languageId": "r"
    }
   },
   "outputs": [
    {
     "data": {
      "text/html": [
       "<table class=\"dataframe\">\n",
       "<caption>A matrix: 6 x 4 of type dbl</caption>\n",
       "<thead>\n",
       "\t<tr><th></th><th scope=col>alpha</th><th scope=col>rhoC</th><th scope=col>AVE</th><th scope=col>rhoA</th></tr>\n",
       "</thead>\n",
       "<tbody>\n",
       "\t<tr><th scope=row>Chair_Support</th><td>0.9601612</td><td>0.9597697</td><td>0.7992262</td><td>0.9605354</td></tr>\n",
       "\t<tr><th scope=row>Department_feedback_and_Support</th><td>0.8934683</td><td>0.8926536</td><td>0.6753717</td><td>0.8932969</td></tr>\n",
       "\t<tr><th scope=row>Inst_support</th><td>0.8174050</td><td>0.8188409</td><td>0.4759279</td><td>0.8221651</td></tr>\n",
       "\t<tr><th scope=row>Volition_Autonomy</th><td>0.8155862</td><td>0.8160914</td><td>0.4704119</td><td>0.8166718</td></tr>\n",
       "\t<tr><th scope=row>Relatedness</th><td>0.9058087</td><td>0.9050896</td><td>0.5455756</td><td>0.9086571</td></tr>\n",
       "\t<tr><th scope=row>Global_Satisfaction</th><td>0.8900326</td><td>0.8897378</td><td>0.7301652</td><td>0.8970137</td></tr>\n",
       "</tbody>\n",
       "</table>\n"
      ],
      "text/latex": [
       "A matrix: 6 x 4 of type dbl\n",
       "\\begin{tabular}{r|llll}\n",
       "  & alpha & rhoC & AVE & rhoA\\\\\n",
       "\\hline\n",
       "\tChair\\_Support & 0.9601612 & 0.9597697 & 0.7992262 & 0.9605354\\\\\n",
       "\tDepartment\\_feedback\\_and\\_Support & 0.8934683 & 0.8926536 & 0.6753717 & 0.8932969\\\\\n",
       "\tInst\\_support & 0.8174050 & 0.8188409 & 0.4759279 & 0.8221651\\\\\n",
       "\tVolition\\_Autonomy & 0.8155862 & 0.8160914 & 0.4704119 & 0.8166718\\\\\n",
       "\tRelatedness & 0.9058087 & 0.9050896 & 0.5455756 & 0.9086571\\\\\n",
       "\tGlobal\\_Satisfaction & 0.8900326 & 0.8897378 & 0.7301652 & 0.8970137\\\\\n",
       "\\end{tabular}\n"
      ],
      "text/markdown": [
       "\n",
       "A matrix: 6 x 4 of type dbl\n",
       "\n",
       "| <!--/--> | alpha | rhoC | AVE | rhoA |\n",
       "|---|---|---|---|---|\n",
       "| Chair_Support | 0.9601612 | 0.9597697 | 0.7992262 | 0.9605354 |\n",
       "| Department_feedback_and_Support | 0.8934683 | 0.8926536 | 0.6753717 | 0.8932969 |\n",
       "| Inst_support | 0.8174050 | 0.8188409 | 0.4759279 | 0.8221651 |\n",
       "| Volition_Autonomy | 0.8155862 | 0.8160914 | 0.4704119 | 0.8166718 |\n",
       "| Relatedness | 0.9058087 | 0.9050896 | 0.5455756 | 0.9086571 |\n",
       "| Global_Satisfaction | 0.8900326 | 0.8897378 | 0.7301652 | 0.8970137 |\n",
       "\n"
      ],
      "text/plain": [
       "                                alpha     rhoC      AVE       rhoA     \n",
       "Chair_Support                   0.9601612 0.9597697 0.7992262 0.9605354\n",
       "Department_feedback_and_Support 0.8934683 0.8926536 0.6753717 0.8932969\n",
       "Inst_support                    0.8174050 0.8188409 0.4759279 0.8221651\n",
       "Volition_Autonomy               0.8155862 0.8160914 0.4704119 0.8166718\n",
       "Relatedness                     0.9058087 0.9050896 0.5455756 0.9086571\n",
       "Global_Satisfaction             0.8900326 0.8897378 0.7301652 0.8970137"
      ]
     },
     "metadata": {},
     "output_type": "display_data"
    }
   ],
   "source": [
    "summary$reliability"
   ]
  },
  {
   "cell_type": "markdown",
   "metadata": {},
   "source": [
    "#Discriminant Validity \n",
    "\n",
    "Metric measures the extent to which a construct is different from other constructs. Values should be below 0.90 for structural models with similar constructs. Values should be blow 0.85 (Henseler et al. 2015). As we can see, all constructs are below the 0.85 threshold."
   ]
  },
  {
   "cell_type": "code",
   "execution_count": 6,
   "metadata": {
    "vscode": {
     "languageId": "r"
    }
   },
   "outputs": [
    {
     "data": {
      "text/html": [
       "<table class=\"dataframe\">\n",
       "<caption>A matrix: 6 x 6 of type dbl</caption>\n",
       "<thead>\n",
       "\t<tr><th></th><th scope=col>Chair_Support</th><th scope=col>Department_feedback_and_Support</th><th scope=col>Inst_support</th><th scope=col>Volition_Autonomy</th><th scope=col>Relatedness</th><th scope=col>Global_Satisfaction</th></tr>\n",
       "</thead>\n",
       "<tbody>\n",
       "\t<tr><th scope=row>Chair_Support</th><td>       NA</td><td>       NA</td><td>       NA</td><td>       NA</td><td>       NA</td><td>NA</td></tr>\n",
       "\t<tr><th scope=row>Department_feedback_and_Support</th><td>0.6667276</td><td>       NA</td><td>       NA</td><td>       NA</td><td>       NA</td><td>NA</td></tr>\n",
       "\t<tr><th scope=row>Inst_support</th><td>0.4407293</td><td>0.5723584</td><td>       NA</td><td>       NA</td><td>       NA</td><td>NA</td></tr>\n",
       "\t<tr><th scope=row>Volition_Autonomy</th><td>0.6718151</td><td>0.7373136</td><td>0.6786843</td><td>       NA</td><td>       NA</td><td>NA</td></tr>\n",
       "\t<tr><th scope=row>Relatedness</th><td>0.6854236</td><td>0.8018905</td><td>0.5762488</td><td>0.7544997</td><td>       NA</td><td>NA</td></tr>\n",
       "\t<tr><th scope=row>Global_Satisfaction</th><td>0.6564227</td><td>0.8005053</td><td>0.6595763</td><td>0.7503061</td><td>0.8405824</td><td>NA</td></tr>\n",
       "</tbody>\n",
       "</table>\n"
      ],
      "text/latex": [
       "A matrix: 6 x 6 of type dbl\n",
       "\\begin{tabular}{r|llllll}\n",
       "  & Chair\\_Support & Department\\_feedback\\_and\\_Support & Inst\\_support & Volition\\_Autonomy & Relatedness & Global\\_Satisfaction\\\\\n",
       "\\hline\n",
       "\tChair\\_Support &        NA &        NA &        NA &        NA &        NA & NA\\\\\n",
       "\tDepartment\\_feedback\\_and\\_Support & 0.6667276 &        NA &        NA &        NA &        NA & NA\\\\\n",
       "\tInst\\_support & 0.4407293 & 0.5723584 &        NA &        NA &        NA & NA\\\\\n",
       "\tVolition\\_Autonomy & 0.6718151 & 0.7373136 & 0.6786843 &        NA &        NA & NA\\\\\n",
       "\tRelatedness & 0.6854236 & 0.8018905 & 0.5762488 & 0.7544997 &        NA & NA\\\\\n",
       "\tGlobal\\_Satisfaction & 0.6564227 & 0.8005053 & 0.6595763 & 0.7503061 & 0.8405824 & NA\\\\\n",
       "\\end{tabular}\n"
      ],
      "text/markdown": [
       "\n",
       "A matrix: 6 x 6 of type dbl\n",
       "\n",
       "| <!--/--> | Chair_Support | Department_feedback_and_Support | Inst_support | Volition_Autonomy | Relatedness | Global_Satisfaction |\n",
       "|---|---|---|---|---|---|---|\n",
       "| Chair_Support |        NA |        NA |        NA |        NA |        NA | NA |\n",
       "| Department_feedback_and_Support | 0.6667276 |        NA |        NA |        NA |        NA | NA |\n",
       "| Inst_support | 0.4407293 | 0.5723584 |        NA |        NA |        NA | NA |\n",
       "| Volition_Autonomy | 0.6718151 | 0.7373136 | 0.6786843 |        NA |        NA | NA |\n",
       "| Relatedness | 0.6854236 | 0.8018905 | 0.5762488 | 0.7544997 |        NA | NA |\n",
       "| Global_Satisfaction | 0.6564227 | 0.8005053 | 0.6595763 | 0.7503061 | 0.8405824 | NA |\n",
       "\n"
      ],
      "text/plain": [
       "                                Chair_Support Department_feedback_and_Support\n",
       "Chair_Support                          NA            NA                      \n",
       "Department_feedback_and_Support 0.6667276            NA                      \n",
       "Inst_support                    0.4407293     0.5723584                      \n",
       "Volition_Autonomy               0.6718151     0.7373136                      \n",
       "Relatedness                     0.6854236     0.8018905                      \n",
       "Global_Satisfaction             0.6564227     0.8005053                      \n",
       "                                Inst_support Volition_Autonomy Relatedness\n",
       "Chair_Support                          NA           NA                NA  \n",
       "Department_feedback_and_Support        NA           NA                NA  \n",
       "Inst_support                           NA           NA                NA  \n",
       "Volition_Autonomy               0.6786843           NA                NA  \n",
       "Relatedness                     0.5762488    0.7544997                NA  \n",
       "Global_Satisfaction             0.6595763    0.7503061         0.8405824  \n",
       "                                Global_Satisfaction\n",
       "Chair_Support                   NA                 \n",
       "Department_feedback_and_Support NA                 \n",
       "Inst_support                    NA                 \n",
       "Volition_Autonomy               NA                 \n",
       "Relatedness                     NA                 \n",
       "Global_Satisfaction             NA                 "
      ]
     },
     "metadata": {},
     "output_type": "display_data"
    }
   ],
   "source": [
    "summary$validity$htmt\n"
   ]
  },
  {
   "cell_type": "markdown",
   "metadata": {},
   "source": [
    "Thresholds must be lower than 0.90"
   ]
  },
  {
   "cell_type": "code",
   "execution_count": 9,
   "metadata": {
    "vscode": {
     "languageId": "r"
    }
   },
   "outputs": [
    {
     "name": "stderr",
     "output_type": "stream",
     "text": [
      "Bootstrapping model using seminr...\n",
      "\n"
     ]
    },
    {
     "name": "stderr",
     "output_type": "stream",
     "text": [
      "SEMinR Model successfully bootstrapped\n",
      "\n"
     ]
    }
   ],
   "source": [
    "boot_model <- bootstrap_model(seminr_model = pls_model, nboot = 10000)\n",
    "sum_boot <- summary(boot_model, alpha = 0.10)"
   ]
  },
  {
   "cell_type": "code",
   "execution_count": 10,
   "metadata": {
    "vscode": {
     "languageId": "r"
    }
   },
   "outputs": [
    {
     "data": {
      "text/html": [
       "<table class=\"dataframe\">\n",
       "<caption>A matrix: 15 x 6 of type dbl</caption>\n",
       "<thead>\n",
       "\t<tr><th></th><th scope=col>Original Est.</th><th scope=col>Bootstrap Mean</th><th scope=col>Bootstrap SD</th><th scope=col>T Stat.</th><th scope=col>5% CI</th><th scope=col>95% CI</th></tr>\n",
       "</thead>\n",
       "<tbody>\n",
       "\t<tr><th scope=row><span style=white-space:pre-wrap>Chair_Support  -&gt;  Department_feedback_and_Support</span></th><td>0.6667276</td><td>0.6664097</td><td>0.02356908</td><td>28.28824</td><td>0.6262897</td><td>0.7039024</td></tr>\n",
       "\t<tr><th scope=row><span style=white-space:pre-wrap>Chair_Support  -&gt;  Inst_support</span></th><td>0.4407293</td><td>0.4407944</td><td>0.03297379</td><td>13.36605</td><td>0.3850546</td><td>0.4934932</td></tr>\n",
       "\t<tr><th scope=row><span style=white-space:pre-wrap>Chair_Support  -&gt;  Volition_Autonomy</span></th><td>0.6718151</td><td>0.6715829</td><td>0.02454522</td><td>27.37050</td><td>0.6309554</td><td>0.7112423</td></tr>\n",
       "\t<tr><th scope=row><span style=white-space:pre-wrap>Chair_Support  -&gt;  Relatedness</span></th><td>0.6854236</td><td>0.6850077</td><td>0.02378952</td><td>28.81200</td><td>0.6447856</td><td>0.7228918</td></tr>\n",
       "\t<tr><th scope=row><span style=white-space:pre-wrap>Chair_Support  -&gt;  Global_Satisfaction</span></th><td>0.6564227</td><td>0.6560614</td><td>0.02666317</td><td>24.61908</td><td>0.6109516</td><td>0.6986506</td></tr>\n",
       "\t<tr><th scope=row><span style=white-space:pre-wrap>Department_feedback_and_Support  -&gt;  Inst_support</span></th><td>0.5723584</td><td>0.5724413</td><td>0.03077452</td><td>18.59845</td><td>0.5211367</td><td>0.6221133</td></tr>\n",
       "\t<tr><th scope=row><span style=white-space:pre-wrap>Department_feedback_and_Support  -&gt;  Volition_Autonomy</span></th><td>0.7373136</td><td>0.7371108</td><td>0.02209823</td><td>33.36528</td><td>0.7006147</td><td>0.7735136</td></tr>\n",
       "\t<tr><th scope=row><span style=white-space:pre-wrap>Department_feedback_and_Support  -&gt;  Relatedness</span></th><td>0.8018905</td><td>0.8013620</td><td>0.01765828</td><td>45.41159</td><td>0.7715649</td><td>0.8296912</td></tr>\n",
       "\t<tr><th scope=row><span style=white-space:pre-wrap>Department_feedback_and_Support  -&gt;  Global_Satisfaction</span></th><td>0.8005053</td><td>0.8005627</td><td>0.01804901</td><td>44.35175</td><td>0.7702252</td><td>0.8293796</td></tr>\n",
       "\t<tr><th scope=row><span style=white-space:pre-wrap>Inst_support  -&gt;  Volition_Autonomy</span></th><td>0.6786843</td><td>0.6784822</td><td>0.02891932</td><td>23.46820</td><td>0.6299352</td><td>0.7253375</td></tr>\n",
       "\t<tr><th scope=row><span style=white-space:pre-wrap>Inst_support  -&gt;  Relatedness</span></th><td>0.5762488</td><td>0.5760956</td><td>0.03277193</td><td>17.58361</td><td>0.5206760</td><td>0.6282928</td></tr>\n",
       "\t<tr><th scope=row><span style=white-space:pre-wrap>Inst_support  -&gt;  Global_Satisfaction</span></th><td>0.6595763</td><td>0.6595707</td><td>0.02799809</td><td>23.55790</td><td>0.6124678</td><td>0.7045535</td></tr>\n",
       "\t<tr><th scope=row><span style=white-space:pre-wrap>Volition_Autonomy  -&gt;  Relatedness</span></th><td>0.7544997</td><td>0.7542665</td><td>0.02265327</td><td>33.30644</td><td>0.7160078</td><td>0.7900806</td></tr>\n",
       "\t<tr><th scope=row><span style=white-space:pre-wrap>Volition_Autonomy  -&gt;  Global_Satisfaction</span></th><td>0.7503061</td><td>0.7503045</td><td>0.02158772</td><td>34.75615</td><td>0.7140151</td><td>0.7853626</td></tr>\n",
       "\t<tr><th scope=row><span style=white-space:pre-wrap>Relatedness  -&gt;  Global_Satisfaction</span></th><td>0.8405824</td><td>0.8401227</td><td>0.01600995</td><td>52.50376</td><td>0.8128993</td><td>0.8652721</td></tr>\n",
       "</tbody>\n",
       "</table>\n"
      ],
      "text/latex": [
       "A matrix: 15 x 6 of type dbl\n",
       "\\begin{tabular}{r|llllll}\n",
       "  & Original Est. & Bootstrap Mean & Bootstrap SD & T Stat. & 5\\% CI & 95\\% CI\\\\\n",
       "\\hline\n",
       "\tChair\\_Support  ->  Department\\_feedback\\_and\\_Support & 0.6667276 & 0.6664097 & 0.02356908 & 28.28824 & 0.6262897 & 0.7039024\\\\\n",
       "\tChair\\_Support  ->  Inst\\_support & 0.4407293 & 0.4407944 & 0.03297379 & 13.36605 & 0.3850546 & 0.4934932\\\\\n",
       "\tChair\\_Support  ->  Volition\\_Autonomy & 0.6718151 & 0.6715829 & 0.02454522 & 27.37050 & 0.6309554 & 0.7112423\\\\\n",
       "\tChair\\_Support  ->  Relatedness & 0.6854236 & 0.6850077 & 0.02378952 & 28.81200 & 0.6447856 & 0.7228918\\\\\n",
       "\tChair\\_Support  ->  Global\\_Satisfaction & 0.6564227 & 0.6560614 & 0.02666317 & 24.61908 & 0.6109516 & 0.6986506\\\\\n",
       "\tDepartment\\_feedback\\_and\\_Support  ->  Inst\\_support & 0.5723584 & 0.5724413 & 0.03077452 & 18.59845 & 0.5211367 & 0.6221133\\\\\n",
       "\tDepartment\\_feedback\\_and\\_Support  ->  Volition\\_Autonomy & 0.7373136 & 0.7371108 & 0.02209823 & 33.36528 & 0.7006147 & 0.7735136\\\\\n",
       "\tDepartment\\_feedback\\_and\\_Support  ->  Relatedness & 0.8018905 & 0.8013620 & 0.01765828 & 45.41159 & 0.7715649 & 0.8296912\\\\\n",
       "\tDepartment\\_feedback\\_and\\_Support  ->  Global\\_Satisfaction & 0.8005053 & 0.8005627 & 0.01804901 & 44.35175 & 0.7702252 & 0.8293796\\\\\n",
       "\tInst\\_support  ->  Volition\\_Autonomy & 0.6786843 & 0.6784822 & 0.02891932 & 23.46820 & 0.6299352 & 0.7253375\\\\\n",
       "\tInst\\_support  ->  Relatedness & 0.5762488 & 0.5760956 & 0.03277193 & 17.58361 & 0.5206760 & 0.6282928\\\\\n",
       "\tInst\\_support  ->  Global\\_Satisfaction & 0.6595763 & 0.6595707 & 0.02799809 & 23.55790 & 0.6124678 & 0.7045535\\\\\n",
       "\tVolition\\_Autonomy  ->  Relatedness & 0.7544997 & 0.7542665 & 0.02265327 & 33.30644 & 0.7160078 & 0.7900806\\\\\n",
       "\tVolition\\_Autonomy  ->  Global\\_Satisfaction & 0.7503061 & 0.7503045 & 0.02158772 & 34.75615 & 0.7140151 & 0.7853626\\\\\n",
       "\tRelatedness  ->  Global\\_Satisfaction & 0.8405824 & 0.8401227 & 0.01600995 & 52.50376 & 0.8128993 & 0.8652721\\\\\n",
       "\\end{tabular}\n"
      ],
      "text/markdown": [
       "\n",
       "A matrix: 15 x 6 of type dbl\n",
       "\n",
       "| <!--/--> | Original Est. | Bootstrap Mean | Bootstrap SD | T Stat. | 5% CI | 95% CI |\n",
       "|---|---|---|---|---|---|---|\n",
       "| Chair_Support  -&gt;  Department_feedback_and_Support | 0.6667276 | 0.6664097 | 0.02356908 | 28.28824 | 0.6262897 | 0.7039024 |\n",
       "| Chair_Support  -&gt;  Inst_support | 0.4407293 | 0.4407944 | 0.03297379 | 13.36605 | 0.3850546 | 0.4934932 |\n",
       "| Chair_Support  -&gt;  Volition_Autonomy | 0.6718151 | 0.6715829 | 0.02454522 | 27.37050 | 0.6309554 | 0.7112423 |\n",
       "| Chair_Support  -&gt;  Relatedness | 0.6854236 | 0.6850077 | 0.02378952 | 28.81200 | 0.6447856 | 0.7228918 |\n",
       "| Chair_Support  -&gt;  Global_Satisfaction | 0.6564227 | 0.6560614 | 0.02666317 | 24.61908 | 0.6109516 | 0.6986506 |\n",
       "| Department_feedback_and_Support  -&gt;  Inst_support | 0.5723584 | 0.5724413 | 0.03077452 | 18.59845 | 0.5211367 | 0.6221133 |\n",
       "| Department_feedback_and_Support  -&gt;  Volition_Autonomy | 0.7373136 | 0.7371108 | 0.02209823 | 33.36528 | 0.7006147 | 0.7735136 |\n",
       "| Department_feedback_and_Support  -&gt;  Relatedness | 0.8018905 | 0.8013620 | 0.01765828 | 45.41159 | 0.7715649 | 0.8296912 |\n",
       "| Department_feedback_and_Support  -&gt;  Global_Satisfaction | 0.8005053 | 0.8005627 | 0.01804901 | 44.35175 | 0.7702252 | 0.8293796 |\n",
       "| Inst_support  -&gt;  Volition_Autonomy | 0.6786843 | 0.6784822 | 0.02891932 | 23.46820 | 0.6299352 | 0.7253375 |\n",
       "| Inst_support  -&gt;  Relatedness | 0.5762488 | 0.5760956 | 0.03277193 | 17.58361 | 0.5206760 | 0.6282928 |\n",
       "| Inst_support  -&gt;  Global_Satisfaction | 0.6595763 | 0.6595707 | 0.02799809 | 23.55790 | 0.6124678 | 0.7045535 |\n",
       "| Volition_Autonomy  -&gt;  Relatedness | 0.7544997 | 0.7542665 | 0.02265327 | 33.30644 | 0.7160078 | 0.7900806 |\n",
       "| Volition_Autonomy  -&gt;  Global_Satisfaction | 0.7503061 | 0.7503045 | 0.02158772 | 34.75615 | 0.7140151 | 0.7853626 |\n",
       "| Relatedness  -&gt;  Global_Satisfaction | 0.8405824 | 0.8401227 | 0.01600995 | 52.50376 | 0.8128993 | 0.8652721 |\n",
       "\n"
      ],
      "text/plain": [
       "                                                         Original Est.\n",
       "Chair_Support  ->  Department_feedback_and_Support       0.6667276    \n",
       "Chair_Support  ->  Inst_support                          0.4407293    \n",
       "Chair_Support  ->  Volition_Autonomy                     0.6718151    \n",
       "Chair_Support  ->  Relatedness                           0.6854236    \n",
       "Chair_Support  ->  Global_Satisfaction                   0.6564227    \n",
       "Department_feedback_and_Support  ->  Inst_support        0.5723584    \n",
       "Department_feedback_and_Support  ->  Volition_Autonomy   0.7373136    \n",
       "Department_feedback_and_Support  ->  Relatedness         0.8018905    \n",
       "Department_feedback_and_Support  ->  Global_Satisfaction 0.8005053    \n",
       "Inst_support  ->  Volition_Autonomy                      0.6786843    \n",
       "Inst_support  ->  Relatedness                            0.5762488    \n",
       "Inst_support  ->  Global_Satisfaction                    0.6595763    \n",
       "Volition_Autonomy  ->  Relatedness                       0.7544997    \n",
       "Volition_Autonomy  ->  Global_Satisfaction               0.7503061    \n",
       "Relatedness  ->  Global_Satisfaction                     0.8405824    \n",
       "                                                         Bootstrap Mean\n",
       "Chair_Support  ->  Department_feedback_and_Support       0.6664097     \n",
       "Chair_Support  ->  Inst_support                          0.4407944     \n",
       "Chair_Support  ->  Volition_Autonomy                     0.6715829     \n",
       "Chair_Support  ->  Relatedness                           0.6850077     \n",
       "Chair_Support  ->  Global_Satisfaction                   0.6560614     \n",
       "Department_feedback_and_Support  ->  Inst_support        0.5724413     \n",
       "Department_feedback_and_Support  ->  Volition_Autonomy   0.7371108     \n",
       "Department_feedback_and_Support  ->  Relatedness         0.8013620     \n",
       "Department_feedback_and_Support  ->  Global_Satisfaction 0.8005627     \n",
       "Inst_support  ->  Volition_Autonomy                      0.6784822     \n",
       "Inst_support  ->  Relatedness                            0.5760956     \n",
       "Inst_support  ->  Global_Satisfaction                    0.6595707     \n",
       "Volition_Autonomy  ->  Relatedness                       0.7542665     \n",
       "Volition_Autonomy  ->  Global_Satisfaction               0.7503045     \n",
       "Relatedness  ->  Global_Satisfaction                     0.8401227     \n",
       "                                                         Bootstrap SD T Stat. \n",
       "Chair_Support  ->  Department_feedback_and_Support       0.02356908   28.28824\n",
       "Chair_Support  ->  Inst_support                          0.03297379   13.36605\n",
       "Chair_Support  ->  Volition_Autonomy                     0.02454522   27.37050\n",
       "Chair_Support  ->  Relatedness                           0.02378952   28.81200\n",
       "Chair_Support  ->  Global_Satisfaction                   0.02666317   24.61908\n",
       "Department_feedback_and_Support  ->  Inst_support        0.03077452   18.59845\n",
       "Department_feedback_and_Support  ->  Volition_Autonomy   0.02209823   33.36528\n",
       "Department_feedback_and_Support  ->  Relatedness         0.01765828   45.41159\n",
       "Department_feedback_and_Support  ->  Global_Satisfaction 0.01804901   44.35175\n",
       "Inst_support  ->  Volition_Autonomy                      0.02891932   23.46820\n",
       "Inst_support  ->  Relatedness                            0.03277193   17.58361\n",
       "Inst_support  ->  Global_Satisfaction                    0.02799809   23.55790\n",
       "Volition_Autonomy  ->  Relatedness                       0.02265327   33.30644\n",
       "Volition_Autonomy  ->  Global_Satisfaction               0.02158772   34.75615\n",
       "Relatedness  ->  Global_Satisfaction                     0.01600995   52.50376\n",
       "                                                         5% CI     95% CI   \n",
       "Chair_Support  ->  Department_feedback_and_Support       0.6262897 0.7039024\n",
       "Chair_Support  ->  Inst_support                          0.3850546 0.4934932\n",
       "Chair_Support  ->  Volition_Autonomy                     0.6309554 0.7112423\n",
       "Chair_Support  ->  Relatedness                           0.6447856 0.7228918\n",
       "Chair_Support  ->  Global_Satisfaction                   0.6109516 0.6986506\n",
       "Department_feedback_and_Support  ->  Inst_support        0.5211367 0.6221133\n",
       "Department_feedback_and_Support  ->  Volition_Autonomy   0.7006147 0.7735136\n",
       "Department_feedback_and_Support  ->  Relatedness         0.7715649 0.8296912\n",
       "Department_feedback_and_Support  ->  Global_Satisfaction 0.7702252 0.8293796\n",
       "Inst_support  ->  Volition_Autonomy                      0.6299352 0.7253375\n",
       "Inst_support  ->  Relatedness                            0.5206760 0.6282928\n",
       "Inst_support  ->  Global_Satisfaction                    0.6124678 0.7045535\n",
       "Volition_Autonomy  ->  Relatedness                       0.7160078 0.7900806\n",
       "Volition_Autonomy  ->  Global_Satisfaction               0.7140151 0.7853626\n",
       "Relatedness  ->  Global_Satisfaction                     0.8128993 0.8652721"
      ]
     },
     "metadata": {},
     "output_type": "display_data"
    }
   ],
   "source": [
    "sum_boot$bootstrapped_HTMT"
   ]
  }
 ],
 "metadata": {
  "kernelspec": {
   "display_name": "R",
   "language": "R",
   "name": "ir"
  },
  "language_info": {
   "codemirror_mode": "r",
   "file_extension": ".r",
   "mimetype": "text/x-r-source",
   "name": "R",
   "pygments_lexer": "r",
   "version": "4.2.2"
  }
 },
 "nbformat": 4,
 "nbformat_minor": 2
}
