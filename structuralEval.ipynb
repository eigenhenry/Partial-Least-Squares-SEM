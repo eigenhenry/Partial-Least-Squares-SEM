{
 "cells": [
  {
   "cell_type": "code",
   "execution_count": 32,
   "metadata": {
    "vscode": {
     "languageId": "r"
    }
   },
   "outputs": [
    {
     "name": "stderr",
     "output_type": "stream",
     "text": [
      "Generating the seminr model\n",
      "\n",
      "All 971 observations are valid.\n",
      "\n"
     ]
    }
   ],
   "source": [
    "library(seminr)\n",
    "library(readxl)\n",
    "library(writexl)\n",
    "library(ggplot2)\n",
    "\n",
    "# Load data\n",
    "data <- read.csv('/Users/henrysalgado/Desktop/Coache Data Analysis/october24_forest_imputed_data.csv')\n",
    "\n",
    "# Measurement Model\n",
    "measurements <- constructs(\n",
    "  reflective(\"Chair_Support\", c(\"q185h\", \"q185i\", \"q185j\", \"q185k\", \"q215l\", \"q185l\")),\n",
    "  reflective(\"Department_feedback_and_Support\", c(\"q215a\", \"q215b\", \"q215d\", \"q215i\")),\n",
    "  reflective(\"Inst_support\", c( \"q90c\", \"q90d\", \"q90e\", \"q90f\", \"q90h\")),\n",
    "  reflective(\"Relatedness\", c(\"q195a\", \"q195b\", \"q195e\", \"q205a\", \"q205d\", \"q205c\", \"q210c\", \"q212a\")),\n",
    "  reflective(\"Competence\", c(\"q45a\", \"q45c\", \"q45e\")),\n",
    "  reflective(\"Volition_Autonomy\", c(\"q60c\", \"q60d\", \"q70c\", \"q70h\",\"q60a\")),\n",
    "  reflective(\"Teaching_and_Service_Satisfaction\", c(\"q70a\", \"q70b\", \"q70e\")),\n",
    "  reflective(\"Global_Satisfaction\", c(\"q245d\", \"q250a\", \"q250b\"))\n",
    ")\n",
    "\n",
    "# Structural Model\n",
    "structure <- relationships(\n",
    "  paths(from = c(\"Chair_Support\", \"Department_feedback_and_Support\", \"Inst_support\"),\n",
    "        to = c(\"Relatedness\", \"Volition_Autonomy\")),\n",
    "  paths(from = c(\"Volition_Autonomy\", \"Relatedness\"),\n",
    "        to = c(\"Global_Satisfaction\"))\n",
    ")\n",
    "\n",
    "# Estimate the SEM model\n",
    "pls_model <- estimate_pls(data = data, measurement_model = measurements, structural_model = structure)\n",
    "\n",
    "summary <- summary(pls_model)\n",
    "\n",
    "plot(pls_model)\n",
    "\n"
   ]
  },
  {
   "cell_type": "markdown",
   "metadata": {},
   "source": [
    "Collinearity Evaluation in relation to each endogenous construct. The values should be less than 3"
   ]
  },
  {
   "cell_type": "code",
   "execution_count": 33,
   "metadata": {
    "vscode": {
     "languageId": "r"
    }
   },
   "outputs": [
    {
     "data": {
      "text/html": [
       "<dl>\n",
       "\t<dt>$Relatedness</dt>\n",
       "\t\t<dd><style>\n",
       ".dl-inline {width: auto; margin:0; padding: 0}\n",
       ".dl-inline>dt, .dl-inline>dd {float: none; width: auto; display: inline-block}\n",
       ".dl-inline>dt::after {content: \":\\0020\"; padding-right: .5ex}\n",
       ".dl-inline>dt:not(:first-of-type) {padding-left: .5ex}\n",
       "</style><dl class=dl-inline><dt>Chair_Support</dt><dd>1.65101395308542</dd><dt>Department_feedback_and_Support</dt><dd>1.84248266834534</dd><dt>Inst_support</dt><dd>1.33908359555586</dd></dl>\n",
       "</dd>\n",
       "\t<dt>$Volition_Autonomy</dt>\n",
       "\t\t<dd><style>\n",
       ".dl-inline {width: auto; margin:0; padding: 0}\n",
       ".dl-inline>dt, .dl-inline>dd {float: none; width: auto; display: inline-block}\n",
       ".dl-inline>dt::after {content: \":\\0020\"; padding-right: .5ex}\n",
       ".dl-inline>dt:not(:first-of-type) {padding-left: .5ex}\n",
       "</style><dl class=dl-inline><dt>Chair_Support</dt><dd>1.65101395308542</dd><dt>Department_feedback_and_Support</dt><dd>1.84248266834534</dd><dt>Inst_support</dt><dd>1.33908359555586</dd></dl>\n",
       "</dd>\n",
       "\t<dt>$Global_Satisfaction</dt>\n",
       "\t\t<dd><style>\n",
       ".dl-inline {width: auto; margin:0; padding: 0}\n",
       ".dl-inline>dt, .dl-inline>dd {float: none; width: auto; display: inline-block}\n",
       ".dl-inline>dt::after {content: \":\\0020\"; padding-right: .5ex}\n",
       ".dl-inline>dt:not(:first-of-type) {padding-left: .5ex}\n",
       "</style><dl class=dl-inline><dt>Volition_Autonomy</dt><dd>1.73638309481274</dd><dt>Relatedness</dt><dd>1.73638309481274</dd></dl>\n",
       "</dd>\n",
       "</dl>\n"
      ],
      "text/latex": [
       "\\begin{description}\n",
       "\\item[\\$Relatedness] \\begin{description*}\n",
       "\\item[Chair\\textbackslash{}\\_Support] 1.65101395308542\n",
       "\\item[Department\\textbackslash{}\\_feedback\\textbackslash{}\\_and\\textbackslash{}\\_Support] 1.84248266834534\n",
       "\\item[Inst\\textbackslash{}\\_support] 1.33908359555586\n",
       "\\end{description*}\n",
       "\n",
       "\\item[\\$Volition\\_Autonomy] \\begin{description*}\n",
       "\\item[Chair\\textbackslash{}\\_Support] 1.65101395308542\n",
       "\\item[Department\\textbackslash{}\\_feedback\\textbackslash{}\\_and\\textbackslash{}\\_Support] 1.84248266834534\n",
       "\\item[Inst\\textbackslash{}\\_support] 1.33908359555586\n",
       "\\end{description*}\n",
       "\n",
       "\\item[\\$Global\\_Satisfaction] \\begin{description*}\n",
       "\\item[Volition\\textbackslash{}\\_Autonomy] 1.73638309481274\n",
       "\\item[Relatedness] 1.73638309481274\n",
       "\\end{description*}\n",
       "\n",
       "\\end{description}\n"
      ],
      "text/markdown": [
       "$Relatedness\n",
       ":   Chair_Support\n",
       ":   1.65101395308542Department_feedback_and_Support\n",
       ":   1.84248266834534Inst_support\n",
       ":   1.33908359555586\n",
       "\n",
       "\n",
       "$Volition_Autonomy\n",
       ":   Chair_Support\n",
       ":   1.65101395308542Department_feedback_and_Support\n",
       ":   1.84248266834534Inst_support\n",
       ":   1.33908359555586\n",
       "\n",
       "\n",
       "$Global_Satisfaction\n",
       ":   Volition_Autonomy\n",
       ":   1.73638309481274Relatedness\n",
       ":   1.73638309481274\n",
       "\n",
       "\n",
       "\n",
       "\n"
      ],
      "text/plain": [
       "Relatedness :\n",
       "                  Chair_Support Department_feedback_and_Support \n",
       "                          1.651                           1.842 \n",
       "                   Inst_support \n",
       "                          1.339 \n",
       "\n",
       "Volition_Autonomy :\n",
       "                  Chair_Support Department_feedback_and_Support \n",
       "                          1.651                           1.842 \n",
       "                   Inst_support \n",
       "                          1.339 \n",
       "\n",
       "Global_Satisfaction :\n",
       "Volition_Autonomy       Relatedness \n",
       "            1.736             1.736 \n"
      ]
     },
     "metadata": {},
     "output_type": "display_data"
    }
   ],
   "source": [
    "summary$vif_antecedents"
   ]
  },
  {
   "cell_type": "markdown",
   "metadata": {},
   "source": [
    "Let's evaluate the relevance and significnce of structural paths"
   ]
  },
  {
   "cell_type": "code",
   "execution_count": 19,
   "metadata": {
    "vscode": {
     "languageId": "r"
    }
   },
   "outputs": [
    {
     "name": "stderr",
     "output_type": "stream",
     "text": [
      "Bootstrapping model using seminr...\n",
      "\n",
      "SEMinR Model successfully bootstrapped\n",
      "\n"
     ]
    }
   ],
   "source": [
    "boot <- bootstrap_model(seminr_model = pls_model, nboot = 10000, seed = 123)"
   ]
  },
  {
   "cell_type": "code",
   "execution_count": 34,
   "metadata": {
    "vscode": {
     "languageId": "r"
    }
   },
   "outputs": [
    {
     "data": {
      "text/html": [
       "<table class=\"dataframe\">\n",
       "<caption>A matrix: 8 x 6 of type dbl</caption>\n",
       "<thead>\n",
       "\t<tr><th></th><th scope=col>Original Est.</th><th scope=col>Bootstrap Mean</th><th scope=col>Bootstrap SD</th><th scope=col>T Stat.</th><th scope=col>2.5% CI</th><th scope=col>97.5% CI</th></tr>\n",
       "</thead>\n",
       "<tbody>\n",
       "\t<tr><th scope=row><span style=white-space:pre-wrap>Chair_Support  -&gt;  Volition_Autonomy</span></th><td>0.2910082</td><td>0.2905635</td><td>0.03900040</td><td> 7.461673</td><td>0.21266028</td><td>0.3665179</td></tr>\n",
       "\t<tr><th scope=row><span style=white-space:pre-wrap>Chair_Support  -&gt;  Relatedness</span></th><td>0.2576893</td><td>0.2568840</td><td>0.03681036</td><td> 7.000456</td><td>0.18432479</td><td>0.3289841</td></tr>\n",
       "\t<tr><th scope=row><span style=white-space:pre-wrap>Department_feedback_and_Support  -&gt;  Volition_Autonomy</span></th><td>0.3402014</td><td>0.3403637</td><td>0.04640833</td><td> 7.330611</td><td>0.24942630</td><td>0.4312943</td></tr>\n",
       "\t<tr><th scope=row><span style=white-space:pre-wrap>Department_feedback_and_Support  -&gt;  Relatedness</span></th><td>0.5516399</td><td>0.5516978</td><td>0.04080696</td><td>13.518280</td><td>0.47172330</td><td>0.6305290</td></tr>\n",
       "\t<tr><th scope=row><span style=white-space:pre-wrap>Inst_support  -&gt;  Volition_Autonomy</span></th><td>0.3528378</td><td>0.3537963</td><td>0.03876954</td><td> 9.100902</td><td>0.27757984</td><td>0.4303161</td></tr>\n",
       "\t<tr><th scope=row><span style=white-space:pre-wrap>Inst_support  -&gt;  Relatedness</span></th><td>0.1442715</td><td>0.1451112</td><td>0.03806356</td><td> 3.790280</td><td>0.07093618</td><td>0.2200127</td></tr>\n",
       "\t<tr><th scope=row><span style=white-space:pre-wrap>Volition_Autonomy  -&gt;  Global_Satisfaction</span></th><td>0.2591971</td><td>0.2591505</td><td>0.04245725</td><td> 6.104897</td><td>0.17593524</td><td>0.3408794</td></tr>\n",
       "\t<tr><th scope=row><span style=white-space:pre-wrap>Relatedness  -&gt;  Global_Satisfaction</span></th><td>0.6693057</td><td>0.6695130</td><td>0.03937638</td><td>16.997645</td><td>0.59260305</td><td>0.7459413</td></tr>\n",
       "</tbody>\n",
       "</table>\n"
      ],
      "text/latex": [
       "A matrix: 8 x 6 of type dbl\n",
       "\\begin{tabular}{r|llllll}\n",
       "  & Original Est. & Bootstrap Mean & Bootstrap SD & T Stat. & 2.5\\% CI & 97.5\\% CI\\\\\n",
       "\\hline\n",
       "\tChair\\_Support  ->  Volition\\_Autonomy & 0.2910082 & 0.2905635 & 0.03900040 &  7.461673 & 0.21266028 & 0.3665179\\\\\n",
       "\tChair\\_Support  ->  Relatedness & 0.2576893 & 0.2568840 & 0.03681036 &  7.000456 & 0.18432479 & 0.3289841\\\\\n",
       "\tDepartment\\_feedback\\_and\\_Support  ->  Volition\\_Autonomy & 0.3402014 & 0.3403637 & 0.04640833 &  7.330611 & 0.24942630 & 0.4312943\\\\\n",
       "\tDepartment\\_feedback\\_and\\_Support  ->  Relatedness & 0.5516399 & 0.5516978 & 0.04080696 & 13.518280 & 0.47172330 & 0.6305290\\\\\n",
       "\tInst\\_support  ->  Volition\\_Autonomy & 0.3528378 & 0.3537963 & 0.03876954 &  9.100902 & 0.27757984 & 0.4303161\\\\\n",
       "\tInst\\_support  ->  Relatedness & 0.1442715 & 0.1451112 & 0.03806356 &  3.790280 & 0.07093618 & 0.2200127\\\\\n",
       "\tVolition\\_Autonomy  ->  Global\\_Satisfaction & 0.2591971 & 0.2591505 & 0.04245725 &  6.104897 & 0.17593524 & 0.3408794\\\\\n",
       "\tRelatedness  ->  Global\\_Satisfaction & 0.6693057 & 0.6695130 & 0.03937638 & 16.997645 & 0.59260305 & 0.7459413\\\\\n",
       "\\end{tabular}\n"
      ],
      "text/markdown": [
       "\n",
       "A matrix: 8 x 6 of type dbl\n",
       "\n",
       "| <!--/--> | Original Est. | Bootstrap Mean | Bootstrap SD | T Stat. | 2.5% CI | 97.5% CI |\n",
       "|---|---|---|---|---|---|---|\n",
       "| Chair_Support  -&gt;  Volition_Autonomy | 0.2910082 | 0.2905635 | 0.03900040 |  7.461673 | 0.21266028 | 0.3665179 |\n",
       "| Chair_Support  -&gt;  Relatedness | 0.2576893 | 0.2568840 | 0.03681036 |  7.000456 | 0.18432479 | 0.3289841 |\n",
       "| Department_feedback_and_Support  -&gt;  Volition_Autonomy | 0.3402014 | 0.3403637 | 0.04640833 |  7.330611 | 0.24942630 | 0.4312943 |\n",
       "| Department_feedback_and_Support  -&gt;  Relatedness | 0.5516399 | 0.5516978 | 0.04080696 | 13.518280 | 0.47172330 | 0.6305290 |\n",
       "| Inst_support  -&gt;  Volition_Autonomy | 0.3528378 | 0.3537963 | 0.03876954 |  9.100902 | 0.27757984 | 0.4303161 |\n",
       "| Inst_support  -&gt;  Relatedness | 0.1442715 | 0.1451112 | 0.03806356 |  3.790280 | 0.07093618 | 0.2200127 |\n",
       "| Volition_Autonomy  -&gt;  Global_Satisfaction | 0.2591971 | 0.2591505 | 0.04245725 |  6.104897 | 0.17593524 | 0.3408794 |\n",
       "| Relatedness  -&gt;  Global_Satisfaction | 0.6693057 | 0.6695130 | 0.03937638 | 16.997645 | 0.59260305 | 0.7459413 |\n",
       "\n"
      ],
      "text/plain": [
       "                                                       Original Est.\n",
       "Chair_Support  ->  Volition_Autonomy                   0.2910082    \n",
       "Chair_Support  ->  Relatedness                         0.2576893    \n",
       "Department_feedback_and_Support  ->  Volition_Autonomy 0.3402014    \n",
       "Department_feedback_and_Support  ->  Relatedness       0.5516399    \n",
       "Inst_support  ->  Volition_Autonomy                    0.3528378    \n",
       "Inst_support  ->  Relatedness                          0.1442715    \n",
       "Volition_Autonomy  ->  Global_Satisfaction             0.2591971    \n",
       "Relatedness  ->  Global_Satisfaction                   0.6693057    \n",
       "                                                       Bootstrap Mean\n",
       "Chair_Support  ->  Volition_Autonomy                   0.2905635     \n",
       "Chair_Support  ->  Relatedness                         0.2568840     \n",
       "Department_feedback_and_Support  ->  Volition_Autonomy 0.3403637     \n",
       "Department_feedback_and_Support  ->  Relatedness       0.5516978     \n",
       "Inst_support  ->  Volition_Autonomy                    0.3537963     \n",
       "Inst_support  ->  Relatedness                          0.1451112     \n",
       "Volition_Autonomy  ->  Global_Satisfaction             0.2591505     \n",
       "Relatedness  ->  Global_Satisfaction                   0.6695130     \n",
       "                                                       Bootstrap SD T Stat.  \n",
       "Chair_Support  ->  Volition_Autonomy                   0.03900040    7.461673\n",
       "Chair_Support  ->  Relatedness                         0.03681036    7.000456\n",
       "Department_feedback_and_Support  ->  Volition_Autonomy 0.04640833    7.330611\n",
       "Department_feedback_and_Support  ->  Relatedness       0.04080696   13.518280\n",
       "Inst_support  ->  Volition_Autonomy                    0.03876954    9.100902\n",
       "Inst_support  ->  Relatedness                          0.03806356    3.790280\n",
       "Volition_Autonomy  ->  Global_Satisfaction             0.04245725    6.104897\n",
       "Relatedness  ->  Global_Satisfaction                   0.03937638   16.997645\n",
       "                                                       2.5% CI    97.5% CI \n",
       "Chair_Support  ->  Volition_Autonomy                   0.21266028 0.3665179\n",
       "Chair_Support  ->  Relatedness                         0.18432479 0.3289841\n",
       "Department_feedback_and_Support  ->  Volition_Autonomy 0.24942630 0.4312943\n",
       "Department_feedback_and_Support  ->  Relatedness       0.47172330 0.6305290\n",
       "Inst_support  ->  Volition_Autonomy                    0.27757984 0.4303161\n",
       "Inst_support  ->  Relatedness                          0.07093618 0.2200127\n",
       "Volition_Autonomy  ->  Global_Satisfaction             0.17593524 0.3408794\n",
       "Relatedness  ->  Global_Satisfaction                   0.59260305 0.7459413"
      ]
     },
     "metadata": {},
     "output_type": "display_data"
    }
   ],
   "source": [
    "summary_boot <- (summary(boot))\n",
    "summary_boot$bootstrapped_paths\n",
    "write.csv(x = summary_boot$bootstrapped_paths, file = \"path_significance.csv\" )"
   ]
  },
  {
   "cell_type": "code",
   "execution_count": 37,
   "metadata": {
    "vscode": {
     "languageId": "r"
    }
   },
   "outputs": [
    {
     "data": {
      "text/html": [
       "<table class=\"dataframe\">\n",
       "<caption>A matrix: 11 x 6 of type dbl</caption>\n",
       "<thead>\n",
       "\t<tr><th></th><th scope=col>Original Est.</th><th scope=col>Bootstrap Mean</th><th scope=col>Bootstrap SD</th><th scope=col>T Stat.</th><th scope=col>2.5% CI</th><th scope=col>97.5% CI</th></tr>\n",
       "</thead>\n",
       "<tbody>\n",
       "\t<tr><th scope=row><span style=white-space:pre-wrap>Chair_Support  -&gt;  Volition_Autonomy</span></th><td>0.2910082</td><td>0.2905635</td><td>0.03900040</td><td> 7.461673</td><td>0.21266028</td><td>0.3665179</td></tr>\n",
       "\t<tr><th scope=row><span style=white-space:pre-wrap>Chair_Support  -&gt;  Relatedness</span></th><td>0.2576893</td><td>0.2568840</td><td>0.03681036</td><td> 7.000456</td><td>0.18432479</td><td>0.3289841</td></tr>\n",
       "\t<tr><th scope=row><span style=white-space:pre-wrap>Chair_Support  -&gt;  Global_Satisfaction</span></th><td>0.2479014</td><td>0.2472971</td><td>0.02947881</td><td> 8.409479</td><td>0.18887479</td><td>0.3050278</td></tr>\n",
       "\t<tr><th scope=row><span style=white-space:pre-wrap>Department_feedback_and_Support  -&gt;  Volition_Autonomy</span></th><td>0.3402014</td><td>0.3403637</td><td>0.04640833</td><td> 7.330611</td><td>0.24942630</td><td>0.4312943</td></tr>\n",
       "\t<tr><th scope=row><span style=white-space:pre-wrap>Department_feedback_and_Support  -&gt;  Relatedness</span></th><td>0.5516399</td><td>0.5516978</td><td>0.04080696</td><td>13.518280</td><td>0.47172330</td><td>0.6305290</td></tr>\n",
       "\t<tr><th scope=row><span style=white-space:pre-wrap>Department_feedback_and_Support  -&gt;  Global_Satisfaction</span></th><td>0.4573949</td><td>0.4576449</td><td>0.03393770</td><td>13.477487</td><td>0.39103467</td><td>0.5252953</td></tr>\n",
       "\t<tr><th scope=row><span style=white-space:pre-wrap>Inst_support  -&gt;  Volition_Autonomy</span></th><td>0.3528378</td><td>0.3537963</td><td>0.03876954</td><td> 9.100902</td><td>0.27757984</td><td>0.4303161</td></tr>\n",
       "\t<tr><th scope=row><span style=white-space:pre-wrap>Inst_support  -&gt;  Relatedness</span></th><td>0.1442715</td><td>0.1451112</td><td>0.03806356</td><td> 3.790280</td><td>0.07093618</td><td>0.2200127</td></tr>\n",
       "\t<tr><th scope=row><span style=white-space:pre-wrap>Inst_support  -&gt;  Global_Satisfaction</span></th><td>0.1880163</td><td>0.1891762</td><td>0.03100754</td><td> 6.063567</td><td>0.12800976</td><td>0.2491690</td></tr>\n",
       "\t<tr><th scope=row><span style=white-space:pre-wrap>Volition_Autonomy  -&gt;  Global_Satisfaction</span></th><td>0.2591971</td><td>0.2591505</td><td>0.04245725</td><td> 6.104897</td><td>0.17593524</td><td>0.3408794</td></tr>\n",
       "\t<tr><th scope=row><span style=white-space:pre-wrap>Relatedness  -&gt;  Global_Satisfaction</span></th><td>0.6693057</td><td>0.6695130</td><td>0.03937638</td><td>16.997645</td><td>0.59260305</td><td>0.7459413</td></tr>\n",
       "</tbody>\n",
       "</table>\n"
      ],
      "text/latex": [
       "A matrix: 11 x 6 of type dbl\n",
       "\\begin{tabular}{r|llllll}\n",
       "  & Original Est. & Bootstrap Mean & Bootstrap SD & T Stat. & 2.5\\% CI & 97.5\\% CI\\\\\n",
       "\\hline\n",
       "\tChair\\_Support  ->  Volition\\_Autonomy & 0.2910082 & 0.2905635 & 0.03900040 &  7.461673 & 0.21266028 & 0.3665179\\\\\n",
       "\tChair\\_Support  ->  Relatedness & 0.2576893 & 0.2568840 & 0.03681036 &  7.000456 & 0.18432479 & 0.3289841\\\\\n",
       "\tChair\\_Support  ->  Global\\_Satisfaction & 0.2479014 & 0.2472971 & 0.02947881 &  8.409479 & 0.18887479 & 0.3050278\\\\\n",
       "\tDepartment\\_feedback\\_and\\_Support  ->  Volition\\_Autonomy & 0.3402014 & 0.3403637 & 0.04640833 &  7.330611 & 0.24942630 & 0.4312943\\\\\n",
       "\tDepartment\\_feedback\\_and\\_Support  ->  Relatedness & 0.5516399 & 0.5516978 & 0.04080696 & 13.518280 & 0.47172330 & 0.6305290\\\\\n",
       "\tDepartment\\_feedback\\_and\\_Support  ->  Global\\_Satisfaction & 0.4573949 & 0.4576449 & 0.03393770 & 13.477487 & 0.39103467 & 0.5252953\\\\\n",
       "\tInst\\_support  ->  Volition\\_Autonomy & 0.3528378 & 0.3537963 & 0.03876954 &  9.100902 & 0.27757984 & 0.4303161\\\\\n",
       "\tInst\\_support  ->  Relatedness & 0.1442715 & 0.1451112 & 0.03806356 &  3.790280 & 0.07093618 & 0.2200127\\\\\n",
       "\tInst\\_support  ->  Global\\_Satisfaction & 0.1880163 & 0.1891762 & 0.03100754 &  6.063567 & 0.12800976 & 0.2491690\\\\\n",
       "\tVolition\\_Autonomy  ->  Global\\_Satisfaction & 0.2591971 & 0.2591505 & 0.04245725 &  6.104897 & 0.17593524 & 0.3408794\\\\\n",
       "\tRelatedness  ->  Global\\_Satisfaction & 0.6693057 & 0.6695130 & 0.03937638 & 16.997645 & 0.59260305 & 0.7459413\\\\\n",
       "\\end{tabular}\n"
      ],
      "text/markdown": [
       "\n",
       "A matrix: 11 x 6 of type dbl\n",
       "\n",
       "| <!--/--> | Original Est. | Bootstrap Mean | Bootstrap SD | T Stat. | 2.5% CI | 97.5% CI |\n",
       "|---|---|---|---|---|---|---|\n",
       "| Chair_Support  -&gt;  Volition_Autonomy | 0.2910082 | 0.2905635 | 0.03900040 |  7.461673 | 0.21266028 | 0.3665179 |\n",
       "| Chair_Support  -&gt;  Relatedness | 0.2576893 | 0.2568840 | 0.03681036 |  7.000456 | 0.18432479 | 0.3289841 |\n",
       "| Chair_Support  -&gt;  Global_Satisfaction | 0.2479014 | 0.2472971 | 0.02947881 |  8.409479 | 0.18887479 | 0.3050278 |\n",
       "| Department_feedback_and_Support  -&gt;  Volition_Autonomy | 0.3402014 | 0.3403637 | 0.04640833 |  7.330611 | 0.24942630 | 0.4312943 |\n",
       "| Department_feedback_and_Support  -&gt;  Relatedness | 0.5516399 | 0.5516978 | 0.04080696 | 13.518280 | 0.47172330 | 0.6305290 |\n",
       "| Department_feedback_and_Support  -&gt;  Global_Satisfaction | 0.4573949 | 0.4576449 | 0.03393770 | 13.477487 | 0.39103467 | 0.5252953 |\n",
       "| Inst_support  -&gt;  Volition_Autonomy | 0.3528378 | 0.3537963 | 0.03876954 |  9.100902 | 0.27757984 | 0.4303161 |\n",
       "| Inst_support  -&gt;  Relatedness | 0.1442715 | 0.1451112 | 0.03806356 |  3.790280 | 0.07093618 | 0.2200127 |\n",
       "| Inst_support  -&gt;  Global_Satisfaction | 0.1880163 | 0.1891762 | 0.03100754 |  6.063567 | 0.12800976 | 0.2491690 |\n",
       "| Volition_Autonomy  -&gt;  Global_Satisfaction | 0.2591971 | 0.2591505 | 0.04245725 |  6.104897 | 0.17593524 | 0.3408794 |\n",
       "| Relatedness  -&gt;  Global_Satisfaction | 0.6693057 | 0.6695130 | 0.03937638 | 16.997645 | 0.59260305 | 0.7459413 |\n",
       "\n"
      ],
      "text/plain": [
       "                                                         Original Est.\n",
       "Chair_Support  ->  Volition_Autonomy                     0.2910082    \n",
       "Chair_Support  ->  Relatedness                           0.2576893    \n",
       "Chair_Support  ->  Global_Satisfaction                   0.2479014    \n",
       "Department_feedback_and_Support  ->  Volition_Autonomy   0.3402014    \n",
       "Department_feedback_and_Support  ->  Relatedness         0.5516399    \n",
       "Department_feedback_and_Support  ->  Global_Satisfaction 0.4573949    \n",
       "Inst_support  ->  Volition_Autonomy                      0.3528378    \n",
       "Inst_support  ->  Relatedness                            0.1442715    \n",
       "Inst_support  ->  Global_Satisfaction                    0.1880163    \n",
       "Volition_Autonomy  ->  Global_Satisfaction               0.2591971    \n",
       "Relatedness  ->  Global_Satisfaction                     0.6693057    \n",
       "                                                         Bootstrap Mean\n",
       "Chair_Support  ->  Volition_Autonomy                     0.2905635     \n",
       "Chair_Support  ->  Relatedness                           0.2568840     \n",
       "Chair_Support  ->  Global_Satisfaction                   0.2472971     \n",
       "Department_feedback_and_Support  ->  Volition_Autonomy   0.3403637     \n",
       "Department_feedback_and_Support  ->  Relatedness         0.5516978     \n",
       "Department_feedback_and_Support  ->  Global_Satisfaction 0.4576449     \n",
       "Inst_support  ->  Volition_Autonomy                      0.3537963     \n",
       "Inst_support  ->  Relatedness                            0.1451112     \n",
       "Inst_support  ->  Global_Satisfaction                    0.1891762     \n",
       "Volition_Autonomy  ->  Global_Satisfaction               0.2591505     \n",
       "Relatedness  ->  Global_Satisfaction                     0.6695130     \n",
       "                                                         Bootstrap SD T Stat.  \n",
       "Chair_Support  ->  Volition_Autonomy                     0.03900040    7.461673\n",
       "Chair_Support  ->  Relatedness                           0.03681036    7.000456\n",
       "Chair_Support  ->  Global_Satisfaction                   0.02947881    8.409479\n",
       "Department_feedback_and_Support  ->  Volition_Autonomy   0.04640833    7.330611\n",
       "Department_feedback_and_Support  ->  Relatedness         0.04080696   13.518280\n",
       "Department_feedback_and_Support  ->  Global_Satisfaction 0.03393770   13.477487\n",
       "Inst_support  ->  Volition_Autonomy                      0.03876954    9.100902\n",
       "Inst_support  ->  Relatedness                            0.03806356    3.790280\n",
       "Inst_support  ->  Global_Satisfaction                    0.03100754    6.063567\n",
       "Volition_Autonomy  ->  Global_Satisfaction               0.04245725    6.104897\n",
       "Relatedness  ->  Global_Satisfaction                     0.03937638   16.997645\n",
       "                                                         2.5% CI    97.5% CI \n",
       "Chair_Support  ->  Volition_Autonomy                     0.21266028 0.3665179\n",
       "Chair_Support  ->  Relatedness                           0.18432479 0.3289841\n",
       "Chair_Support  ->  Global_Satisfaction                   0.18887479 0.3050278\n",
       "Department_feedback_and_Support  ->  Volition_Autonomy   0.24942630 0.4312943\n",
       "Department_feedback_and_Support  ->  Relatedness         0.47172330 0.6305290\n",
       "Department_feedback_and_Support  ->  Global_Satisfaction 0.39103467 0.5252953\n",
       "Inst_support  ->  Volition_Autonomy                      0.27757984 0.4303161\n",
       "Inst_support  ->  Relatedness                            0.07093618 0.2200127\n",
       "Inst_support  ->  Global_Satisfaction                    0.12800976 0.2491690\n",
       "Volition_Autonomy  ->  Global_Satisfaction               0.17593524 0.3408794\n",
       "Relatedness  ->  Global_Satisfaction                     0.59260305 0.7459413"
      ]
     },
     "metadata": {},
     "output_type": "display_data"
    }
   ],
   "source": [
    "summary_boot$bootstrapped_total_paths"
   ]
  },
  {
   "cell_type": "markdown",
   "metadata": {},
   "source": [
    "These paths indicate the R^2"
   ]
  },
  {
   "cell_type": "code",
   "execution_count": 38,
   "metadata": {
    "vscode": {
     "languageId": "r"
    }
   },
   "outputs": [
    {
     "data": {
      "text/html": [
       "<table class=\"dataframe\">\n",
       "<caption>A matrix: 7 x 3 of type dbl</caption>\n",
       "<thead>\n",
       "\t<tr><th></th><th scope=col>Relatedness</th><th scope=col>Volition_Autonomy</th><th scope=col>Global_Satisfaction</th></tr>\n",
       "</thead>\n",
       "<tbody>\n",
       "\t<tr><th scope=row>R^2</th><td>0.7055407</td><td>0.6855583</td><td>0.7452893</td></tr>\n",
       "\t<tr><th scope=row>AdjR^2</th><td>0.7046272</td><td>0.6845828</td><td>0.7447631</td></tr>\n",
       "\t<tr><th scope=row>Chair_Support</th><td>0.2572787</td><td>0.2905695</td><td>       NA</td></tr>\n",
       "\t<tr><th scope=row>Department_feedback_and_Support</th><td>0.5516622</td><td>0.3404543</td><td>       NA</td></tr>\n",
       "\t<tr><th scope=row>Inst_support</th><td>0.1445792</td><td>0.3531556</td><td>       NA</td></tr>\n",
       "\t<tr><th scope=row>Volition_Autonomy</th><td>       NA</td><td>       NA</td><td>0.2584856</td></tr>\n",
       "\t<tr><th scope=row>Relatedness</th><td>       NA</td><td>       NA</td><td>0.6511492</td></tr>\n",
       "</tbody>\n",
       "</table>\n"
      ],
      "text/latex": [
       "A matrix: 7 x 3 of type dbl\n",
       "\\begin{tabular}{r|lll}\n",
       "  & Relatedness & Volition\\_Autonomy & Global\\_Satisfaction\\\\\n",
       "\\hline\n",
       "\tR\\textasciicircum{}2 & 0.7055407 & 0.6855583 & 0.7452893\\\\\n",
       "\tAdjR\\textasciicircum{}2 & 0.7046272 & 0.6845828 & 0.7447631\\\\\n",
       "\tChair\\_Support & 0.2572787 & 0.2905695 &        NA\\\\\n",
       "\tDepartment\\_feedback\\_and\\_Support & 0.5516622 & 0.3404543 &        NA\\\\\n",
       "\tInst\\_support & 0.1445792 & 0.3531556 &        NA\\\\\n",
       "\tVolition\\_Autonomy &        NA &        NA & 0.2584856\\\\\n",
       "\tRelatedness &        NA &        NA & 0.6511492\\\\\n",
       "\\end{tabular}\n"
      ],
      "text/markdown": [
       "\n",
       "A matrix: 7 x 3 of type dbl\n",
       "\n",
       "| <!--/--> | Relatedness | Volition_Autonomy | Global_Satisfaction |\n",
       "|---|---|---|---|\n",
       "| R^2 | 0.7055407 | 0.6855583 | 0.7452893 |\n",
       "| AdjR^2 | 0.7046272 | 0.6845828 | 0.7447631 |\n",
       "| Chair_Support | 0.2572787 | 0.2905695 |        NA |\n",
       "| Department_feedback_and_Support | 0.5516622 | 0.3404543 |        NA |\n",
       "| Inst_support | 0.1445792 | 0.3531556 |        NA |\n",
       "| Volition_Autonomy |        NA |        NA | 0.2584856 |\n",
       "| Relatedness |        NA |        NA | 0.6511492 |\n",
       "\n"
      ],
      "text/plain": [
       "                                Relatedness Volition_Autonomy\n",
       "R^2                             0.7055407   0.6855583        \n",
       "AdjR^2                          0.7046272   0.6845828        \n",
       "Chair_Support                   0.2572787   0.2905695        \n",
       "Department_feedback_and_Support 0.5516622   0.3404543        \n",
       "Inst_support                    0.1445792   0.3531556        \n",
       "Volition_Autonomy                      NA          NA        \n",
       "Relatedness                            NA          NA        \n",
       "                                Global_Satisfaction\n",
       "R^2                             0.7452893          \n",
       "AdjR^2                          0.7447631          \n",
       "Chair_Support                          NA          \n",
       "Department_feedback_and_Support        NA          \n",
       "Inst_support                           NA          \n",
       "Volition_Autonomy               0.2584856          \n",
       "Relatedness                     0.6511492          "
      ]
     },
     "metadata": {},
     "output_type": "display_data"
    }
   ],
   "source": [
    "summary$paths"
   ]
  },
  {
   "cell_type": "markdown",
   "metadata": {},
   "source": [
    "Particularly, recognition and support had a medium effect size with relatedness, and relatedness had a large effect size with global satisfaction (0.87) and departmental"
   ]
  },
  {
   "cell_type": "code",
   "execution_count": 39,
   "metadata": {
    "vscode": {
     "languageId": "r"
    }
   },
   "outputs": [
    {
     "data": {
      "text/html": [
       "<table class=\"dataframe\">\n",
       "<caption>A matrix: 6 x 6 of type dbl</caption>\n",
       "<thead>\n",
       "\t<tr><th></th><th scope=col>Chair_Support</th><th scope=col>Department_feedback_and_Support</th><th scope=col>Inst_support</th><th scope=col>Volition_Autonomy</th><th scope=col>Relatedness</th><th scope=col>Global_Satisfaction</th></tr>\n",
       "</thead>\n",
       "<tbody>\n",
       "\t<tr><th scope=row>Chair_Support</th><td>0</td><td>0</td><td>0</td><td>0.1417158</td><td>0.12312707</td><td>0.0000000</td></tr>\n",
       "\t<tr><th scope=row>Department_feedback_and_Support</th><td>0</td><td>0</td><td>0</td><td>0.1661847</td><td>0.46738800</td><td>0.0000000</td></tr>\n",
       "\t<tr><th scope=row>Inst_support</th><td>0</td><td>0</td><td>0</td><td>0.2653795</td><td>0.04633622</td><td>0.0000000</td></tr>\n",
       "\t<tr><th scope=row>Volition_Autonomy</th><td>0</td><td>0</td><td>0</td><td>0.0000000</td><td>0.00000000</td><td>0.1122656</td></tr>\n",
       "\t<tr><th scope=row>Relatedness</th><td>0</td><td>0</td><td>0</td><td>0.0000000</td><td>0.00000000</td><td>0.7118733</td></tr>\n",
       "\t<tr><th scope=row>Global_Satisfaction</th><td>0</td><td>0</td><td>0</td><td>0.0000000</td><td>0.00000000</td><td>0.0000000</td></tr>\n",
       "</tbody>\n",
       "</table>\n"
      ],
      "text/latex": [
       "A matrix: 6 x 6 of type dbl\n",
       "\\begin{tabular}{r|llllll}\n",
       "  & Chair\\_Support & Department\\_feedback\\_and\\_Support & Inst\\_support & Volition\\_Autonomy & Relatedness & Global\\_Satisfaction\\\\\n",
       "\\hline\n",
       "\tChair\\_Support & 0 & 0 & 0 & 0.1417158 & 0.12312707 & 0.0000000\\\\\n",
       "\tDepartment\\_feedback\\_and\\_Support & 0 & 0 & 0 & 0.1661847 & 0.46738800 & 0.0000000\\\\\n",
       "\tInst\\_support & 0 & 0 & 0 & 0.2653795 & 0.04633622 & 0.0000000\\\\\n",
       "\tVolition\\_Autonomy & 0 & 0 & 0 & 0.0000000 & 0.00000000 & 0.1122656\\\\\n",
       "\tRelatedness & 0 & 0 & 0 & 0.0000000 & 0.00000000 & 0.7118733\\\\\n",
       "\tGlobal\\_Satisfaction & 0 & 0 & 0 & 0.0000000 & 0.00000000 & 0.0000000\\\\\n",
       "\\end{tabular}\n"
      ],
      "text/markdown": [
       "\n",
       "A matrix: 6 x 6 of type dbl\n",
       "\n",
       "| <!--/--> | Chair_Support | Department_feedback_and_Support | Inst_support | Volition_Autonomy | Relatedness | Global_Satisfaction |\n",
       "|---|---|---|---|---|---|---|\n",
       "| Chair_Support | 0 | 0 | 0 | 0.1417158 | 0.12312707 | 0.0000000 |\n",
       "| Department_feedback_and_Support | 0 | 0 | 0 | 0.1661847 | 0.46738800 | 0.0000000 |\n",
       "| Inst_support | 0 | 0 | 0 | 0.2653795 | 0.04633622 | 0.0000000 |\n",
       "| Volition_Autonomy | 0 | 0 | 0 | 0.0000000 | 0.00000000 | 0.1122656 |\n",
       "| Relatedness | 0 | 0 | 0 | 0.0000000 | 0.00000000 | 0.7118733 |\n",
       "| Global_Satisfaction | 0 | 0 | 0 | 0.0000000 | 0.00000000 | 0.0000000 |\n",
       "\n"
      ],
      "text/plain": [
       "                                Chair_Support Department_feedback_and_Support\n",
       "Chair_Support                   0             0                              \n",
       "Department_feedback_and_Support 0             0                              \n",
       "Inst_support                    0             0                              \n",
       "Volition_Autonomy               0             0                              \n",
       "Relatedness                     0             0                              \n",
       "Global_Satisfaction             0             0                              \n",
       "                                Inst_support Volition_Autonomy Relatedness\n",
       "Chair_Support                   0            0.1417158         0.12312707 \n",
       "Department_feedback_and_Support 0            0.1661847         0.46738800 \n",
       "Inst_support                    0            0.2653795         0.04633622 \n",
       "Volition_Autonomy               0            0.0000000         0.00000000 \n",
       "Relatedness                     0            0.0000000         0.00000000 \n",
       "Global_Satisfaction             0            0.0000000         0.00000000 \n",
       "                                Global_Satisfaction\n",
       "Chair_Support                   0.0000000          \n",
       "Department_feedback_and_Support 0.0000000          \n",
       "Inst_support                    0.0000000          \n",
       "Volition_Autonomy               0.1122656          \n",
       "Relatedness                     0.7118733          \n",
       "Global_Satisfaction             0.0000000          "
      ]
     },
     "metadata": {},
     "output_type": "display_data"
    }
   ],
   "source": [
    "summary$fSquare"
   ]
  },
  {
   "cell_type": "code",
   "execution_count": 40,
   "metadata": {
    "vscode": {
     "languageId": "r"
    }
   },
   "outputs": [],
   "source": [
    "write.csv(x = summary$fSquare, file = \"effect_size.csv\" )"
   ]
  }
 ],
 "metadata": {
  "kernelspec": {
   "display_name": "R",
   "language": "R",
   "name": "ir"
  },
  "language_info": {
   "codemirror_mode": "r",
   "file_extension": ".r",
   "mimetype": "text/x-r-source",
   "name": "R",
   "pygments_lexer": "r",
   "version": "4.2.2"
  }
 },
 "nbformat": 4,
 "nbformat_minor": 2
}
