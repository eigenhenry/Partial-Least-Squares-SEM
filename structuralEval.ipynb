{
 "cells": [
  {
   "cell_type": "code",
   "execution_count": 4,
   "metadata": {
    "vscode": {
     "languageId": "r"
    }
   },
   "outputs": [
    {
     "name": "stderr",
     "output_type": "stream",
     "text": [
      "Generating the seminr model\n",
      "\n",
      "All 971 observations are valid.\n",
      "\n"
     ]
    }
   ],
   "source": [
    "library(seminr)\n",
    "library(readxl)\n",
    "library(writexl)\n",
    "library(ggplot2)\n",
    "\n",
    "# Load data\n",
    "data <- read.csv('/Users/henrysalgado/Desktop/Coache Data Analysis/october24_forest_imputed_data.csv')\n",
    "\n",
    "# Measurement Model\n",
    "measurements <- constructs(\n",
    "  reflective(\"Chair_Support\", c(\"q185h\", \"q185i\", \"q185j\", \"q185k\", \"q215l\", \"q185l\")),\n",
    "  reflective(\"Department_feedback_and_Support\", c(\"q215a\", \"q215b\", \"q215d\", \"q215i\")),\n",
    "  reflective(\"Inst_support\", c( \"q90c\", \"q90d\", \"q90e\", \"q90f\", \"q90h\")),\n",
    "  reflective(\"Relatedness\", c(\"q195a\", \"q195b\", \"q195e\", \"q205a\", \"q205d\", \"q205c\", \"q210c\", \"q212a\")),\n",
    "  reflective(\"Competence\", c(\"q45a\", \"q45c\", \"q45e\")),\n",
    "  reflective(\"Volition_Autonomy\", c(\"q60c\", \"q60d\", \"q70c\", \"q70h\",\"q60a\")),\n",
    "  reflective(\"Teaching_and_Service_Satisfaction\", c(\"q70a\", \"q70b\", \"q70e\")),\n",
    "  reflective(\"Global_Satisfaction\", c(\"q245d\", \"q250a\", \"q250b\"))\n",
    ")\n",
    "\n",
    "# Structural Model\n",
    "structure <- relationships(\n",
    "  paths(from = c(\"Chair_Support\", \"Department_feedback_and_Support\", \"Inst_support\"),\n",
    "        to = c(\"Relatedness\", \"Volition_Autonomy\")),\n",
    "  paths(from = c(\"Volition_Autonomy\", \"Relatedness\"),\n",
    "        to = c(\"Global_Satisfaction\", \"Teaching_and_Service_Satisfaction\"))\n",
    ")\n",
    "\n",
    "# Estimate the SEM model\n",
    "pls_model <- estimate_pls(data = data, measurement_model = measurements, structural_model = structure)\n",
    "\n",
    "summary <- summary(pls_model)\n",
    "\n"
   ]
  },
  {
   "cell_type": "markdown",
   "metadata": {},
   "source": [
    "Collinearity Evaluation in relation to each endogenous construct. The values should be less than 3"
   ]
  },
  {
   "cell_type": "code",
   "execution_count": 2,
   "metadata": {
    "vscode": {
     "languageId": "r"
    }
   },
   "outputs": [
    {
     "data": {
      "text/html": [
       "<dl>\n",
       "\t<dt>$Relatedness</dt>\n",
       "\t\t<dd><style>\n",
       ".dl-inline {width: auto; margin:0; padding: 0}\n",
       ".dl-inline>dt, .dl-inline>dd {float: none; width: auto; display: inline-block}\n",
       ".dl-inline>dt::after {content: \":\\0020\"; padding-right: .5ex}\n",
       ".dl-inline>dt:not(:first-of-type) {padding-left: .5ex}\n",
       "</style><dl class=dl-inline><dt>Chair_Support</dt><dd>1.65095498194977</dd><dt>Department_feedback_and_Support</dt><dd>1.84238540867235</dd><dt>Inst_support</dt><dd>1.3390317699793</dd></dl>\n",
       "</dd>\n",
       "\t<dt>$Volition_Autonomy</dt>\n",
       "\t\t<dd><style>\n",
       ".dl-inline {width: auto; margin:0; padding: 0}\n",
       ".dl-inline>dt, .dl-inline>dd {float: none; width: auto; display: inline-block}\n",
       ".dl-inline>dt::after {content: \":\\0020\"; padding-right: .5ex}\n",
       ".dl-inline>dt:not(:first-of-type) {padding-left: .5ex}\n",
       "</style><dl class=dl-inline><dt>Chair_Support</dt><dd>1.65095498194977</dd><dt>Department_feedback_and_Support</dt><dd>1.84238540867235</dd><dt>Inst_support</dt><dd>1.3390317699793</dd></dl>\n",
       "</dd>\n",
       "\t<dt>$Global_Satisfaction</dt>\n",
       "\t\t<dd><style>\n",
       ".dl-inline {width: auto; margin:0; padding: 0}\n",
       ".dl-inline>dt, .dl-inline>dd {float: none; width: auto; display: inline-block}\n",
       ".dl-inline>dt::after {content: \":\\0020\"; padding-right: .5ex}\n",
       ".dl-inline>dt:not(:first-of-type) {padding-left: .5ex}\n",
       "</style><dl class=dl-inline><dt>Volition_Autonomy</dt><dd>1.73745405418516</dd><dt>Relatedness</dt><dd>1.73745405418516</dd></dl>\n",
       "</dd>\n",
       "\t<dt>$Teaching_and_Service_Satisfaction</dt>\n",
       "\t\t<dd><style>\n",
       ".dl-inline {width: auto; margin:0; padding: 0}\n",
       ".dl-inline>dt, .dl-inline>dd {float: none; width: auto; display: inline-block}\n",
       ".dl-inline>dt::after {content: \":\\0020\"; padding-right: .5ex}\n",
       ".dl-inline>dt:not(:first-of-type) {padding-left: .5ex}\n",
       "</style><dl class=dl-inline><dt>Volition_Autonomy</dt><dd>1.73745405418516</dd><dt>Relatedness</dt><dd>1.73745405418516</dd></dl>\n",
       "</dd>\n",
       "</dl>\n"
      ],
      "text/latex": [
       "\\begin{description}\n",
       "\\item[\\$Relatedness] \\begin{description*}\n",
       "\\item[Chair\\textbackslash{}\\_Support] 1.65095498194977\n",
       "\\item[Department\\textbackslash{}\\_feedback\\textbackslash{}\\_and\\textbackslash{}\\_Support] 1.84238540867235\n",
       "\\item[Inst\\textbackslash{}\\_support] 1.3390317699793\n",
       "\\end{description*}\n",
       "\n",
       "\\item[\\$Volition\\_Autonomy] \\begin{description*}\n",
       "\\item[Chair\\textbackslash{}\\_Support] 1.65095498194977\n",
       "\\item[Department\\textbackslash{}\\_feedback\\textbackslash{}\\_and\\textbackslash{}\\_Support] 1.84238540867235\n",
       "\\item[Inst\\textbackslash{}\\_support] 1.3390317699793\n",
       "\\end{description*}\n",
       "\n",
       "\\item[\\$Global\\_Satisfaction] \\begin{description*}\n",
       "\\item[Volition\\textbackslash{}\\_Autonomy] 1.73745405418516\n",
       "\\item[Relatedness] 1.73745405418516\n",
       "\\end{description*}\n",
       "\n",
       "\\item[\\$Teaching\\_and\\_Service\\_Satisfaction] \\begin{description*}\n",
       "\\item[Volition\\textbackslash{}\\_Autonomy] 1.73745405418516\n",
       "\\item[Relatedness] 1.73745405418516\n",
       "\\end{description*}\n",
       "\n",
       "\\end{description}\n"
      ],
      "text/markdown": [
       "$Relatedness\n",
       ":   Chair_Support\n",
       ":   1.65095498194977Department_feedback_and_Support\n",
       ":   1.84238540867235Inst_support\n",
       ":   1.3390317699793\n",
       "\n",
       "\n",
       "$Volition_Autonomy\n",
       ":   Chair_Support\n",
       ":   1.65095498194977Department_feedback_and_Support\n",
       ":   1.84238540867235Inst_support\n",
       ":   1.3390317699793\n",
       "\n",
       "\n",
       "$Global_Satisfaction\n",
       ":   Volition_Autonomy\n",
       ":   1.73745405418516Relatedness\n",
       ":   1.73745405418516\n",
       "\n",
       "\n",
       "$Teaching_and_Service_Satisfaction\n",
       ":   Volition_Autonomy\n",
       ":   1.73745405418516Relatedness\n",
       ":   1.73745405418516\n",
       "\n",
       "\n",
       "\n",
       "\n"
      ],
      "text/plain": [
       "Relatedness :\n",
       "                  Chair_Support Department_feedback_and_Support \n",
       "                          1.651                           1.842 \n",
       "                   Inst_support \n",
       "                          1.339 \n",
       "\n",
       "Volition_Autonomy :\n",
       "                  Chair_Support Department_feedback_and_Support \n",
       "                          1.651                           1.842 \n",
       "                   Inst_support \n",
       "                          1.339 \n",
       "\n",
       "Global_Satisfaction :\n",
       "Volition_Autonomy       Relatedness \n",
       "            1.737             1.737 \n",
       "\n",
       "Teaching_and_Service_Satisfaction :\n",
       "Volition_Autonomy       Relatedness \n",
       "            1.737             1.737 \n"
      ]
     },
     "metadata": {},
     "output_type": "display_data"
    }
   ],
   "source": [
    "summary$vif_antecedents"
   ]
  },
  {
   "cell_type": "markdown",
   "metadata": {},
   "source": [
    "Let's evaluate the relevance and significnce of structural paths"
   ]
  },
  {
   "cell_type": "code",
   "execution_count": 6,
   "metadata": {
    "vscode": {
     "languageId": "r"
    }
   },
   "outputs": [
    {
     "name": "stderr",
     "output_type": "stream",
     "text": [
      "Bootstrapping model using seminr...\n",
      "\n",
      "SEMinR Model successfully bootstrapped\n",
      "\n"
     ]
    }
   ],
   "source": [
    "boot <- bootstrap_model(seminr_model = pls_model, nboot = 1000, seed = 123)"
   ]
  },
  {
   "cell_type": "code",
   "execution_count": 8,
   "metadata": {
    "vscode": {
     "languageId": "r"
    }
   },
   "outputs": [
    {
     "data": {
      "text/html": [
       "<table class=\"dataframe\">\n",
       "<caption>A matrix: 10 x 6 of type dbl</caption>\n",
       "<thead>\n",
       "\t<tr><th></th><th scope=col>Original Est.</th><th scope=col>Bootstrap Mean</th><th scope=col>Bootstrap SD</th><th scope=col>T Stat.</th><th scope=col>2.5% CI</th><th scope=col>97.5% CI</th></tr>\n",
       "</thead>\n",
       "<tbody>\n",
       "\t<tr><th scope=row><span style=white-space:pre-wrap>Chair_Support  -&gt;  Volition_Autonomy</span></th><td>0.28813377</td><td>0.28818294</td><td>0.03838261</td><td> 7.5068824</td><td> 0.21409911</td><td>0.3652669</td></tr>\n",
       "\t<tr><th scope=row><span style=white-space:pre-wrap>Chair_Support  -&gt;  Relatedness</span></th><td>0.25619817</td><td>0.25620934</td><td>0.03697028</td><td> 6.9298414</td><td> 0.18075211</td><td>0.3280382</td></tr>\n",
       "\t<tr><th scope=row><span style=white-space:pre-wrap>Department_feedback_and_Support  -&gt;  Volition_Autonomy</span></th><td>0.34181635</td><td>0.34108697</td><td>0.04617339</td><td> 7.4028866</td><td> 0.25050285</td><td>0.4272783</td></tr>\n",
       "\t<tr><th scope=row><span style=white-space:pre-wrap>Department_feedback_and_Support  -&gt;  Relatedness</span></th><td>0.54853030</td><td>0.54871552</td><td>0.03986495</td><td>13.7597135</td><td> 0.47020254</td><td>0.6267459</td></tr>\n",
       "\t<tr><th scope=row><span style=white-space:pre-wrap>Inst_support  -&gt;  Volition_Autonomy</span></th><td>0.35587205</td><td>0.35740081</td><td>0.03928822</td><td> 9.0579833</td><td> 0.28098761</td><td>0.4343644</td></tr>\n",
       "\t<tr><th scope=row><span style=white-space:pre-wrap>Inst_support  -&gt;  Relatedness</span></th><td>0.14910130</td><td>0.14788916</td><td>0.03857159</td><td> 3.8655732</td><td> 0.07183844</td><td>0.2233275</td></tr>\n",
       "\t<tr><th scope=row><span style=white-space:pre-wrap>Volition_Autonomy  -&gt;  Global_Satisfaction</span></th><td>0.26444436</td><td>0.26642671</td><td>0.04625405</td><td> 5.7172151</td><td> 0.17558988</td><td>0.3574357</td></tr>\n",
       "\t<tr><th scope=row><span style=white-space:pre-wrap>Volition_Autonomy  -&gt;  Teaching_and_Service_Satisfaction</span></th><td>0.72576816</td><td>0.73149936</td><td>0.06454493</td><td>11.2443871</td><td> 0.59666062</td><td>0.8663203</td></tr>\n",
       "\t<tr><th scope=row><span style=white-space:pre-wrap>Relatedness  -&gt;  Global_Satisfaction</span></th><td>0.64559225</td><td>0.64377899</td><td>0.04263566</td><td>15.1420736</td><td> 0.55893696</td><td>0.7249002</td></tr>\n",
       "\t<tr><th scope=row><span style=white-space:pre-wrap>Relatedness  -&gt;  Teaching_and_Service_Satisfaction</span></th><td>0.02275669</td><td>0.01713724</td><td>0.06945254</td><td> 0.3276582</td><td>-0.12294550</td><td>0.1506436</td></tr>\n",
       "</tbody>\n",
       "</table>\n"
      ],
      "text/latex": [
       "A matrix: 10 x 6 of type dbl\n",
       "\\begin{tabular}{r|llllll}\n",
       "  & Original Est. & Bootstrap Mean & Bootstrap SD & T Stat. & 2.5\\% CI & 97.5\\% CI\\\\\n",
       "\\hline\n",
       "\tChair\\_Support  ->  Volition\\_Autonomy & 0.28813377 & 0.28818294 & 0.03838261 &  7.5068824 &  0.21409911 & 0.3652669\\\\\n",
       "\tChair\\_Support  ->  Relatedness & 0.25619817 & 0.25620934 & 0.03697028 &  6.9298414 &  0.18075211 & 0.3280382\\\\\n",
       "\tDepartment\\_feedback\\_and\\_Support  ->  Volition\\_Autonomy & 0.34181635 & 0.34108697 & 0.04617339 &  7.4028866 &  0.25050285 & 0.4272783\\\\\n",
       "\tDepartment\\_feedback\\_and\\_Support  ->  Relatedness & 0.54853030 & 0.54871552 & 0.03986495 & 13.7597135 &  0.47020254 & 0.6267459\\\\\n",
       "\tInst\\_support  ->  Volition\\_Autonomy & 0.35587205 & 0.35740081 & 0.03928822 &  9.0579833 &  0.28098761 & 0.4343644\\\\\n",
       "\tInst\\_support  ->  Relatedness & 0.14910130 & 0.14788916 & 0.03857159 &  3.8655732 &  0.07183844 & 0.2233275\\\\\n",
       "\tVolition\\_Autonomy  ->  Global\\_Satisfaction & 0.26444436 & 0.26642671 & 0.04625405 &  5.7172151 &  0.17558988 & 0.3574357\\\\\n",
       "\tVolition\\_Autonomy  ->  Teaching\\_and\\_Service\\_Satisfaction & 0.72576816 & 0.73149936 & 0.06454493 & 11.2443871 &  0.59666062 & 0.8663203\\\\\n",
       "\tRelatedness  ->  Global\\_Satisfaction & 0.64559225 & 0.64377899 & 0.04263566 & 15.1420736 &  0.55893696 & 0.7249002\\\\\n",
       "\tRelatedness  ->  Teaching\\_and\\_Service\\_Satisfaction & 0.02275669 & 0.01713724 & 0.06945254 &  0.3276582 & -0.12294550 & 0.1506436\\\\\n",
       "\\end{tabular}\n"
      ],
      "text/markdown": [
       "\n",
       "A matrix: 10 x 6 of type dbl\n",
       "\n",
       "| <!--/--> | Original Est. | Bootstrap Mean | Bootstrap SD | T Stat. | 2.5% CI | 97.5% CI |\n",
       "|---|---|---|---|---|---|---|\n",
       "| Chair_Support  -&gt;  Volition_Autonomy | 0.28813377 | 0.28818294 | 0.03838261 |  7.5068824 |  0.21409911 | 0.3652669 |\n",
       "| Chair_Support  -&gt;  Relatedness | 0.25619817 | 0.25620934 | 0.03697028 |  6.9298414 |  0.18075211 | 0.3280382 |\n",
       "| Department_feedback_and_Support  -&gt;  Volition_Autonomy | 0.34181635 | 0.34108697 | 0.04617339 |  7.4028866 |  0.25050285 | 0.4272783 |\n",
       "| Department_feedback_and_Support  -&gt;  Relatedness | 0.54853030 | 0.54871552 | 0.03986495 | 13.7597135 |  0.47020254 | 0.6267459 |\n",
       "| Inst_support  -&gt;  Volition_Autonomy | 0.35587205 | 0.35740081 | 0.03928822 |  9.0579833 |  0.28098761 | 0.4343644 |\n",
       "| Inst_support  -&gt;  Relatedness | 0.14910130 | 0.14788916 | 0.03857159 |  3.8655732 |  0.07183844 | 0.2233275 |\n",
       "| Volition_Autonomy  -&gt;  Global_Satisfaction | 0.26444436 | 0.26642671 | 0.04625405 |  5.7172151 |  0.17558988 | 0.3574357 |\n",
       "| Volition_Autonomy  -&gt;  Teaching_and_Service_Satisfaction | 0.72576816 | 0.73149936 | 0.06454493 | 11.2443871 |  0.59666062 | 0.8663203 |\n",
       "| Relatedness  -&gt;  Global_Satisfaction | 0.64559225 | 0.64377899 | 0.04263566 | 15.1420736 |  0.55893696 | 0.7249002 |\n",
       "| Relatedness  -&gt;  Teaching_and_Service_Satisfaction | 0.02275669 | 0.01713724 | 0.06945254 |  0.3276582 | -0.12294550 | 0.1506436 |\n",
       "\n"
      ],
      "text/plain": [
       "                                                         Original Est.\n",
       "Chair_Support  ->  Volition_Autonomy                     0.28813377   \n",
       "Chair_Support  ->  Relatedness                           0.25619817   \n",
       "Department_feedback_and_Support  ->  Volition_Autonomy   0.34181635   \n",
       "Department_feedback_and_Support  ->  Relatedness         0.54853030   \n",
       "Inst_support  ->  Volition_Autonomy                      0.35587205   \n",
       "Inst_support  ->  Relatedness                            0.14910130   \n",
       "Volition_Autonomy  ->  Global_Satisfaction               0.26444436   \n",
       "Volition_Autonomy  ->  Teaching_and_Service_Satisfaction 0.72576816   \n",
       "Relatedness  ->  Global_Satisfaction                     0.64559225   \n",
       "Relatedness  ->  Teaching_and_Service_Satisfaction       0.02275669   \n",
       "                                                         Bootstrap Mean\n",
       "Chair_Support  ->  Volition_Autonomy                     0.28818294    \n",
       "Chair_Support  ->  Relatedness                           0.25620934    \n",
       "Department_feedback_and_Support  ->  Volition_Autonomy   0.34108697    \n",
       "Department_feedback_and_Support  ->  Relatedness         0.54871552    \n",
       "Inst_support  ->  Volition_Autonomy                      0.35740081    \n",
       "Inst_support  ->  Relatedness                            0.14788916    \n",
       "Volition_Autonomy  ->  Global_Satisfaction               0.26642671    \n",
       "Volition_Autonomy  ->  Teaching_and_Service_Satisfaction 0.73149936    \n",
       "Relatedness  ->  Global_Satisfaction                     0.64377899    \n",
       "Relatedness  ->  Teaching_and_Service_Satisfaction       0.01713724    \n",
       "                                                         Bootstrap SD\n",
       "Chair_Support  ->  Volition_Autonomy                     0.03838261  \n",
       "Chair_Support  ->  Relatedness                           0.03697028  \n",
       "Department_feedback_and_Support  ->  Volition_Autonomy   0.04617339  \n",
       "Department_feedback_and_Support  ->  Relatedness         0.03986495  \n",
       "Inst_support  ->  Volition_Autonomy                      0.03928822  \n",
       "Inst_support  ->  Relatedness                            0.03857159  \n",
       "Volition_Autonomy  ->  Global_Satisfaction               0.04625405  \n",
       "Volition_Autonomy  ->  Teaching_and_Service_Satisfaction 0.06454493  \n",
       "Relatedness  ->  Global_Satisfaction                     0.04263566  \n",
       "Relatedness  ->  Teaching_and_Service_Satisfaction       0.06945254  \n",
       "                                                         T Stat.    2.5% CI    \n",
       "Chair_Support  ->  Volition_Autonomy                      7.5068824  0.21409911\n",
       "Chair_Support  ->  Relatedness                            6.9298414  0.18075211\n",
       "Department_feedback_and_Support  ->  Volition_Autonomy    7.4028866  0.25050285\n",
       "Department_feedback_and_Support  ->  Relatedness         13.7597135  0.47020254\n",
       "Inst_support  ->  Volition_Autonomy                       9.0579833  0.28098761\n",
       "Inst_support  ->  Relatedness                             3.8655732  0.07183844\n",
       "Volition_Autonomy  ->  Global_Satisfaction                5.7172151  0.17558988\n",
       "Volition_Autonomy  ->  Teaching_and_Service_Satisfaction 11.2443871  0.59666062\n",
       "Relatedness  ->  Global_Satisfaction                     15.1420736  0.55893696\n",
       "Relatedness  ->  Teaching_and_Service_Satisfaction        0.3276582 -0.12294550\n",
       "                                                         97.5% CI \n",
       "Chair_Support  ->  Volition_Autonomy                     0.3652669\n",
       "Chair_Support  ->  Relatedness                           0.3280382\n",
       "Department_feedback_and_Support  ->  Volition_Autonomy   0.4272783\n",
       "Department_feedback_and_Support  ->  Relatedness         0.6267459\n",
       "Inst_support  ->  Volition_Autonomy                      0.4343644\n",
       "Inst_support  ->  Relatedness                            0.2233275\n",
       "Volition_Autonomy  ->  Global_Satisfaction               0.3574357\n",
       "Volition_Autonomy  ->  Teaching_and_Service_Satisfaction 0.8663203\n",
       "Relatedness  ->  Global_Satisfaction                     0.7249002\n",
       "Relatedness  ->  Teaching_and_Service_Satisfaction       0.1506436"
      ]
     },
     "metadata": {},
     "output_type": "display_data"
    }
   ],
   "source": [
    "summary_boot <- (summary(boot))\n",
    "summary_boot$bootstrapped_paths"
   ]
  },
  {
   "cell_type": "code",
   "execution_count": 9,
   "metadata": {
    "vscode": {
     "languageId": "r"
    }
   },
   "outputs": [
    {
     "data": {
      "text/html": [
       "<table class=\"dataframe\">\n",
       "<caption>A matrix: 16 x 6 of type dbl</caption>\n",
       "<thead>\n",
       "\t<tr><th></th><th scope=col>Original Est.</th><th scope=col>Bootstrap Mean</th><th scope=col>Bootstrap SD</th><th scope=col>T Stat.</th><th scope=col>2.5% CI</th><th scope=col>97.5% CI</th></tr>\n",
       "</thead>\n",
       "<tbody>\n",
       "\t<tr><th scope=row><span style=white-space:pre-wrap>Chair_Support  -&gt;  Volition_Autonomy</span></th><td>0.28813377</td><td>0.28818294</td><td>0.03838261</td><td> 7.5068824</td><td> 0.21409911</td><td>0.3652669</td></tr>\n",
       "\t<tr><th scope=row><span style=white-space:pre-wrap>Chair_Support  -&gt;  Relatedness</span></th><td>0.25619817</td><td>0.25620934</td><td>0.03697028</td><td> 6.9298414</td><td> 0.18075211</td><td>0.3280382</td></tr>\n",
       "\t<tr><th scope=row><span style=white-space:pre-wrap>Chair_Support  -&gt;  Global_Satisfaction</span></th><td>0.24159490</td><td>0.24153900</td><td>0.02865946</td><td> 8.4298498</td><td> 0.18285683</td><td>0.2975952</td></tr>\n",
       "\t<tr><th scope=row><span style=white-space:pre-wrap>Chair_Support  -&gt;  Teaching_and_Service_Satisfaction</span></th><td>0.21494854</td><td>0.21466840</td><td>0.02863946</td><td> 7.5053288</td><td> 0.16266990</td><td>0.2668136</td></tr>\n",
       "\t<tr><th scope=row><span style=white-space:pre-wrap>Department_feedback_and_Support  -&gt;  Volition_Autonomy</span></th><td>0.34181635</td><td>0.34108697</td><td>0.04617339</td><td> 7.4028866</td><td> 0.25050285</td><td>0.4272783</td></tr>\n",
       "\t<tr><th scope=row><span style=white-space:pre-wrap>Department_feedback_and_Support  -&gt;  Relatedness</span></th><td>0.54853030</td><td>0.54871552</td><td>0.03986495</td><td>13.7597135</td><td> 0.47020254</td><td>0.6267459</td></tr>\n",
       "\t<tr><th scope=row><span style=white-space:pre-wrap>Department_feedback_and_Support  -&gt;  Global_Satisfaction</span></th><td>0.44451832</td><td>0.44440901</td><td>0.03296006</td><td>13.4865765</td><td> 0.38206389</td><td>0.5102820</td></tr>\n",
       "\t<tr><th scope=row><span style=white-space:pre-wrap>Department_feedback_and_Support  -&gt;  Teaching_and_Service_Satisfaction</span></th><td>0.26056216</td><td>0.25876682</td><td>0.03984595</td><td> 6.5392386</td><td> 0.17861118</td><td>0.3331867</td></tr>\n",
       "\t<tr><th scope=row><span style=white-space:pre-wrap>Inst_support  -&gt;  Volition_Autonomy</span></th><td>0.35587205</td><td>0.35740081</td><td>0.03928822</td><td> 9.0579833</td><td> 0.28098761</td><td>0.4343644</td></tr>\n",
       "\t<tr><th scope=row><span style=white-space:pre-wrap>Inst_support  -&gt;  Relatedness</span></th><td>0.14910130</td><td>0.14788916</td><td>0.03857159</td><td> 3.8655732</td><td> 0.07183844</td><td>0.2233275</td></tr>\n",
       "\t<tr><th scope=row><span style=white-space:pre-wrap>Inst_support  -&gt;  Global_Satisfaction</span></th><td>0.19036700</td><td>0.19077261</td><td>0.03084144</td><td> 6.1724414</td><td> 0.12978939</td><td>0.2476797</td></tr>\n",
       "\t<tr><th scope=row><span style=white-space:pre-wrap>Inst_support  -&gt;  Teaching_and_Service_Satisfaction</span></th><td>0.26167365</td><td>0.26491425</td><td>0.03542714</td><td> 7.3862485</td><td> 0.19833313</td><td>0.3384592</td></tr>\n",
       "\t<tr><th scope=row><span style=white-space:pre-wrap>Volition_Autonomy  -&gt;  Global_Satisfaction</span></th><td>0.26444436</td><td>0.26642671</td><td>0.04625405</td><td> 5.7172151</td><td> 0.17558988</td><td>0.3574357</td></tr>\n",
       "\t<tr><th scope=row><span style=white-space:pre-wrap>Volition_Autonomy  -&gt;  Teaching_and_Service_Satisfaction</span></th><td>0.72576816</td><td>0.73149936</td><td>0.06454493</td><td>11.2443871</td><td> 0.59666062</td><td>0.8663203</td></tr>\n",
       "\t<tr><th scope=row><span style=white-space:pre-wrap>Relatedness  -&gt;  Global_Satisfaction</span></th><td>0.64559225</td><td>0.64377899</td><td>0.04263566</td><td>15.1420736</td><td> 0.55893696</td><td>0.7249002</td></tr>\n",
       "\t<tr><th scope=row><span style=white-space:pre-wrap>Relatedness  -&gt;  Teaching_and_Service_Satisfaction</span></th><td>0.02275669</td><td>0.01713724</td><td>0.06945254</td><td> 0.3276582</td><td>-0.12294550</td><td>0.1506436</td></tr>\n",
       "</tbody>\n",
       "</table>\n"
      ],
      "text/latex": [
       "A matrix: 16 x 6 of type dbl\n",
       "\\begin{tabular}{r|llllll}\n",
       "  & Original Est. & Bootstrap Mean & Bootstrap SD & T Stat. & 2.5\\% CI & 97.5\\% CI\\\\\n",
       "\\hline\n",
       "\tChair\\_Support  ->  Volition\\_Autonomy & 0.28813377 & 0.28818294 & 0.03838261 &  7.5068824 &  0.21409911 & 0.3652669\\\\\n",
       "\tChair\\_Support  ->  Relatedness & 0.25619817 & 0.25620934 & 0.03697028 &  6.9298414 &  0.18075211 & 0.3280382\\\\\n",
       "\tChair\\_Support  ->  Global\\_Satisfaction & 0.24159490 & 0.24153900 & 0.02865946 &  8.4298498 &  0.18285683 & 0.2975952\\\\\n",
       "\tChair\\_Support  ->  Teaching\\_and\\_Service\\_Satisfaction & 0.21494854 & 0.21466840 & 0.02863946 &  7.5053288 &  0.16266990 & 0.2668136\\\\\n",
       "\tDepartment\\_feedback\\_and\\_Support  ->  Volition\\_Autonomy & 0.34181635 & 0.34108697 & 0.04617339 &  7.4028866 &  0.25050285 & 0.4272783\\\\\n",
       "\tDepartment\\_feedback\\_and\\_Support  ->  Relatedness & 0.54853030 & 0.54871552 & 0.03986495 & 13.7597135 &  0.47020254 & 0.6267459\\\\\n",
       "\tDepartment\\_feedback\\_and\\_Support  ->  Global\\_Satisfaction & 0.44451832 & 0.44440901 & 0.03296006 & 13.4865765 &  0.38206389 & 0.5102820\\\\\n",
       "\tDepartment\\_feedback\\_and\\_Support  ->  Teaching\\_and\\_Service\\_Satisfaction & 0.26056216 & 0.25876682 & 0.03984595 &  6.5392386 &  0.17861118 & 0.3331867\\\\\n",
       "\tInst\\_support  ->  Volition\\_Autonomy & 0.35587205 & 0.35740081 & 0.03928822 &  9.0579833 &  0.28098761 & 0.4343644\\\\\n",
       "\tInst\\_support  ->  Relatedness & 0.14910130 & 0.14788916 & 0.03857159 &  3.8655732 &  0.07183844 & 0.2233275\\\\\n",
       "\tInst\\_support  ->  Global\\_Satisfaction & 0.19036700 & 0.19077261 & 0.03084144 &  6.1724414 &  0.12978939 & 0.2476797\\\\\n",
       "\tInst\\_support  ->  Teaching\\_and\\_Service\\_Satisfaction & 0.26167365 & 0.26491425 & 0.03542714 &  7.3862485 &  0.19833313 & 0.3384592\\\\\n",
       "\tVolition\\_Autonomy  ->  Global\\_Satisfaction & 0.26444436 & 0.26642671 & 0.04625405 &  5.7172151 &  0.17558988 & 0.3574357\\\\\n",
       "\tVolition\\_Autonomy  ->  Teaching\\_and\\_Service\\_Satisfaction & 0.72576816 & 0.73149936 & 0.06454493 & 11.2443871 &  0.59666062 & 0.8663203\\\\\n",
       "\tRelatedness  ->  Global\\_Satisfaction & 0.64559225 & 0.64377899 & 0.04263566 & 15.1420736 &  0.55893696 & 0.7249002\\\\\n",
       "\tRelatedness  ->  Teaching\\_and\\_Service\\_Satisfaction & 0.02275669 & 0.01713724 & 0.06945254 &  0.3276582 & -0.12294550 & 0.1506436\\\\\n",
       "\\end{tabular}\n"
      ],
      "text/markdown": [
       "\n",
       "A matrix: 16 x 6 of type dbl\n",
       "\n",
       "| <!--/--> | Original Est. | Bootstrap Mean | Bootstrap SD | T Stat. | 2.5% CI | 97.5% CI |\n",
       "|---|---|---|---|---|---|---|\n",
       "| Chair_Support  -&gt;  Volition_Autonomy | 0.28813377 | 0.28818294 | 0.03838261 |  7.5068824 |  0.21409911 | 0.3652669 |\n",
       "| Chair_Support  -&gt;  Relatedness | 0.25619817 | 0.25620934 | 0.03697028 |  6.9298414 |  0.18075211 | 0.3280382 |\n",
       "| Chair_Support  -&gt;  Global_Satisfaction | 0.24159490 | 0.24153900 | 0.02865946 |  8.4298498 |  0.18285683 | 0.2975952 |\n",
       "| Chair_Support  -&gt;  Teaching_and_Service_Satisfaction | 0.21494854 | 0.21466840 | 0.02863946 |  7.5053288 |  0.16266990 | 0.2668136 |\n",
       "| Department_feedback_and_Support  -&gt;  Volition_Autonomy | 0.34181635 | 0.34108697 | 0.04617339 |  7.4028866 |  0.25050285 | 0.4272783 |\n",
       "| Department_feedback_and_Support  -&gt;  Relatedness | 0.54853030 | 0.54871552 | 0.03986495 | 13.7597135 |  0.47020254 | 0.6267459 |\n",
       "| Department_feedback_and_Support  -&gt;  Global_Satisfaction | 0.44451832 | 0.44440901 | 0.03296006 | 13.4865765 |  0.38206389 | 0.5102820 |\n",
       "| Department_feedback_and_Support  -&gt;  Teaching_and_Service_Satisfaction | 0.26056216 | 0.25876682 | 0.03984595 |  6.5392386 |  0.17861118 | 0.3331867 |\n",
       "| Inst_support  -&gt;  Volition_Autonomy | 0.35587205 | 0.35740081 | 0.03928822 |  9.0579833 |  0.28098761 | 0.4343644 |\n",
       "| Inst_support  -&gt;  Relatedness | 0.14910130 | 0.14788916 | 0.03857159 |  3.8655732 |  0.07183844 | 0.2233275 |\n",
       "| Inst_support  -&gt;  Global_Satisfaction | 0.19036700 | 0.19077261 | 0.03084144 |  6.1724414 |  0.12978939 | 0.2476797 |\n",
       "| Inst_support  -&gt;  Teaching_and_Service_Satisfaction | 0.26167365 | 0.26491425 | 0.03542714 |  7.3862485 |  0.19833313 | 0.3384592 |\n",
       "| Volition_Autonomy  -&gt;  Global_Satisfaction | 0.26444436 | 0.26642671 | 0.04625405 |  5.7172151 |  0.17558988 | 0.3574357 |\n",
       "| Volition_Autonomy  -&gt;  Teaching_and_Service_Satisfaction | 0.72576816 | 0.73149936 | 0.06454493 | 11.2443871 |  0.59666062 | 0.8663203 |\n",
       "| Relatedness  -&gt;  Global_Satisfaction | 0.64559225 | 0.64377899 | 0.04263566 | 15.1420736 |  0.55893696 | 0.7249002 |\n",
       "| Relatedness  -&gt;  Teaching_and_Service_Satisfaction | 0.02275669 | 0.01713724 | 0.06945254 |  0.3276582 | -0.12294550 | 0.1506436 |\n",
       "\n"
      ],
      "text/plain": [
       "                                                                       Original Est.\n",
       "Chair_Support  ->  Volition_Autonomy                                   0.28813377   \n",
       "Chair_Support  ->  Relatedness                                         0.25619817   \n",
       "Chair_Support  ->  Global_Satisfaction                                 0.24159490   \n",
       "Chair_Support  ->  Teaching_and_Service_Satisfaction                   0.21494854   \n",
       "Department_feedback_and_Support  ->  Volition_Autonomy                 0.34181635   \n",
       "Department_feedback_and_Support  ->  Relatedness                       0.54853030   \n",
       "Department_feedback_and_Support  ->  Global_Satisfaction               0.44451832   \n",
       "Department_feedback_and_Support  ->  Teaching_and_Service_Satisfaction 0.26056216   \n",
       "Inst_support  ->  Volition_Autonomy                                    0.35587205   \n",
       "Inst_support  ->  Relatedness                                          0.14910130   \n",
       "Inst_support  ->  Global_Satisfaction                                  0.19036700   \n",
       "Inst_support  ->  Teaching_and_Service_Satisfaction                    0.26167365   \n",
       "Volition_Autonomy  ->  Global_Satisfaction                             0.26444436   \n",
       "Volition_Autonomy  ->  Teaching_and_Service_Satisfaction               0.72576816   \n",
       "Relatedness  ->  Global_Satisfaction                                   0.64559225   \n",
       "Relatedness  ->  Teaching_and_Service_Satisfaction                     0.02275669   \n",
       "                                                                       Bootstrap Mean\n",
       "Chair_Support  ->  Volition_Autonomy                                   0.28818294    \n",
       "Chair_Support  ->  Relatedness                                         0.25620934    \n",
       "Chair_Support  ->  Global_Satisfaction                                 0.24153900    \n",
       "Chair_Support  ->  Teaching_and_Service_Satisfaction                   0.21466840    \n",
       "Department_feedback_and_Support  ->  Volition_Autonomy                 0.34108697    \n",
       "Department_feedback_and_Support  ->  Relatedness                       0.54871552    \n",
       "Department_feedback_and_Support  ->  Global_Satisfaction               0.44440901    \n",
       "Department_feedback_and_Support  ->  Teaching_and_Service_Satisfaction 0.25876682    \n",
       "Inst_support  ->  Volition_Autonomy                                    0.35740081    \n",
       "Inst_support  ->  Relatedness                                          0.14788916    \n",
       "Inst_support  ->  Global_Satisfaction                                  0.19077261    \n",
       "Inst_support  ->  Teaching_and_Service_Satisfaction                    0.26491425    \n",
       "Volition_Autonomy  ->  Global_Satisfaction                             0.26642671    \n",
       "Volition_Autonomy  ->  Teaching_and_Service_Satisfaction               0.73149936    \n",
       "Relatedness  ->  Global_Satisfaction                                   0.64377899    \n",
       "Relatedness  ->  Teaching_and_Service_Satisfaction                     0.01713724    \n",
       "                                                                       Bootstrap SD\n",
       "Chair_Support  ->  Volition_Autonomy                                   0.03838261  \n",
       "Chair_Support  ->  Relatedness                                         0.03697028  \n",
       "Chair_Support  ->  Global_Satisfaction                                 0.02865946  \n",
       "Chair_Support  ->  Teaching_and_Service_Satisfaction                   0.02863946  \n",
       "Department_feedback_and_Support  ->  Volition_Autonomy                 0.04617339  \n",
       "Department_feedback_and_Support  ->  Relatedness                       0.03986495  \n",
       "Department_feedback_and_Support  ->  Global_Satisfaction               0.03296006  \n",
       "Department_feedback_and_Support  ->  Teaching_and_Service_Satisfaction 0.03984595  \n",
       "Inst_support  ->  Volition_Autonomy                                    0.03928822  \n",
       "Inst_support  ->  Relatedness                                          0.03857159  \n",
       "Inst_support  ->  Global_Satisfaction                                  0.03084144  \n",
       "Inst_support  ->  Teaching_and_Service_Satisfaction                    0.03542714  \n",
       "Volition_Autonomy  ->  Global_Satisfaction                             0.04625405  \n",
       "Volition_Autonomy  ->  Teaching_and_Service_Satisfaction               0.06454493  \n",
       "Relatedness  ->  Global_Satisfaction                                   0.04263566  \n",
       "Relatedness  ->  Teaching_and_Service_Satisfaction                     0.06945254  \n",
       "                                                                       T Stat.   \n",
       "Chair_Support  ->  Volition_Autonomy                                    7.5068824\n",
       "Chair_Support  ->  Relatedness                                          6.9298414\n",
       "Chair_Support  ->  Global_Satisfaction                                  8.4298498\n",
       "Chair_Support  ->  Teaching_and_Service_Satisfaction                    7.5053288\n",
       "Department_feedback_and_Support  ->  Volition_Autonomy                  7.4028866\n",
       "Department_feedback_and_Support  ->  Relatedness                       13.7597135\n",
       "Department_feedback_and_Support  ->  Global_Satisfaction               13.4865765\n",
       "Department_feedback_and_Support  ->  Teaching_and_Service_Satisfaction  6.5392386\n",
       "Inst_support  ->  Volition_Autonomy                                     9.0579833\n",
       "Inst_support  ->  Relatedness                                           3.8655732\n",
       "Inst_support  ->  Global_Satisfaction                                   6.1724414\n",
       "Inst_support  ->  Teaching_and_Service_Satisfaction                     7.3862485\n",
       "Volition_Autonomy  ->  Global_Satisfaction                              5.7172151\n",
       "Volition_Autonomy  ->  Teaching_and_Service_Satisfaction               11.2443871\n",
       "Relatedness  ->  Global_Satisfaction                                   15.1420736\n",
       "Relatedness  ->  Teaching_and_Service_Satisfaction                      0.3276582\n",
       "                                                                       2.5% CI    \n",
       "Chair_Support  ->  Volition_Autonomy                                    0.21409911\n",
       "Chair_Support  ->  Relatedness                                          0.18075211\n",
       "Chair_Support  ->  Global_Satisfaction                                  0.18285683\n",
       "Chair_Support  ->  Teaching_and_Service_Satisfaction                    0.16266990\n",
       "Department_feedback_and_Support  ->  Volition_Autonomy                  0.25050285\n",
       "Department_feedback_and_Support  ->  Relatedness                        0.47020254\n",
       "Department_feedback_and_Support  ->  Global_Satisfaction                0.38206389\n",
       "Department_feedback_and_Support  ->  Teaching_and_Service_Satisfaction  0.17861118\n",
       "Inst_support  ->  Volition_Autonomy                                     0.28098761\n",
       "Inst_support  ->  Relatedness                                           0.07183844\n",
       "Inst_support  ->  Global_Satisfaction                                   0.12978939\n",
       "Inst_support  ->  Teaching_and_Service_Satisfaction                     0.19833313\n",
       "Volition_Autonomy  ->  Global_Satisfaction                              0.17558988\n",
       "Volition_Autonomy  ->  Teaching_and_Service_Satisfaction                0.59666062\n",
       "Relatedness  ->  Global_Satisfaction                                    0.55893696\n",
       "Relatedness  ->  Teaching_and_Service_Satisfaction                     -0.12294550\n",
       "                                                                       97.5% CI \n",
       "Chair_Support  ->  Volition_Autonomy                                   0.3652669\n",
       "Chair_Support  ->  Relatedness                                         0.3280382\n",
       "Chair_Support  ->  Global_Satisfaction                                 0.2975952\n",
       "Chair_Support  ->  Teaching_and_Service_Satisfaction                   0.2668136\n",
       "Department_feedback_and_Support  ->  Volition_Autonomy                 0.4272783\n",
       "Department_feedback_and_Support  ->  Relatedness                       0.6267459\n",
       "Department_feedback_and_Support  ->  Global_Satisfaction               0.5102820\n",
       "Department_feedback_and_Support  ->  Teaching_and_Service_Satisfaction 0.3331867\n",
       "Inst_support  ->  Volition_Autonomy                                    0.4343644\n",
       "Inst_support  ->  Relatedness                                          0.2233275\n",
       "Inst_support  ->  Global_Satisfaction                                  0.2476797\n",
       "Inst_support  ->  Teaching_and_Service_Satisfaction                    0.3384592\n",
       "Volition_Autonomy  ->  Global_Satisfaction                             0.3574357\n",
       "Volition_Autonomy  ->  Teaching_and_Service_Satisfaction               0.8663203\n",
       "Relatedness  ->  Global_Satisfaction                                   0.7249002\n",
       "Relatedness  ->  Teaching_and_Service_Satisfaction                     0.1506436"
      ]
     },
     "metadata": {},
     "output_type": "display_data"
    }
   ],
   "source": [
    "summary_boot$bootstrapped_total_paths"
   ]
  },
  {
   "cell_type": "markdown",
   "metadata": {},
   "source": [
    "These paths indicate the R^2"
   ]
  },
  {
   "cell_type": "code",
   "execution_count": 10,
   "metadata": {
    "vscode": {
     "languageId": "r"
    }
   },
   "outputs": [
    {
     "data": {
      "text/html": [
       "<table class=\"dataframe\">\n",
       "<caption>A matrix: 7 x 4 of type dbl</caption>\n",
       "<thead>\n",
       "\t<tr><th></th><th scope=col>Relatedness</th><th scope=col>Volition_Autonomy</th><th scope=col>Global_Satisfaction</th><th scope=col>Teaching_and_Service_Satisfaction</th></tr>\n",
       "</thead>\n",
       "<tbody>\n",
       "\t<tr><th scope=row>R^2</th><td>0.7041808</td><td>0.6879400</td><td>0.7454444</td><td>0.55228675</td></tr>\n",
       "\t<tr><th scope=row>AdjR^2</th><td>0.7032631</td><td>0.6869719</td><td>0.7449185</td><td>0.55136172</td></tr>\n",
       "\t<tr><th scope=row>Chair_Support</th><td>0.2561982</td><td>0.2881338</td><td>       NA</td><td>        NA</td></tr>\n",
       "\t<tr><th scope=row>Department_feedback_and_Support</th><td>0.5485303</td><td>0.3418163</td><td>       NA</td><td>        NA</td></tr>\n",
       "\t<tr><th scope=row>Inst_support</th><td>0.1491013</td><td>0.3558720</td><td>       NA</td><td>        NA</td></tr>\n",
       "\t<tr><th scope=row>Volition_Autonomy</th><td>       NA</td><td>       NA</td><td>0.2644444</td><td>0.72576816</td></tr>\n",
       "\t<tr><th scope=row>Relatedness</th><td>       NA</td><td>       NA</td><td>0.6455923</td><td>0.02275669</td></tr>\n",
       "</tbody>\n",
       "</table>\n"
      ],
      "text/latex": [
       "A matrix: 7 x 4 of type dbl\n",
       "\\begin{tabular}{r|llll}\n",
       "  & Relatedness & Volition\\_Autonomy & Global\\_Satisfaction & Teaching\\_and\\_Service\\_Satisfaction\\\\\n",
       "\\hline\n",
       "\tR\\textasciicircum{}2 & 0.7041808 & 0.6879400 & 0.7454444 & 0.55228675\\\\\n",
       "\tAdjR\\textasciicircum{}2 & 0.7032631 & 0.6869719 & 0.7449185 & 0.55136172\\\\\n",
       "\tChair\\_Support & 0.2561982 & 0.2881338 &        NA &         NA\\\\\n",
       "\tDepartment\\_feedback\\_and\\_Support & 0.5485303 & 0.3418163 &        NA &         NA\\\\\n",
       "\tInst\\_support & 0.1491013 & 0.3558720 &        NA &         NA\\\\\n",
       "\tVolition\\_Autonomy &        NA &        NA & 0.2644444 & 0.72576816\\\\\n",
       "\tRelatedness &        NA &        NA & 0.6455923 & 0.02275669\\\\\n",
       "\\end{tabular}\n"
      ],
      "text/markdown": [
       "\n",
       "A matrix: 7 x 4 of type dbl\n",
       "\n",
       "| <!--/--> | Relatedness | Volition_Autonomy | Global_Satisfaction | Teaching_and_Service_Satisfaction |\n",
       "|---|---|---|---|---|\n",
       "| R^2 | 0.7041808 | 0.6879400 | 0.7454444 | 0.55228675 |\n",
       "| AdjR^2 | 0.7032631 | 0.6869719 | 0.7449185 | 0.55136172 |\n",
       "| Chair_Support | 0.2561982 | 0.2881338 |        NA |         NA |\n",
       "| Department_feedback_and_Support | 0.5485303 | 0.3418163 |        NA |         NA |\n",
       "| Inst_support | 0.1491013 | 0.3558720 |        NA |         NA |\n",
       "| Volition_Autonomy |        NA |        NA | 0.2644444 | 0.72576816 |\n",
       "| Relatedness |        NA |        NA | 0.6455923 | 0.02275669 |\n",
       "\n"
      ],
      "text/plain": [
       "                                Relatedness Volition_Autonomy\n",
       "R^2                             0.7041808   0.6879400        \n",
       "AdjR^2                          0.7032631   0.6869719        \n",
       "Chair_Support                   0.2561982   0.2881338        \n",
       "Department_feedback_and_Support 0.5485303   0.3418163        \n",
       "Inst_support                    0.1491013   0.3558720        \n",
       "Volition_Autonomy                      NA          NA        \n",
       "Relatedness                            NA          NA        \n",
       "                                Global_Satisfaction\n",
       "R^2                             0.7454444          \n",
       "AdjR^2                          0.7449185          \n",
       "Chair_Support                          NA          \n",
       "Department_feedback_and_Support        NA          \n",
       "Inst_support                           NA          \n",
       "Volition_Autonomy               0.2644444          \n",
       "Relatedness                     0.6455923          \n",
       "                                Teaching_and_Service_Satisfaction\n",
       "R^2                             0.55228675                       \n",
       "AdjR^2                          0.55136172                       \n",
       "Chair_Support                           NA                       \n",
       "Department_feedback_and_Support         NA                       \n",
       "Inst_support                            NA                       \n",
       "Volition_Autonomy               0.72576816                       \n",
       "Relatedness                     0.02275669                       "
      ]
     },
     "metadata": {},
     "output_type": "display_data"
    }
   ],
   "source": [
    "summary$paths"
   ]
  },
  {
   "cell_type": "code",
   "execution_count": 11,
   "metadata": {
    "vscode": {
     "languageId": "r"
    }
   },
   "outputs": [
    {
     "data": {
      "text/html": [
       "<table class=\"dataframe\">\n",
       "<caption>A matrix: 7 x 7 of type dbl</caption>\n",
       "<thead>\n",
       "\t<tr><th></th><th scope=col>Chair_Support</th><th scope=col>Department_feedback_and_Support</th><th scope=col>Inst_support</th><th scope=col>Volition_Autonomy</th><th scope=col>Relatedness</th><th scope=col>Global_Satisfaction</th><th scope=col>Teaching_and_Service_Satisfaction</th></tr>\n",
       "</thead>\n",
       "<tbody>\n",
       "\t<tr><th scope=row>Chair_Support</th><td>0</td><td>0</td><td>0</td><td>0.1425177</td><td>0.12198332</td><td>0.000000</td><td> 0.0000000000</td></tr>\n",
       "\t<tr><th scope=row>Department_feedback_and_Support</th><td>0</td><td>0</td><td>0</td><td>0.1689781</td><td>0.46145130</td><td>0.000000</td><td> 0.0000000000</td></tr>\n",
       "\t<tr><th scope=row>Inst_support</th><td>0</td><td>0</td><td>0</td><td>0.2702783</td><td>0.04864037</td><td>0.000000</td><td> 0.0000000000</td></tr>\n",
       "\t<tr><th scope=row>Volition_Autonomy</th><td>0</td><td>0</td><td>0</td><td>0.0000000</td><td>0.00000000</td><td>0.116795</td><td> 0.4998852768</td></tr>\n",
       "\t<tr><th scope=row>Relatedness</th><td>0</td><td>0</td><td>0</td><td>0.0000000</td><td>0.00000000</td><td>0.695969</td><td>-0.0002853487</td></tr>\n",
       "\t<tr><th scope=row>Global_Satisfaction</th><td>0</td><td>0</td><td>0</td><td>0.0000000</td><td>0.00000000</td><td>0.000000</td><td> 0.0000000000</td></tr>\n",
       "\t<tr><th scope=row>Teaching_and_Service_Satisfaction</th><td>0</td><td>0</td><td>0</td><td>0.0000000</td><td>0.00000000</td><td>0.000000</td><td> 0.0000000000</td></tr>\n",
       "</tbody>\n",
       "</table>\n"
      ],
      "text/latex": [
       "A matrix: 7 x 7 of type dbl\n",
       "\\begin{tabular}{r|lllllll}\n",
       "  & Chair\\_Support & Department\\_feedback\\_and\\_Support & Inst\\_support & Volition\\_Autonomy & Relatedness & Global\\_Satisfaction & Teaching\\_and\\_Service\\_Satisfaction\\\\\n",
       "\\hline\n",
       "\tChair\\_Support & 0 & 0 & 0 & 0.1425177 & 0.12198332 & 0.000000 &  0.0000000000\\\\\n",
       "\tDepartment\\_feedback\\_and\\_Support & 0 & 0 & 0 & 0.1689781 & 0.46145130 & 0.000000 &  0.0000000000\\\\\n",
       "\tInst\\_support & 0 & 0 & 0 & 0.2702783 & 0.04864037 & 0.000000 &  0.0000000000\\\\\n",
       "\tVolition\\_Autonomy & 0 & 0 & 0 & 0.0000000 & 0.00000000 & 0.116795 &  0.4998852768\\\\\n",
       "\tRelatedness & 0 & 0 & 0 & 0.0000000 & 0.00000000 & 0.695969 & -0.0002853487\\\\\n",
       "\tGlobal\\_Satisfaction & 0 & 0 & 0 & 0.0000000 & 0.00000000 & 0.000000 &  0.0000000000\\\\\n",
       "\tTeaching\\_and\\_Service\\_Satisfaction & 0 & 0 & 0 & 0.0000000 & 0.00000000 & 0.000000 &  0.0000000000\\\\\n",
       "\\end{tabular}\n"
      ],
      "text/markdown": [
       "\n",
       "A matrix: 7 x 7 of type dbl\n",
       "\n",
       "| <!--/--> | Chair_Support | Department_feedback_and_Support | Inst_support | Volition_Autonomy | Relatedness | Global_Satisfaction | Teaching_and_Service_Satisfaction |\n",
       "|---|---|---|---|---|---|---|---|\n",
       "| Chair_Support | 0 | 0 | 0 | 0.1425177 | 0.12198332 | 0.000000 |  0.0000000000 |\n",
       "| Department_feedback_and_Support | 0 | 0 | 0 | 0.1689781 | 0.46145130 | 0.000000 |  0.0000000000 |\n",
       "| Inst_support | 0 | 0 | 0 | 0.2702783 | 0.04864037 | 0.000000 |  0.0000000000 |\n",
       "| Volition_Autonomy | 0 | 0 | 0 | 0.0000000 | 0.00000000 | 0.116795 |  0.4998852768 |\n",
       "| Relatedness | 0 | 0 | 0 | 0.0000000 | 0.00000000 | 0.695969 | -0.0002853487 |\n",
       "| Global_Satisfaction | 0 | 0 | 0 | 0.0000000 | 0.00000000 | 0.000000 |  0.0000000000 |\n",
       "| Teaching_and_Service_Satisfaction | 0 | 0 | 0 | 0.0000000 | 0.00000000 | 0.000000 |  0.0000000000 |\n",
       "\n"
      ],
      "text/plain": [
       "                                  Chair_Support Department_feedback_and_Support\n",
       "Chair_Support                     0             0                              \n",
       "Department_feedback_and_Support   0             0                              \n",
       "Inst_support                      0             0                              \n",
       "Volition_Autonomy                 0             0                              \n",
       "Relatedness                       0             0                              \n",
       "Global_Satisfaction               0             0                              \n",
       "Teaching_and_Service_Satisfaction 0             0                              \n",
       "                                  Inst_support Volition_Autonomy Relatedness\n",
       "Chair_Support                     0            0.1425177         0.12198332 \n",
       "Department_feedback_and_Support   0            0.1689781         0.46145130 \n",
       "Inst_support                      0            0.2702783         0.04864037 \n",
       "Volition_Autonomy                 0            0.0000000         0.00000000 \n",
       "Relatedness                       0            0.0000000         0.00000000 \n",
       "Global_Satisfaction               0            0.0000000         0.00000000 \n",
       "Teaching_and_Service_Satisfaction 0            0.0000000         0.00000000 \n",
       "                                  Global_Satisfaction\n",
       "Chair_Support                     0.000000           \n",
       "Department_feedback_and_Support   0.000000           \n",
       "Inst_support                      0.000000           \n",
       "Volition_Autonomy                 0.116795           \n",
       "Relatedness                       0.695969           \n",
       "Global_Satisfaction               0.000000           \n",
       "Teaching_and_Service_Satisfaction 0.000000           \n",
       "                                  Teaching_and_Service_Satisfaction\n",
       "Chair_Support                      0.0000000000                    \n",
       "Department_feedback_and_Support    0.0000000000                    \n",
       "Inst_support                       0.0000000000                    \n",
       "Volition_Autonomy                  0.4998852768                    \n",
       "Relatedness                       -0.0002853487                    \n",
       "Global_Satisfaction                0.0000000000                    \n",
       "Teaching_and_Service_Satisfaction  0.0000000000                    "
      ]
     },
     "metadata": {},
     "output_type": "display_data"
    }
   ],
   "source": [
    "summary$fSquare"
   ]
  },
  {
   "cell_type": "markdown",
   "metadata": {},
   "source": [
    "Now, let's test predictive power"
   ]
  },
  {
   "cell_type": "code",
   "execution_count": 12,
   "metadata": {
    "vscode": {
     "languageId": "r"
    }
   },
   "outputs": [],
   "source": [
    "predict_model <-predict_pls(model = pls_model, technique = predict_DA, noFolds = 10, reps = 10)\n",
    "sumary_predicted <- summary(predict_model)"
   ]
  },
  {
   "cell_type": "markdown",
   "metadata": {},
   "source": [
    "q245d\", \"q250a\", \"q250b"
   ]
  },
  {
   "cell_type": "code",
   "execution_count": 13,
   "metadata": {
    "vscode": {
     "languageId": "r"
    }
   },
   "outputs": [
    {
     "data": {
      "image/png": "[encoded data removed]",
      "text/plain": [
       "Plot with title \"Distribution of predictive error of q250b\""
      ]
     },
     "metadata": {
      "image/png": {
       "height": 420,
       "width": 420
      }
     },
     "output_type": "display_data"
    }
   ],
   "source": [
    "par(mfrow = c(1,3))\n",
    "plot(sumary_predicted, indicator = \"q245d\" )\n",
    "plot(sumary_predicted, indicator = \"q250a\" )\n",
    "plot(sumary_predicted, indicator = \"q250b\" )\n",
    "par(mfrow = c(1,1))"
   ]
  },
  {
   "cell_type": "code",
   "execution_count": 14,
   "metadata": {
    "vscode": {
     "languageId": "r"
    }
   },
   "outputs": [
    {
     "data": {
      "text/plain": [
       "\n",
       "PLS in-sample metrics:\n",
       "     q195a q195b q195e q205a q205d q205c q210c q212a  q60c  q60d  q70c  q70h\n",
       "RMSE 0.894 0.753 0.850 0.794 0.824 0.859 0.863 0.861 0.876 0.948 0.853 0.930\n",
       "MAE  0.683 0.590 0.668 0.627 0.640 0.659 0.672 0.667 0.699 0.768 0.644 0.731\n",
       "      q60a q245d q250a q250b  q70a  q70b  q70e\n",
       "RMSE 0.758 0.883 0.672 0.780 0.968 0.848 1.035\n",
       "MAE  0.596 0.683 0.519 0.585 0.737 0.630 0.843\n",
       "\n",
       "PLS out-of-sample metrics:\n",
       "     q195a q195b q195e q205a q205d q205c q210c q212a  q60c  q60d  q70c  q70h\n",
       "RMSE 0.899 0.756 0.853 0.799 0.827 0.864 0.867 0.865 0.879 0.952 0.856 0.933\n",
       "MAE  0.686 0.592 0.670 0.630 0.642 0.663 0.675 0.669 0.701 0.771 0.646 0.733\n",
       "      q60a q245d q250a q250b  q70a  q70b  q70e\n",
       "RMSE 0.761 0.886 0.675 0.782 0.972 0.855 1.040\n",
       "MAE  0.598 0.684 0.521 0.586 0.740 0.635 0.846\n",
       "\n",
       "LM in-sample metrics:\n",
       "     q195a q195b q195e q205a q205d q205c q210c q212a  q60c  q60d  q70c  q70h\n",
       "RMSE 0.818 0.689 0.766 0.751 0.754 0.732 0.744 0.779 0.830 0.898 0.754 0.854\n",
       "MAE  0.640 0.538 0.603 0.586 0.573 0.559 0.555 0.593 0.656 0.720 0.554 0.672\n",
       "      q60a q245d q250a q250b  q70a  q70b  q70e\n",
       "RMSE 0.720 0.786 0.562 0.685 0.885 0.749 0.908\n",
       "MAE  0.562 0.601 0.431 0.522 0.676 0.558 0.733\n",
       "\n",
       "LM out-of-sample metrics:\n",
       "     q195a q195b q195e q205a q205d q205c q210c q212a  q60c  q60d  q70c  q70h\n",
       "RMSE 0.858 0.721 0.797 0.786 0.784 0.765 0.776 0.806 0.869 0.938 0.793 0.899\n",
       "MAE  0.668 0.563 0.626 0.611 0.595 0.585 0.576 0.612 0.683 0.749 0.581 0.704\n",
       "      q60a q245d q250a q250b  q70a  q70b  q70e\n",
       "RMSE 0.749 0.826 0.594 0.714 0.931 0.789 0.945\n",
       "MAE  0.581 0.631 0.454 0.543 0.708 0.584 0.758"
      ]
     },
     "metadata": {},
     "output_type": "display_data"
    }
   ],
   "source": [
    "sumary_predicted"
   ]
  },
  {
   "cell_type": "markdown",
   "metadata": {},
   "source": [
    "Model Comparison"
   ]
  },
  {
   "cell_type": "code",
   "execution_count": 6,
   "metadata": {
    "vscode": {
     "languageId": "r"
    }
   },
   "outputs": [
    {
     "name": "stderr",
     "output_type": "stream",
     "text": [
      "Generating the seminr model\n",
      "\n",
      "All 971 observations are valid.\n",
      "\n",
      "Generating the seminr model\n",
      "\n",
      "All 971 observations are valid.\n",
      "\n",
      "Generating the seminr model\n",
      "\n",
      "All 971 observations are valid.\n",
      "\n"
     ]
    }
   ],
   "source": [
    "# Measurement Model\n",
    "measurements <- constructs(\n",
    "  reflective(\"Chair_Support\", c(\"q185h\", \"q185i\", \"q185j\", \"q185k\", \"q215l\", \"q185l\")),\n",
    "  reflective(\"Department_feedback_and_Support\", c(\"q215a\", \"q215b\", \"q215d\", \"q215i\")),\n",
    "  reflective(\"Inst_support\", c( \"q90c\", \"q90d\", \"q90e\", \"q90f\", \"q90h\")),\n",
    "  reflective(\"Relatedness\", c(\"q195a\", \"q195b\", \"q195e\", \"q205a\", \"q205d\", \"q205c\", \"q210c\", \"q212a\")),\n",
    "  reflective(\"Competence\", c(\"q45a\", \"q45c\", \"q45e\")),\n",
    "  reflective(\"Volition_Autonomy\", c(\"q60c\", \"q60d\", \"q70c\", \"q70h\",\"q60a\")),\n",
    "  reflective(\"Teaching_and_Service_Satisfaction\", c(\"q70a\", \"q70b\", \"q70e\")),\n",
    "  reflective(\"Global_Satisfaction\", c(\"q245d\", \"q250a\", \"q250b\"))\n",
    ")\n",
    "\n",
    "# Structural Model\n",
    "structure1 <- relationships(\n",
    "  paths(from = c(\"Chair_Support\", \"Department_feedback_and_Support\", \"Inst_support\"),\n",
    "        to = c(\"Relatedness\", \"Volition_Autonomy\")),\n",
    "  paths(from = c(\"Volition_Autonomy\", \"Relatedness\"),\n",
    "        to = c(\"Global_Satisfaction\", \"Teaching_and_Service_Satisfaction\"))\n",
    ")\n",
    "\n",
    "structure2 <- relationships(\n",
    "  paths(from = c(\"Chair_Support\", \"Department_feedback_and_Support\", \"Inst_support\"),\n",
    "        to = c(\"Relatedness\", \"Volition_Autonomy\", \"Global_Satisfaction\", \"Teaching_and_Service_Satisfaction\")),\n",
    "  paths(from = c(\"Volition_Autonomy\", \"Relatedness\"),\n",
    "        to = c(\"Global_Satisfaction\", \"Teaching_and_Service_Satisfaction\"))\n",
    ")\n",
    "\n",
    "\n",
    "structure3 <- relationships(\n",
    "  paths(from = c(\"Chair_Support\", \"Department_feedback_and_Support\", \"Inst_support\"),\n",
    "        to = c(\"Global_Satisfaction\", \"Teaching_and_Service_Satisfaction\")),\n",
    "  paths(from = c(\"Global_Satisfaction\", \"Teaching_and_Service_Satisfaction\"),\n",
    "        to = c(\"Volition_Autonomy\", \"Relatedness\"))\n",
    ")\n",
    "\n",
    "# Estimate the SEM model\n",
    "pls_model_small <- estimate_pls(data = data, measurement_model = measurements, structural_model = structure1)\n",
    "pls_model_saturated <- estimate_pls(data = data, measurement_model = measurements, structural_model = structure2)\n",
    "pls_inverted <- estimate_pls(data = data, measurement_model = measurements, structural_model = structure3)\n",
    "\n",
    "sum_model1 <- summary(pls_model_small)\n",
    "sum_model2 <- summary(pls_model_saturated)\n",
    "sum_model3 <- summary(pls_inverted)"
   ]
  },
  {
   "cell_type": "code",
   "execution_count": 7,
   "metadata": {
    "vscode": {
     "languageId": "r"
    }
   },
   "outputs": [
    {
     "data": {
      "text/html": [
       "-919.421238225434"
      ],
      "text/latex": [
       "-919.421238225434"
      ],
      "text/markdown": [
       "-919.421238225434"
      ],
      "text/plain": [
       "[1] -919.4212"
      ]
     },
     "metadata": {},
     "output_type": "display_data"
    },
    {
     "data": {
      "text/html": [
       "-419.775887594809"
      ],
      "text/latex": [
       "-419.775887594809"
      ],
      "text/markdown": [
       "-419.775887594809"
      ],
      "text/plain": [
       "[1] -419.7759"
      ]
     },
     "metadata": {},
     "output_type": "display_data"
    }
   ],
   "source": [
    "sum_model1$it_criteria[\"BIC\", \"Global_Satisfaction\"]\n",
    "sum_model1$it_criteria[\"BIC\", \"Teaching_and_Service_Satisfaction\"]"
   ]
  },
  {
   "cell_type": "code",
   "execution_count": 8,
   "metadata": {
    "vscode": {
     "languageId": "r"
    }
   },
   "outputs": [
    {
     "data": {
      "text/html": [
       "-1054.77358753431"
      ],
      "text/latex": [
       "-1054.77358753431"
      ],
      "text/markdown": [
       "-1054.77358753431"
      ],
      "text/plain": [
       "[1] -1054.774"
      ]
     },
     "metadata": {},
     "output_type": "display_data"
    },
    {
     "data": {
      "text/html": [
       "-529.010391790469"
      ],
      "text/latex": [
       "-529.010391790469"
      ],
      "text/markdown": [
       "-529.010391790469"
      ],
      "text/plain": [
       "[1] -529.0104"
      ]
     },
     "metadata": {},
     "output_type": "display_data"
    }
   ],
   "source": [
    "sum_model2$it_criteria[\"BIC\", \"Global_Satisfaction\"]\n",
    "sum_model2$it_criteria[\"BIC\", \"Teaching_and_Service_Satisfaction\"]"
   ]
  },
  {
   "cell_type": "code",
   "execution_count": 9,
   "metadata": {
    "vscode": {
     "languageId": "r"
    }
   },
   "outputs": [
    {
     "data": {
      "text/html": [
       "-882.042500213526"
      ],
      "text/latex": [
       "-882.042500213526"
      ],
      "text/markdown": [
       "-882.042500213526"
      ],
      "text/plain": [
       "[1] -882.0425"
      ]
     },
     "metadata": {},
     "output_type": "display_data"
    },
    {
     "data": {
      "text/html": [
       "-409.010946071593"
      ],
      "text/latex": [
       "-409.010946071593"
      ],
      "text/markdown": [
       "-409.010946071593"
      ],
      "text/plain": [
       "[1] -409.0109"
      ]
     },
     "metadata": {},
     "output_type": "display_data"
    }
   ],
   "source": [
    "sum_model3$it_criteria[\"BIC\", \"Global_Satisfaction\"]\n",
    "sum_model3$it_criteria[\"BIC\", \"Teaching_and_Service_Satisfaction\"]"
   ]
  },
  {
   "cell_type": "code",
   "execution_count": 10,
   "metadata": {
    "vscode": {
     "languageId": "r"
    }
   },
   "outputs": [
    {
     "data": {
      "text/html": [
       "<style>\n",
       ".dl-inline {width: auto; margin:0; padding: 0}\n",
       ".dl-inline>dt, .dl-inline>dd {float: none; width: auto; display: inline-block}\n",
       ".dl-inline>dt::after {content: \":\\0020\"; padding-right: .5ex}\n",
       ".dl-inline>dt:not(:first-of-type) {padding-left: .5ex}\n",
       "</style><dl class=dl-inline><dt>model1</dt><dd>4.06079243410162e-30</dd><dt>model2</dt><dd>1</dd><dt>model3</dt><dd>3.10399463337229e-38</dd></dl>\n"
      ],
      "text/latex": [
       "\\begin{description*}\n",
       "\\item[model1] 4.06079243410162e-30\n",
       "\\item[model2] 1\n",
       "\\item[model3] 3.10399463337229e-38\n",
       "\\end{description*}\n"
      ],
      "text/markdown": [
       "model1\n",
       ":   4.06079243410162e-30model2\n",
       ":   1model3\n",
       ":   3.10399463337229e-38\n",
       "\n"
      ],
      "text/plain": [
       "      model1       model2       model3 \n",
       "4.060792e-30 1.000000e+00 3.103995e-38 "
      ]
     },
     "metadata": {},
     "output_type": "display_data"
    }
   ],
   "source": [
    "it_criteria_vector <-c(sum_model1$it_criteria[\"BIC\", \"Global_Satisfaction\"], sum_model2$it_criteria[\"BIC\", \"Global_Satisfaction\"],sum_model3$it_criteria[\"BIC\", \"Global_Satisfaction\"])\n",
    "names(it_criteria_vector) <- c(\"model1\", \"model2\", \"model3\")\n",
    "compute_itcriteria_weights(it_criteria_vector)"
   ]
  },
  {
   "cell_type": "code",
   "execution_count": 11,
   "metadata": {
    "vscode": {
     "languageId": "r"
    }
   },
   "outputs": [
    {
     "data": {
      "text/html": [
       "<table class=\"dataframe\">\n",
       "<caption>A matrix: 7 x 7 of type dbl</caption>\n",
       "<thead>\n",
       "\t<tr><th></th><th scope=col>Chair_Support</th><th scope=col>Department_feedback_and_Support</th><th scope=col>Inst_support</th><th scope=col>Volition_Autonomy</th><th scope=col>Relatedness</th><th scope=col>Global_Satisfaction</th><th scope=col>Teaching_and_Service_Satisfaction</th></tr>\n",
       "</thead>\n",
       "<tbody>\n",
       "\t<tr><th scope=row>Chair_Support</th><td>0</td><td>0</td><td>0</td><td>0.1425177</td><td>0.12198332</td><td>0.000000</td><td> 0.0000000000</td></tr>\n",
       "\t<tr><th scope=row>Department_feedback_and_Support</th><td>0</td><td>0</td><td>0</td><td>0.1689781</td><td>0.46145130</td><td>0.000000</td><td> 0.0000000000</td></tr>\n",
       "\t<tr><th scope=row>Inst_support</th><td>0</td><td>0</td><td>0</td><td>0.2702783</td><td>0.04864037</td><td>0.000000</td><td> 0.0000000000</td></tr>\n",
       "\t<tr><th scope=row>Volition_Autonomy</th><td>0</td><td>0</td><td>0</td><td>0.0000000</td><td>0.00000000</td><td>0.116795</td><td> 0.4998852768</td></tr>\n",
       "\t<tr><th scope=row>Relatedness</th><td>0</td><td>0</td><td>0</td><td>0.0000000</td><td>0.00000000</td><td>0.695969</td><td>-0.0002853487</td></tr>\n",
       "\t<tr><th scope=row>Global_Satisfaction</th><td>0</td><td>0</td><td>0</td><td>0.0000000</td><td>0.00000000</td><td>0.000000</td><td> 0.0000000000</td></tr>\n",
       "\t<tr><th scope=row>Teaching_and_Service_Satisfaction</th><td>0</td><td>0</td><td>0</td><td>0.0000000</td><td>0.00000000</td><td>0.000000</td><td> 0.0000000000</td></tr>\n",
       "</tbody>\n",
       "</table>\n"
      ],
      "text/latex": [
       "A matrix: 7 x 7 of type dbl\n",
       "\\begin{tabular}{r|lllllll}\n",
       "  & Chair\\_Support & Department\\_feedback\\_and\\_Support & Inst\\_support & Volition\\_Autonomy & Relatedness & Global\\_Satisfaction & Teaching\\_and\\_Service\\_Satisfaction\\\\\n",
       "\\hline\n",
       "\tChair\\_Support & 0 & 0 & 0 & 0.1425177 & 0.12198332 & 0.000000 &  0.0000000000\\\\\n",
       "\tDepartment\\_feedback\\_and\\_Support & 0 & 0 & 0 & 0.1689781 & 0.46145130 & 0.000000 &  0.0000000000\\\\\n",
       "\tInst\\_support & 0 & 0 & 0 & 0.2702783 & 0.04864037 & 0.000000 &  0.0000000000\\\\\n",
       "\tVolition\\_Autonomy & 0 & 0 & 0 & 0.0000000 & 0.00000000 & 0.116795 &  0.4998852768\\\\\n",
       "\tRelatedness & 0 & 0 & 0 & 0.0000000 & 0.00000000 & 0.695969 & -0.0002853487\\\\\n",
       "\tGlobal\\_Satisfaction & 0 & 0 & 0 & 0.0000000 & 0.00000000 & 0.000000 &  0.0000000000\\\\\n",
       "\tTeaching\\_and\\_Service\\_Satisfaction & 0 & 0 & 0 & 0.0000000 & 0.00000000 & 0.000000 &  0.0000000000\\\\\n",
       "\\end{tabular}\n"
      ],
      "text/markdown": [
       "\n",
       "A matrix: 7 x 7 of type dbl\n",
       "\n",
       "| <!--/--> | Chair_Support | Department_feedback_and_Support | Inst_support | Volition_Autonomy | Relatedness | Global_Satisfaction | Teaching_and_Service_Satisfaction |\n",
       "|---|---|---|---|---|---|---|---|\n",
       "| Chair_Support | 0 | 0 | 0 | 0.1425177 | 0.12198332 | 0.000000 |  0.0000000000 |\n",
       "| Department_feedback_and_Support | 0 | 0 | 0 | 0.1689781 | 0.46145130 | 0.000000 |  0.0000000000 |\n",
       "| Inst_support | 0 | 0 | 0 | 0.2702783 | 0.04864037 | 0.000000 |  0.0000000000 |\n",
       "| Volition_Autonomy | 0 | 0 | 0 | 0.0000000 | 0.00000000 | 0.116795 |  0.4998852768 |\n",
       "| Relatedness | 0 | 0 | 0 | 0.0000000 | 0.00000000 | 0.695969 | -0.0002853487 |\n",
       "| Global_Satisfaction | 0 | 0 | 0 | 0.0000000 | 0.00000000 | 0.000000 |  0.0000000000 |\n",
       "| Teaching_and_Service_Satisfaction | 0 | 0 | 0 | 0.0000000 | 0.00000000 | 0.000000 |  0.0000000000 |\n",
       "\n"
      ],
      "text/plain": [
       "                                  Chair_Support Department_feedback_and_Support\n",
       "Chair_Support                     0             0                              \n",
       "Department_feedback_and_Support   0             0                              \n",
       "Inst_support                      0             0                              \n",
       "Volition_Autonomy                 0             0                              \n",
       "Relatedness                       0             0                              \n",
       "Global_Satisfaction               0             0                              \n",
       "Teaching_and_Service_Satisfaction 0             0                              \n",
       "                                  Inst_support Volition_Autonomy Relatedness\n",
       "Chair_Support                     0            0.1425177         0.12198332 \n",
       "Department_feedback_and_Support   0            0.1689781         0.46145130 \n",
       "Inst_support                      0            0.2702783         0.04864037 \n",
       "Volition_Autonomy                 0            0.0000000         0.00000000 \n",
       "Relatedness                       0            0.0000000         0.00000000 \n",
       "Global_Satisfaction               0            0.0000000         0.00000000 \n",
       "Teaching_and_Service_Satisfaction 0            0.0000000         0.00000000 \n",
       "                                  Global_Satisfaction\n",
       "Chair_Support                     0.000000           \n",
       "Department_feedback_and_Support   0.000000           \n",
       "Inst_support                      0.000000           \n",
       "Volition_Autonomy                 0.116795           \n",
       "Relatedness                       0.695969           \n",
       "Global_Satisfaction               0.000000           \n",
       "Teaching_and_Service_Satisfaction 0.000000           \n",
       "                                  Teaching_and_Service_Satisfaction\n",
       "Chair_Support                      0.0000000000                    \n",
       "Department_feedback_and_Support    0.0000000000                    \n",
       "Inst_support                       0.0000000000                    \n",
       "Volition_Autonomy                  0.4998852768                    \n",
       "Relatedness                       -0.0002853487                    \n",
       "Global_Satisfaction                0.0000000000                    \n",
       "Teaching_and_Service_Satisfaction  0.0000000000                    "
      ]
     },
     "metadata": {},
     "output_type": "display_data"
    }
   ],
   "source": [
    "sum_model1$fSquare"
   ]
  }
 ],
 "metadata": {
  "kernelspec": {
   "display_name": "R",
   "language": "R",
   "name": "ir"
  },
  "language_info": {
   "codemirror_mode": "r",
   "file_extension": ".r",
   "mimetype": "text/x-r-source",
   "name": "R",
   "pygments_lexer": "r",
   "version": "4.2.2"
  }
 },
 "nbformat": 4,
 "nbformat_minor": 2
}
