{
 "cells": [
  {
   "cell_type": "markdown",
   "metadata": {},
   "source": [
    "# Model Comparison\n",
    "\n",
    "In this notebook, we compare the original model vs the alternative model \n",
    "\n",
    "# Henry Salgado "
   ]
  },
  {
   "cell_type": "code",
   "execution_count": 1,
   "metadata": {
    "vscode": {
     "languageId": "r"
    }
   },
   "outputs": [],
   "source": [
    "library(seminr)\n",
    "library(readxl)\n",
    "library(writexl)\n",
    "library(ggplot2)\n",
    "\n",
    "\n",
    "data <- read.csv('/Users/henrysalgado/Desktop/Coache Data Analysis/october24_forest_imputed_data.csv')"
   ]
  },
  {
   "cell_type": "code",
   "execution_count": 2,
   "metadata": {
    "vscode": {
     "languageId": "r"
    }
   },
   "outputs": [
    {
     "name": "stderr",
     "output_type": "stream",
     "text": [
      "Generating the seminr model\n",
      "\n",
      "All 971 observations are valid.\n",
      "\n",
      "Generating the seminr model\n",
      "\n",
      "All 971 observations are valid.\n",
      "\n"
     ]
    }
   ],
   "source": [
    "# Measurement Model\n",
    "measurements <- constructs(\n",
    "  reflective(\"Chair_Support\", c(\"q185h\", \"q185i\", \"q185j\", \"q185k\", \"q215l\", \"q185l\")),\n",
    "  reflective(\"Department_feedback_and_Support\", c(\"q215a\", \"q215b\", \"q215d\", \"q215i\")),\n",
    "  reflective(\"Inst_support\", c( \"q90c\", \"q90d\", \"q90e\", \"q90f\", \"q90h\")),\n",
    "  reflective(\"Relatedness\", c(\"q195a\", \"q195b\", \"q195e\", \"q205a\", \"q205d\", \"q205c\", \"q210c\", \"q212a\")),\n",
    "  reflective(\"Competence\", c(\"q45a\", \"q45c\", \"q45e\")),\n",
    "  reflective(\"Volition_Autonomy\", c(\"q60c\", \"q60d\", \"q70c\", \"q70h\",\"q60a\")),\n",
    "  reflective(\"Teaching_and_Service_Satisfaction\", c(\"q70a\", \"q70b\", \"q70e\")),\n",
    "  reflective(\"Global_Satisfaction\", c(\"q245d\", \"q250a\", \"q250b\", 'q265'))\n",
    ")\n",
    "\n",
    "# Structural Model\n",
    "structure1 <- relationships(\n",
    "  paths(from = c(\"Chair_Support\", \"Department_feedback_and_Support\", \"Inst_support\"),\n",
    "        to = c(\"Relatedness\", \"Volition_Autonomy\")),\n",
    "  paths(from = c(\"Volition_Autonomy\", \"Relatedness\"),\n",
    "        to = c(\"Global_Satisfaction\"))\n",
    ")\n",
    "\n",
    "\n",
    "\n",
    "structure3 <- relationships(\n",
    "  paths(from = c(\"Chair_Support\", \"Department_feedback_and_Support\", \"Inst_support\"),\n",
    "        to = c(\"Global_Satisfaction\")),\n",
    "  paths(from = c(\"Global_Satisfaction\"),\n",
    "        to = c(\"Volition_Autonomy\", \"Relatedness\"))\n",
    ")\n",
    "\n",
    "# Estimate the SEM model\n",
    "pls_model_original <- estimate_pls(data = data, measurement_model = measurements, structural_model = structure1)\n",
    "#pls_model_saturated <- estimate_pls(data = data, measurement_model = measurements, structural_model = structure2)\n",
    "pls_alternative <- estimate_pls(data = data, measurement_model = measurements, structural_model = structure3)\n",
    "\n",
    "summary_model1 <- summary(pls_model_original)\n",
    "\n",
    "summary_model2<- summary(pls_alternative)"
   ]
  },
  {
   "cell_type": "code",
   "execution_count": 3,
   "metadata": {
    "vscode": {
     "languageId": "r"
    }
   },
   "outputs": [
    {
     "data": {
      "text/html": [
       "-1013.68501879685"
      ],
      "text/latex": [
       "-1013.68501879685"
      ],
      "text/markdown": [
       "-1013.68501879685"
      ],
      "text/plain": [
       "[1] -1013.685"
      ]
     },
     "metadata": {},
     "output_type": "display_data"
    }
   ],
   "source": [
    "summary_model1$it_criteria[\"BIC\", \"Global_Satisfaction\"]\n"
   ]
  },
  {
   "cell_type": "code",
   "execution_count": 5,
   "metadata": {
    "vscode": {
     "languageId": "r"
    }
   },
   "outputs": [
    {
     "data": {
      "text/html": [
       "<table class=\"dataframe\">\n",
       "<caption>A matrix: 7 x 3 of type dbl</caption>\n",
       "<thead>\n",
       "\t<tr><th></th><th scope=col>Relatedness</th><th scope=col>Volition_Autonomy</th><th scope=col>Global_Satisfaction</th></tr>\n",
       "</thead>\n",
       "<tbody>\n",
       "\t<tr><th scope=row>R^2</th><td>0.7057201</td><td>0.6853505</td><td>0.7774178</td></tr>\n",
       "\t<tr><th scope=row>AdjR^2</th><td>0.7048071</td><td>0.6843743</td><td>0.7769579</td></tr>\n",
       "\t<tr><th scope=row>Chair_Support</th><td>0.2576893</td><td>0.2910082</td><td>       NA</td></tr>\n",
       "\t<tr><th scope=row>Department_feedback_and_Support</th><td>0.5516399</td><td>0.3402014</td><td>       NA</td></tr>\n",
       "\t<tr><th scope=row>Inst_support</th><td>0.1442715</td><td>0.3528378</td><td>       NA</td></tr>\n",
       "\t<tr><th scope=row>Volition_Autonomy</th><td>       NA</td><td>       NA</td><td>0.2591971</td></tr>\n",
       "\t<tr><th scope=row>Relatedness</th><td>       NA</td><td>       NA</td><td>0.6693057</td></tr>\n",
       "</tbody>\n",
       "</table>\n"
      ],
      "text/latex": [
       "A matrix: 7 x 3 of type dbl\n",
       "\\begin{tabular}{r|lll}\n",
       "  & Relatedness & Volition\\_Autonomy & Global\\_Satisfaction\\\\\n",
       "\\hline\n",
       "\tR\\textasciicircum{}2 & 0.7057201 & 0.6853505 & 0.7774178\\\\\n",
       "\tAdjR\\textasciicircum{}2 & 0.7048071 & 0.6843743 & 0.7769579\\\\\n",
       "\tChair\\_Support & 0.2576893 & 0.2910082 &        NA\\\\\n",
       "\tDepartment\\_feedback\\_and\\_Support & 0.5516399 & 0.3402014 &        NA\\\\\n",
       "\tInst\\_support & 0.1442715 & 0.3528378 &        NA\\\\\n",
       "\tVolition\\_Autonomy &        NA &        NA & 0.2591971\\\\\n",
       "\tRelatedness &        NA &        NA & 0.6693057\\\\\n",
       "\\end{tabular}\n"
      ],
      "text/markdown": [
       "\n",
       "A matrix: 7 x 3 of type dbl\n",
       "\n",
       "| <!--/--> | Relatedness | Volition_Autonomy | Global_Satisfaction |\n",
       "|---|---|---|---|\n",
       "| R^2 | 0.7057201 | 0.6853505 | 0.7774178 |\n",
       "| AdjR^2 | 0.7048071 | 0.6843743 | 0.7769579 |\n",
       "| Chair_Support | 0.2576893 | 0.2910082 |        NA |\n",
       "| Department_feedback_and_Support | 0.5516399 | 0.3402014 |        NA |\n",
       "| Inst_support | 0.1442715 | 0.3528378 |        NA |\n",
       "| Volition_Autonomy |        NA |        NA | 0.2591971 |\n",
       "| Relatedness |        NA |        NA | 0.6693057 |\n",
       "\n"
      ],
      "text/plain": [
       "                                Relatedness Volition_Autonomy\n",
       "R^2                             0.7057201   0.6853505        \n",
       "AdjR^2                          0.7048071   0.6843743        \n",
       "Chair_Support                   0.2576893   0.2910082        \n",
       "Department_feedback_and_Support 0.5516399   0.3402014        \n",
       "Inst_support                    0.1442715   0.3528378        \n",
       "Volition_Autonomy                      NA          NA        \n",
       "Relatedness                            NA          NA        \n",
       "                                Global_Satisfaction\n",
       "R^2                             0.7774178          \n",
       "AdjR^2                          0.7769579          \n",
       "Chair_Support                          NA          \n",
       "Department_feedback_and_Support        NA          \n",
       "Inst_support                           NA          \n",
       "Volition_Autonomy               0.2591971          \n",
       "Relatedness                     0.6693057          "
      ]
     },
     "metadata": {},
     "output_type": "display_data"
    }
   ],
   "source": [
    "summary_model1$paths"
   ]
  },
  {
   "cell_type": "code",
   "execution_count": 4,
   "metadata": {
    "vscode": {
     "languageId": "r"
    }
   },
   "outputs": [
    {
     "data": {
      "text/html": [
       "-933.257091218195"
      ],
      "text/latex": [
       "-933.257091218195"
      ],
      "text/markdown": [
       "-933.257091218195"
      ],
      "text/plain": [
       "[1] -933.2571"
      ]
     },
     "metadata": {},
     "output_type": "display_data"
    }
   ],
   "source": [
    "summary_model2$it_criteria[\"BIC\", \"Global_Satisfaction\"]"
   ]
  },
  {
   "cell_type": "code",
   "execution_count": 6,
   "metadata": {
    "vscode": {
     "languageId": "r"
    }
   },
   "outputs": [
    {
     "data": {
      "text/html": [
       "<table class=\"dataframe\">\n",
       "<caption>A matrix: 6 x 3 of type dbl</caption>\n",
       "<thead>\n",
       "\t<tr><th></th><th scope=col>Global_Satisfaction</th><th scope=col>Volition_Autonomy</th><th scope=col>Relatedness</th></tr>\n",
       "</thead>\n",
       "<tbody>\n",
       "\t<tr><th scope=row>R^2</th><td>0.7319229</td><td>0.5899111</td><td>0.7492535</td></tr>\n",
       "\t<tr><th scope=row>AdjR^2</th><td>0.7310913</td><td>0.5894879</td><td>0.7489947</td></tr>\n",
       "\t<tr><th scope=row>Chair_Support</th><td>0.2495169</td><td>       NA</td><td>       NA</td></tr>\n",
       "\t<tr><th scope=row>Department_feedback_and_Support</th><td>0.4882473</td><td>       NA</td><td>       NA</td></tr>\n",
       "\t<tr><th scope=row>Inst_support</th><td>0.2590445</td><td>       NA</td><td>       NA</td></tr>\n",
       "\t<tr><th scope=row>Global_Satisfaction</th><td>       NA</td><td>0.7680567</td><td>0.8655943</td></tr>\n",
       "</tbody>\n",
       "</table>\n"
      ],
      "text/latex": [
       "A matrix: 6 x 3 of type dbl\n",
       "\\begin{tabular}{r|lll}\n",
       "  & Global\\_Satisfaction & Volition\\_Autonomy & Relatedness\\\\\n",
       "\\hline\n",
       "\tR\\textasciicircum{}2 & 0.7319229 & 0.5899111 & 0.7492535\\\\\n",
       "\tAdjR\\textasciicircum{}2 & 0.7310913 & 0.5894879 & 0.7489947\\\\\n",
       "\tChair\\_Support & 0.2495169 &        NA &        NA\\\\\n",
       "\tDepartment\\_feedback\\_and\\_Support & 0.4882473 &        NA &        NA\\\\\n",
       "\tInst\\_support & 0.2590445 &        NA &        NA\\\\\n",
       "\tGlobal\\_Satisfaction &        NA & 0.7680567 & 0.8655943\\\\\n",
       "\\end{tabular}\n"
      ],
      "text/markdown": [
       "\n",
       "A matrix: 6 x 3 of type dbl\n",
       "\n",
       "| <!--/--> | Global_Satisfaction | Volition_Autonomy | Relatedness |\n",
       "|---|---|---|---|\n",
       "| R^2 | 0.7319229 | 0.5899111 | 0.7492535 |\n",
       "| AdjR^2 | 0.7310913 | 0.5894879 | 0.7489947 |\n",
       "| Chair_Support | 0.2495169 |        NA |        NA |\n",
       "| Department_feedback_and_Support | 0.4882473 |        NA |        NA |\n",
       "| Inst_support | 0.2590445 |        NA |        NA |\n",
       "| Global_Satisfaction |        NA | 0.7680567 | 0.8655943 |\n",
       "\n"
      ],
      "text/plain": [
       "                                Global_Satisfaction Volition_Autonomy\n",
       "R^2                             0.7319229           0.5899111        \n",
       "AdjR^2                          0.7310913           0.5894879        \n",
       "Chair_Support                   0.2495169                  NA        \n",
       "Department_feedback_and_Support 0.4882473                  NA        \n",
       "Inst_support                    0.2590445                  NA        \n",
       "Global_Satisfaction                    NA           0.7680567        \n",
       "                                Relatedness\n",
       "R^2                             0.7492535  \n",
       "AdjR^2                          0.7489947  \n",
       "Chair_Support                          NA  \n",
       "Department_feedback_and_Support        NA  \n",
       "Inst_support                           NA  \n",
       "Global_Satisfaction             0.8655943  "
      ]
     },
     "metadata": {},
     "output_type": "display_data"
    }
   ],
   "source": [
    "summary_model2$paths"
   ]
  }
 ],
 "metadata": {
  "kernelspec": {
   "display_name": "R",
   "language": "R",
   "name": "ir"
  },
  "language_info": {
   "codemirror_mode": "r",
   "file_extension": ".r",
   "mimetype": "text/x-r-source",
   "name": "R",
   "pygments_lexer": "r",
   "version": "4.2.2"
  }
 },
 "nbformat": 4,
 "nbformat_minor": 2
}
