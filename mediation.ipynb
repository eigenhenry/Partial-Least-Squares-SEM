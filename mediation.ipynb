{
 "cells": [
  {
   "cell_type": "markdown",
   "metadata": {},
   "source": [
    "# Mediation Analysis\n",
    "\n",
    "# Henry Salgado"
   ]
  },
  {
   "cell_type": "code",
   "execution_count": 3,
   "metadata": {
    "vscode": {
     "languageId": "r"
    }
   },
   "outputs": [
    {
     "name": "stdout",
     "output_type": "stream",
     "text": [
      "\n",
      "  There is a binary version available but the source version is later:\n",
      "       binary source needs_compilation\n",
      "seminr  2.3.2  2.3.4             FALSE\n",
      "\n"
     ]
    },
    {
     "name": "stderr",
     "output_type": "stream",
     "text": [
      "installing the source package 'seminr'\n",
      "\n",
      "\n"
     ]
    },
    {
     "name": "stdout",
     "output_type": "stream",
     "text": [
      "\n",
      "The downloaded binary packages are in\n",
      "\t/var/folders/gk/cvk0vx853198tmxc1bd6_x240000gn/T//Rtmpt3piZX/downloaded_packages\n",
      "\n",
      "  There is a binary version available but the source version is later:\n",
      "        binary source needs_compilation\n",
      "writexl  1.4.2  1.5.1              TRUE\n",
      "\n"
     ]
    },
    {
     "name": "stderr",
     "output_type": "stream",
     "text": [
      "installing the source package 'writexl'\n",
      "\n",
      "\n"
     ]
    },
    {
     "name": "stdout",
     "output_type": "stream",
     "text": [
      "\n",
      "  There is a binary version available but the source version is later:\n",
      "        binary source needs_compilation\n",
      "ggplot2  3.4.4  3.5.1             FALSE\n",
      "\n"
     ]
    },
    {
     "name": "stderr",
     "output_type": "stream",
     "text": [
      "installing the source package 'ggplot2'\n",
      "\n",
      "\n"
     ]
    }
   ],
   "source": [
    "install.packages(\"seminr\")     # For SEM modeling\n",
    "install.packages(\"readxl\")     # For reading Excel files\n",
    "install.packages(\"writexl\")    # For writing Excel files\n",
    "install.packages(\"ggplot2\") "
   ]
  },
  {
   "cell_type": "code",
   "execution_count": 4,
   "metadata": {
    "vscode": {
     "languageId": "r"
    }
   },
   "outputs": [
    {
     "name": "stderr",
     "output_type": "stream",
     "text": [
      "Generating the seminr model\n",
      "\n",
      "All 971 observations are valid.\n",
      "\n",
      "Bootstrapping model using seminr...\n",
      "\n",
      "SEMinR Model successfully bootstrapped\n",
      "\n"
     ]
    }
   ],
   "source": [
    "library(seminr)\n",
    "library(readxl)\n",
    "library(writexl)\n",
    "library(ggplot2)\n",
    "\n",
    "# Load data\n",
    "data <- read.csv('/Users/henrysalgado/Desktop/Coache Data Analysis/october24_forest_imputed_data.csv')\n",
    "\n",
    "# Measurement Model\n",
    "measurements <- constructs(\n",
    "  reflective(\"Chair\", c(\"q185h\", \"q185i\", \"q185j\", \"q185k\", \"q215l\", \"q185l\")),\n",
    "  reflective(\"Depfeed\", c(\"q215a\", \"q215b\", \"q215d\", \"q215i\")),\n",
    "  reflective(\"Instsup\", c( \"q90c\", \"q90d\", \"q90e\", \"q90f\", \"q90h\")),\n",
    "  reflective(\"Related\", c(\"q195a\", \"q195b\", \"q195e\", \"q205a\", \"q205d\", \"q205c\", \"q210c\", \"q212a\")),\n",
    "\n",
    "  reflective(\"Autonomy\", c(\"q60c\", \"q60d\", \"q70c\", \"q70h\",\"q60a\")),\n",
    "  \n",
    "  reflective(\"Global\", c(\"q245d\", \"q250a\", \"q250b\"))\n",
    ")\n",
    "\n",
    "# Structural Model\n",
    "structure <- relationships(\n",
    "  paths(from = c(\"Chair\", \"Depfeed\", \"Instsup\"),\n",
    "        to = c(\"Related\", \"Autonomy\")),\n",
    "  paths(from = c(\"Autonomy\", \"Related\"),\n",
    "        to = c(\"Global\"))\n",
    ")\n",
    "\n",
    "# Estimate the SEM model\n",
    "pls_model <- estimate_pls(data = data, measurement_model = measurements, structural_model = structure)\n",
    "\n",
    "summary <- summary(pls_model)\n",
    "\n",
    "boot_model <- bootstrap_model(pls_model, nboot = 10000, cores = parallel::detectCores(), seed = 123)\n",
    "\n",
    "summary_mediated_boot <- summary(boot_model, alpha = 0.05)\n",
    "\n"
   ]
  },
  {
   "cell_type": "code",
   "execution_count": 5,
   "metadata": {
    "vscode": {
     "languageId": "r"
    }
   },
   "outputs": [
    {
     "data": {
      "text/html": [
       "<table class=\"dataframe\">\n",
       "<caption>A matrix: 6 x 6 of type dbl</caption>\n",
       "<thead>\n",
       "\t<tr><th></th><th scope=col>Chair</th><th scope=col>Depfeed</th><th scope=col>Instsup</th><th scope=col>Autonomy</th><th scope=col>Related</th><th scope=col>Global</th></tr>\n",
       "</thead>\n",
       "<tbody>\n",
       "\t<tr><th scope=row>Chair</th><td>0</td><td>0</td><td>0</td><td>0</td><td>0</td><td>0.2426349</td></tr>\n",
       "\t<tr><th scope=row>Depfeed</th><td>0</td><td>0</td><td>0</td><td>0</td><td>0</td><td>0.4472170</td></tr>\n",
       "\t<tr><th scope=row>Instsup</th><td>0</td><td>0</td><td>0</td><td>0</td><td>0</td><td>0.1854283</td></tr>\n",
       "\t<tr><th scope=row>Autonomy</th><td>0</td><td>0</td><td>0</td><td>0</td><td>0</td><td>0.0000000</td></tr>\n",
       "\t<tr><th scope=row>Related</th><td>0</td><td>0</td><td>0</td><td>0</td><td>0</td><td>0.0000000</td></tr>\n",
       "\t<tr><th scope=row>Global</th><td>0</td><td>0</td><td>0</td><td>0</td><td>0</td><td>0.0000000</td></tr>\n",
       "</tbody>\n",
       "</table>\n"
      ],
      "text/latex": [
       "A matrix: 6 x 6 of type dbl\n",
       "\\begin{tabular}{r|llllll}\n",
       "  & Chair & Depfeed & Instsup & Autonomy & Related & Global\\\\\n",
       "\\hline\n",
       "\tChair & 0 & 0 & 0 & 0 & 0 & 0.2426349\\\\\n",
       "\tDepfeed & 0 & 0 & 0 & 0 & 0 & 0.4472170\\\\\n",
       "\tInstsup & 0 & 0 & 0 & 0 & 0 & 0.1854283\\\\\n",
       "\tAutonomy & 0 & 0 & 0 & 0 & 0 & 0.0000000\\\\\n",
       "\tRelated & 0 & 0 & 0 & 0 & 0 & 0.0000000\\\\\n",
       "\tGlobal & 0 & 0 & 0 & 0 & 0 & 0.0000000\\\\\n",
       "\\end{tabular}\n"
      ],
      "text/markdown": [
       "\n",
       "A matrix: 6 x 6 of type dbl\n",
       "\n",
       "| <!--/--> | Chair | Depfeed | Instsup | Autonomy | Related | Global |\n",
       "|---|---|---|---|---|---|---|\n",
       "| Chair | 0 | 0 | 0 | 0 | 0 | 0.2426349 |\n",
       "| Depfeed | 0 | 0 | 0 | 0 | 0 | 0.4472170 |\n",
       "| Instsup | 0 | 0 | 0 | 0 | 0 | 0.1854283 |\n",
       "| Autonomy | 0 | 0 | 0 | 0 | 0 | 0.0000000 |\n",
       "| Related | 0 | 0 | 0 | 0 | 0 | 0.0000000 |\n",
       "| Global | 0 | 0 | 0 | 0 | 0 | 0.0000000 |\n",
       "\n"
      ],
      "text/plain": [
       "         Chair Depfeed Instsup Autonomy Related Global   \n",
       "Chair    0     0       0       0        0       0.2426349\n",
       "Depfeed  0     0       0       0        0       0.4472170\n",
       "Instsup  0     0       0       0        0       0.1854283\n",
       "Autonomy 0     0       0       0        0       0.0000000\n",
       "Related  0     0       0       0        0       0.0000000\n",
       "Global   0     0       0       0        0       0.0000000"
      ]
     },
     "metadata": {},
     "output_type": "display_data"
    }
   ],
   "source": [
    "summary$total_indirect_effects"
   ]
  },
  {
   "cell_type": "markdown",
   "metadata": {},
   "source": [
    "Chair -> Autonomy > Global"
   ]
  },
  {
   "cell_type": "code",
   "execution_count": 34,
   "metadata": {
    "vscode": {
     "languageId": "r"
    }
   },
   "outputs": [
    {
     "data": {
      "text/html": [
       "<style>\n",
       ".dl-inline {width: auto; margin:0; padding: 0}\n",
       ".dl-inline>dt, .dl-inline>dd {float: none; width: auto; display: inline-block}\n",
       ".dl-inline>dt::after {content: \":\\0020\"; padding-right: .5ex}\n",
       ".dl-inline>dt:not(:first-of-type) {padding-left: .5ex}\n",
       "</style><dl class=dl-inline><dt>Original Est.</dt><dd>0.0751080354481558</dd><dt>Bootstrap Mean</dt><dd>0.0749514228244916</dd><dt>Bootstrap SD</dt><dd>0.0164941270102263</dd><dt>T Stat.</dt><dd>4.55362295934723</dd><dt>2.5% CI</dt><dd>0.0448484834436973</dd><dt>97.5% CI</dt><dd>0.109229858384249</dd></dl>\n"
      ],
      "text/latex": [
       "\\begin{description*}\n",
       "\\item[Original Est.] 0.0751080354481558\n",
       "\\item[Bootstrap Mean] 0.0749514228244916\n",
       "\\item[Bootstrap SD] 0.0164941270102263\n",
       "\\item[T Stat.] 4.55362295934723\n",
       "\\item[2.5\\textbackslash{}\\% CI] 0.0448484834436973\n",
       "\\item[97.5\\textbackslash{}\\% CI] 0.109229858384249\n",
       "\\end{description*}\n"
      ],
      "text/markdown": [
       "Original Est.\n",
       ":   0.0751080354481558Bootstrap Mean\n",
       ":   0.0749514228244916Bootstrap SD\n",
       ":   0.0164941270102263T Stat.\n",
       ":   4.553622959347232.5% CI\n",
       ":   0.044848483443697397.5% CI\n",
       ":   0.109229858384249\n",
       "\n"
      ],
      "text/plain": [
       " Original Est. Bootstrap Mean   Bootstrap SD        T Stat.        2.5% CI \n",
       "    0.07510804     0.07495142     0.01649413     4.55362296     0.04484848 \n",
       "      97.5% CI \n",
       "    0.10922986 "
      ]
     },
     "metadata": {},
     "output_type": "display_data"
    }
   ],
   "source": [
    "p3_p7 <- specific_effect_significance(boot_model, from = \"Chair\", through = \"Autonomy\", to = \"Global\", alpha = 0.05)\n",
    "p3_p7"
   ]
  },
  {
   "cell_type": "markdown",
   "metadata": {},
   "source": [
    "Chair -> Related > Global"
   ]
  },
  {
   "cell_type": "code",
   "execution_count": 35,
   "metadata": {
    "vscode": {
     "languageId": "r"
    }
   },
   "outputs": [
    {
     "data": {
      "text/html": [
       "<style>\n",
       ".dl-inline {width: auto; margin:0; padding: 0}\n",
       ".dl-inline>dt, .dl-inline>dd {float: none; width: auto; display: inline-block}\n",
       ".dl-inline>dt::after {content: \":\\0020\"; padding-right: .5ex}\n",
       ".dl-inline>dt:not(:first-of-type) {padding-left: .5ex}\n",
       "</style><dl class=dl-inline><dt>Original Est.</dt><dd>0.167526833843747</dd><dt>Bootstrap Mean</dt><dd>0.166937690268268</dd><dt>Bootstrap SD</dt><dd>0.0259887439840567</dd><dt>T Stat.</dt><dd>6.44613044580069</dd><dt>2.5% CI</dt><dd>0.117051969413152</dd><dt>97.5% CI</dt><dd>0.219489586763154</dd></dl>\n"
      ],
      "text/latex": [
       "\\begin{description*}\n",
       "\\item[Original Est.] 0.167526833843747\n",
       "\\item[Bootstrap Mean] 0.166937690268268\n",
       "\\item[Bootstrap SD] 0.0259887439840567\n",
       "\\item[T Stat.] 6.44613044580069\n",
       "\\item[2.5\\textbackslash{}\\% CI] 0.117051969413152\n",
       "\\item[97.5\\textbackslash{}\\% CI] 0.219489586763154\n",
       "\\end{description*}\n"
      ],
      "text/markdown": [
       "Original Est.\n",
       ":   0.167526833843747Bootstrap Mean\n",
       ":   0.166937690268268Bootstrap SD\n",
       ":   0.0259887439840567T Stat.\n",
       ":   6.446130445800692.5% CI\n",
       ":   0.11705196941315297.5% CI\n",
       ":   0.219489586763154\n",
       "\n"
      ],
      "text/plain": [
       " Original Est. Bootstrap Mean   Bootstrap SD        T Stat.        2.5% CI \n",
       "    0.16752683     0.16693769     0.02598874     6.44613045     0.11705197 \n",
       "      97.5% CI \n",
       "    0.21948959 "
      ]
     },
     "metadata": {},
     "output_type": "display_data"
    }
   ],
   "source": [
    "p4_p8 <- specific_effect_significance(boot_model, from = \"Chair\", through = \"Related\", to = \"Global\", alpha = 0.05)\n",
    "p4_p8"
   ]
  },
  {
   "cell_type": "markdown",
   "metadata": {},
   "source": [
    "Deepfeed -> Autonomy > Global"
   ]
  },
  {
   "cell_type": "code",
   "execution_count": 29,
   "metadata": {
    "vscode": {
     "languageId": "r"
    }
   },
   "outputs": [
    {
     "data": {
      "text/html": [
       "<style>\n",
       ".dl-inline {width: auto; margin:0; padding: 0}\n",
       ".dl-inline>dt, .dl-inline>dd {float: none; width: auto; display: inline-block}\n",
       ".dl-inline>dt::after {content: \":\\0020\"; padding-right: .5ex}\n",
       ".dl-inline>dt:not(:first-of-type) {padding-left: .5ex}\n",
       "</style><dl class=dl-inline><dt>Original Est.</dt><dd>0.0880025441016646</dd><dt>Bootstrap Mean</dt><dd>0.0881822567944053</dd><dt>Bootstrap SD</dt><dd>0.0202293425832172</dd><dt>T Stat.</dt><dd>4.35024241344719</dd><dt>2.5% CI</dt><dd>0.050955456730019</dd><dt>97.5% CI</dt><dd>0.130561372534854</dd></dl>\n"
      ],
      "text/latex": [
       "\\begin{description*}\n",
       "\\item[Original Est.] 0.0880025441016646\n",
       "\\item[Bootstrap Mean] 0.0881822567944053\n",
       "\\item[Bootstrap SD] 0.0202293425832172\n",
       "\\item[T Stat.] 4.35024241344719\n",
       "\\item[2.5\\textbackslash{}\\% CI] 0.050955456730019\n",
       "\\item[97.5\\textbackslash{}\\% CI] 0.130561372534854\n",
       "\\end{description*}\n"
      ],
      "text/markdown": [
       "Original Est.\n",
       ":   0.0880025441016646Bootstrap Mean\n",
       ":   0.0881822567944053Bootstrap SD\n",
       ":   0.0202293425832172T Stat.\n",
       ":   4.350242413447192.5% CI\n",
       ":   0.05095545673001997.5% CI\n",
       ":   0.130561372534854\n",
       "\n"
      ],
      "text/plain": [
       " Original Est. Bootstrap Mean   Bootstrap SD        T Stat.        2.5% CI \n",
       "    0.08800254     0.08818226     0.02022934     4.35024241     0.05095546 \n",
       "      97.5% CI \n",
       "    0.13056137 "
      ]
     },
     "metadata": {},
     "output_type": "display_data"
    }
   ],
   "source": [
    "p5_p7 <- specific_effect_significance(boot_model, from = \"Depfeed\", through = \"Autonomy\", to = \"Global\", alpha = 0.05)\n",
    "p5_p7"
   ]
  },
  {
   "cell_type": "markdown",
   "metadata": {},
   "source": [
    "Depfeed -> Relatedness > Global"
   ]
  },
  {
   "cell_type": "code",
   "execution_count": 30,
   "metadata": {
    "vscode": {
     "languageId": "r"
    }
   },
   "outputs": [
    {
     "data": {
      "text/html": [
       "<style>\n",
       ".dl-inline {width: auto; margin:0; padding: 0}\n",
       ".dl-inline>dt, .dl-inline>dd {float: none; width: auto; display: inline-block}\n",
       ".dl-inline>dt::after {content: \":\\0020\"; padding-right: .5ex}\n",
       ".dl-inline>dt:not(:first-of-type) {padding-left: .5ex}\n",
       "</style><dl class=dl-inline><dt>Original Est.</dt><dd>0.359214421174477</dd><dt>Bootstrap Mean</dt><dd>0.359289225066235</dd><dt>Bootstrap SD</dt><dd>0.0355869486023263</dd><dt>T Stat.</dt><dd>10.0939933116658</dd><dt>2.5% CI</dt><dd>0.292038381973067</dd><dt>97.5% CI</dt><dd>0.433052211810653</dd></dl>\n"
      ],
      "text/latex": [
       "\\begin{description*}\n",
       "\\item[Original Est.] 0.359214421174477\n",
       "\\item[Bootstrap Mean] 0.359289225066235\n",
       "\\item[Bootstrap SD] 0.0355869486023263\n",
       "\\item[T Stat.] 10.0939933116658\n",
       "\\item[2.5\\textbackslash{}\\% CI] 0.292038381973067\n",
       "\\item[97.5\\textbackslash{}\\% CI] 0.433052211810653\n",
       "\\end{description*}\n"
      ],
      "text/markdown": [
       "Original Est.\n",
       ":   0.359214421174477Bootstrap Mean\n",
       ":   0.359289225066235Bootstrap SD\n",
       ":   0.0355869486023263T Stat.\n",
       ":   10.09399331166582.5% CI\n",
       ":   0.29203838197306797.5% CI\n",
       ":   0.433052211810653\n",
       "\n"
      ],
      "text/plain": [
       " Original Est. Bootstrap Mean   Bootstrap SD        T Stat.        2.5% CI \n",
       "    0.35921442     0.35928923     0.03558695    10.09399331     0.29203838 \n",
       "      97.5% CI \n",
       "    0.43305221 "
      ]
     },
     "metadata": {},
     "output_type": "display_data"
    }
   ],
   "source": [
    "p6_p8 <- specific_effect_significance(boot_model, from = \"Depfeed\", through = \"Related\", to = \"Global\", alpha = 0.05)\n",
    "p6_p8"
   ]
  },
  {
   "cell_type": "markdown",
   "metadata": {},
   "source": [
    "Inst support   ->  Autonomy -> Global"
   ]
  },
  {
   "cell_type": "code",
   "execution_count": 31,
   "metadata": {
    "vscode": {
     "languageId": "r"
    }
   },
   "outputs": [
    {
     "data": {
      "text/html": [
       "<style>\n",
       ".dl-inline {width: auto; margin:0; padding: 0}\n",
       ".dl-inline>dt, .dl-inline>dd {float: none; width: auto; display: inline-block}\n",
       ".dl-inline>dt::after {content: \":\\0020\"; padding-right: .5ex}\n",
       ".dl-inline>dt:not(:first-of-type) {padding-left: .5ex}\n",
       "</style><dl class=dl-inline><dt>Original Est.</dt><dd>0.0912856437242918</dd><dt>Bootstrap Mean</dt><dd>0.0916914591522268</dd><dt>Bootstrap SD</dt><dd>0.0196410331762406</dd><dt>T Stat.</dt><dd>4.647700704193</dd><dt>2.5% CI</dt><dd>0.0549714376493684</dd><dt>97.5% CI</dt><dd>0.132169501533451</dd></dl>\n"
      ],
      "text/latex": [
       "\\begin{description*}\n",
       "\\item[Original Est.] 0.0912856437242918\n",
       "\\item[Bootstrap Mean] 0.0916914591522268\n",
       "\\item[Bootstrap SD] 0.0196410331762406\n",
       "\\item[T Stat.] 4.647700704193\n",
       "\\item[2.5\\textbackslash{}\\% CI] 0.0549714376493684\n",
       "\\item[97.5\\textbackslash{}\\% CI] 0.132169501533451\n",
       "\\end{description*}\n"
      ],
      "text/markdown": [
       "Original Est.\n",
       ":   0.0912856437242918Bootstrap Mean\n",
       ":   0.0916914591522268Bootstrap SD\n",
       ":   0.0196410331762406T Stat.\n",
       ":   4.6477007041932.5% CI\n",
       ":   0.054971437649368497.5% CI\n",
       ":   0.132169501533451\n",
       "\n"
      ],
      "text/plain": [
       " Original Est. Bootstrap Mean   Bootstrap SD        T Stat.        2.5% CI \n",
       "    0.09128564     0.09169146     0.01964103     4.64770070     0.05497144 \n",
       "      97.5% CI \n",
       "    0.13216950 "
      ]
     },
     "metadata": {},
     "output_type": "display_data"
    }
   ],
   "source": [
    "p1_p7 <- specific_effect_significance(boot_model, from = \"Instsup\", through = \"Autonomy\", to = \"Global\", alpha = 0.05)\n",
    "p1_p7"
   ]
  },
  {
   "cell_type": "markdown",
   "metadata": {},
   "source": [
    "Inst support ->  Relatedness -> Global"
   ]
  },
  {
   "cell_type": "code",
   "execution_count": 33,
   "metadata": {
    "vscode": {
     "languageId": "r"
    }
   },
   "outputs": [
    {
     "data": {
      "text/html": [
       "<style>\n",
       ".dl-inline {width: auto; margin:0; padding: 0}\n",
       ".dl-inline>dt, .dl-inline>dd {float: none; width: auto; display: inline-block}\n",
       ".dl-inline>dt::after {content: \":\\0020\"; padding-right: .5ex}\n",
       ".dl-inline>dt:not(:first-of-type) {padding-left: .5ex}\n",
       "</style><dl class=dl-inline><dt>Original Est.</dt><dd>0.0941426468997421</dd><dt>Bootstrap Mean</dt><dd>0.0949747622709734</dd><dt>Bootstrap SD</dt><dd>0.0265784737104241</dd><dt>T Stat.</dt><dd>3.54206369882027</dd><dt>2.5% CI</dt><dd>0.0449854154357715</dd><dt>97.5% CI</dt><dd>0.148881380194873</dd></dl>\n"
      ],
      "text/latex": [
       "\\begin{description*}\n",
       "\\item[Original Est.] 0.0941426468997421\n",
       "\\item[Bootstrap Mean] 0.0949747622709734\n",
       "\\item[Bootstrap SD] 0.0265784737104241\n",
       "\\item[T Stat.] 3.54206369882027\n",
       "\\item[2.5\\textbackslash{}\\% CI] 0.0449854154357715\n",
       "\\item[97.5\\textbackslash{}\\% CI] 0.148881380194873\n",
       "\\end{description*}\n"
      ],
      "text/markdown": [
       "Original Est.\n",
       ":   0.0941426468997421Bootstrap Mean\n",
       ":   0.0949747622709734Bootstrap SD\n",
       ":   0.0265784737104241T Stat.\n",
       ":   3.542063698820272.5% CI\n",
       ":   0.044985415435771597.5% CI\n",
       ":   0.148881380194873\n",
       "\n"
      ],
      "text/plain": [
       " Original Est. Bootstrap Mean   Bootstrap SD        T Stat.        2.5% CI \n",
       "    0.09414265     0.09497476     0.02657847     3.54206370     0.04498542 \n",
       "      97.5% CI \n",
       "    0.14888138 "
      ]
     },
     "metadata": {},
     "output_type": "display_data"
    }
   ],
   "source": [
    "p2_p8 <- specific_effect_significance(boot_model, from = \"Instsup\", through = \"Related\", to = \"Global\", alpha = 0.05)\n",
    "p2_p8"
   ]
  },
  {
   "cell_type": "code",
   "execution_count": 11,
   "metadata": {
    "vscode": {
     "languageId": "r"
    }
   },
   "outputs": [
    {
     "data": {
      "text/html": [
       "<table class=\"dataframe\">\n",
       "<caption>A matrix: 8 x 6 of type dbl</caption>\n",
       "<thead>\n",
       "\t<tr><th></th><th scope=col>Original Est.</th><th scope=col>Bootstrap Mean</th><th scope=col>Bootstrap SD</th><th scope=col>T Stat.</th><th scope=col>2.5% CI</th><th scope=col>97.5% CI</th></tr>\n",
       "</thead>\n",
       "<tbody>\n",
       "\t<tr><th scope=row><span style=white-space:pre-wrap>Chair  -&gt;  Autonomy</span></th><td>0.2905695</td><td>0.2900992</td><td>0.03905451</td><td> 7.440100</td><td>0.21198478</td><td>0.3663839</td></tr>\n",
       "\t<tr><th scope=row><span style=white-space:pre-wrap>Chair  -&gt;  Related</span></th><td>0.2572787</td><td>0.2564556</td><td>0.03681357</td><td> 6.988693</td><td>0.18378391</td><td>0.3287389</td></tr>\n",
       "\t<tr><th scope=row><span style=white-space:pre-wrap>Depfeed  -&gt;  Autonomy</span></th><td>0.3404543</td><td>0.3406233</td><td>0.04643100</td><td> 7.332479</td><td>0.24963575</td><td>0.4315385</td></tr>\n",
       "\t<tr><th scope=row><span style=white-space:pre-wrap>Depfeed  -&gt;  Related</span></th><td>0.5516622</td><td>0.5517333</td><td>0.04081757</td><td>13.515313</td><td>0.47179134</td><td>0.6305988</td></tr>\n",
       "\t<tr><th scope=row><span style=white-space:pre-wrap>Instsup  -&gt;  Autonomy</span></th><td>0.3531556</td><td>0.3541312</td><td>0.03879425</td><td> 9.103296</td><td>0.27778287</td><td>0.4305133</td></tr>\n",
       "\t<tr><th scope=row><span style=white-space:pre-wrap>Instsup  -&gt;  Related</span></th><td>0.1445792</td><td>0.1454244</td><td>0.03808497</td><td> 3.796228</td><td>0.07135233</td><td>0.2204007</td></tr>\n",
       "\t<tr><th scope=row><span style=white-space:pre-wrap>Autonomy  -&gt;  Global</span></th><td>0.2584856</td><td>0.2585047</td><td>0.04532676</td><td> 5.702716</td><td>0.16897880</td><td>0.3464129</td></tr>\n",
       "\t<tr><th scope=row><span style=white-space:pre-wrap>Related  -&gt;  Global</span></th><td>0.6511492</td><td>0.6511719</td><td>0.04230374</td><td>15.392238</td><td>0.56772473</td><td>0.7337105</td></tr>\n",
       "</tbody>\n",
       "</table>\n"
      ],
      "text/latex": [
       "A matrix: 8 x 6 of type dbl\n",
       "\\begin{tabular}{r|llllll}\n",
       "  & Original Est. & Bootstrap Mean & Bootstrap SD & T Stat. & 2.5\\% CI & 97.5\\% CI\\\\\n",
       "\\hline\n",
       "\tChair  ->  Autonomy & 0.2905695 & 0.2900992 & 0.03905451 &  7.440100 & 0.21198478 & 0.3663839\\\\\n",
       "\tChair  ->  Related & 0.2572787 & 0.2564556 & 0.03681357 &  6.988693 & 0.18378391 & 0.3287389\\\\\n",
       "\tDepfeed  ->  Autonomy & 0.3404543 & 0.3406233 & 0.04643100 &  7.332479 & 0.24963575 & 0.4315385\\\\\n",
       "\tDepfeed  ->  Related & 0.5516622 & 0.5517333 & 0.04081757 & 13.515313 & 0.47179134 & 0.6305988\\\\\n",
       "\tInstsup  ->  Autonomy & 0.3531556 & 0.3541312 & 0.03879425 &  9.103296 & 0.27778287 & 0.4305133\\\\\n",
       "\tInstsup  ->  Related & 0.1445792 & 0.1454244 & 0.03808497 &  3.796228 & 0.07135233 & 0.2204007\\\\\n",
       "\tAutonomy  ->  Global & 0.2584856 & 0.2585047 & 0.04532676 &  5.702716 & 0.16897880 & 0.3464129\\\\\n",
       "\tRelated  ->  Global & 0.6511492 & 0.6511719 & 0.04230374 & 15.392238 & 0.56772473 & 0.7337105\\\\\n",
       "\\end{tabular}\n"
      ],
      "text/markdown": [
       "\n",
       "A matrix: 8 x 6 of type dbl\n",
       "\n",
       "| <!--/--> | Original Est. | Bootstrap Mean | Bootstrap SD | T Stat. | 2.5% CI | 97.5% CI |\n",
       "|---|---|---|---|---|---|---|\n",
       "| Chair  -&gt;  Autonomy | 0.2905695 | 0.2900992 | 0.03905451 |  7.440100 | 0.21198478 | 0.3663839 |\n",
       "| Chair  -&gt;  Related | 0.2572787 | 0.2564556 | 0.03681357 |  6.988693 | 0.18378391 | 0.3287389 |\n",
       "| Depfeed  -&gt;  Autonomy | 0.3404543 | 0.3406233 | 0.04643100 |  7.332479 | 0.24963575 | 0.4315385 |\n",
       "| Depfeed  -&gt;  Related | 0.5516622 | 0.5517333 | 0.04081757 | 13.515313 | 0.47179134 | 0.6305988 |\n",
       "| Instsup  -&gt;  Autonomy | 0.3531556 | 0.3541312 | 0.03879425 |  9.103296 | 0.27778287 | 0.4305133 |\n",
       "| Instsup  -&gt;  Related | 0.1445792 | 0.1454244 | 0.03808497 |  3.796228 | 0.07135233 | 0.2204007 |\n",
       "| Autonomy  -&gt;  Global | 0.2584856 | 0.2585047 | 0.04532676 |  5.702716 | 0.16897880 | 0.3464129 |\n",
       "| Related  -&gt;  Global | 0.6511492 | 0.6511719 | 0.04230374 | 15.392238 | 0.56772473 | 0.7337105 |\n",
       "\n"
      ],
      "text/plain": [
       "                      Original Est. Bootstrap Mean Bootstrap SD T Stat.  \n",
       "Chair  ->  Autonomy   0.2905695     0.2900992      0.03905451    7.440100\n",
       "Chair  ->  Related    0.2572787     0.2564556      0.03681357    6.988693\n",
       "Depfeed  ->  Autonomy 0.3404543     0.3406233      0.04643100    7.332479\n",
       "Depfeed  ->  Related  0.5516622     0.5517333      0.04081757   13.515313\n",
       "Instsup  ->  Autonomy 0.3531556     0.3541312      0.03879425    9.103296\n",
       "Instsup  ->  Related  0.1445792     0.1454244      0.03808497    3.796228\n",
       "Autonomy  ->  Global  0.2584856     0.2585047      0.04532676    5.702716\n",
       "Related  ->  Global   0.6511492     0.6511719      0.04230374   15.392238\n",
       "                      2.5% CI    97.5% CI \n",
       "Chair  ->  Autonomy   0.21198478 0.3663839\n",
       "Chair  ->  Related    0.18378391 0.3287389\n",
       "Depfeed  ->  Autonomy 0.24963575 0.4315385\n",
       "Depfeed  ->  Related  0.47179134 0.6305988\n",
       "Instsup  ->  Autonomy 0.27778287 0.4305133\n",
       "Instsup  ->  Related  0.07135233 0.2204007\n",
       "Autonomy  ->  Global  0.16897880 0.3464129\n",
       "Related  ->  Global   0.56772473 0.7337105"
      ]
     },
     "metadata": {},
     "output_type": "display_data"
    }
   ],
   "source": [
    "summary_mediated_boot$bootstrapped_paths"
   ]
  },
  {
   "cell_type": "code",
   "execution_count": 26,
   "metadata": {
    "vscode": {
     "languageId": "r"
    }
   },
   "outputs": [],
   "source": [
    "write.csv(x = summary_mediated_boot$bootstrapped_total_paths, file = \"mediation.csv\" )"
   ]
  }
 ],
 "metadata": {
  "kernelspec": {
   "display_name": "R",
   "language": "R",
   "name": "ir"
  },
  "language_info": {
   "codemirror_mode": "r",
   "file_extension": ".r",
   "mimetype": "text/x-r-source",
   "name": "R",
   "pygments_lexer": "r",
   "version": "4.2.2"
  }
 },
 "nbformat": 4,
 "nbformat_minor": 2
}
